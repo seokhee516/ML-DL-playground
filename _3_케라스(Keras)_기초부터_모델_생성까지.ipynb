{
  "nbformat": 4,
  "nbformat_minor": 0,
  "metadata": {
    "colab": {
      "name": "_3 케라스(Keras) 기초부터 모델 생성까지.ipynb",
      "provenance": [],
      "collapsed_sections": [],
      "include_colab_link": true
    },
    "kernelspec": {
      "name": "python3",
      "display_name": "Python 3"
    }
  },
  "cells": [
    {
      "cell_type": "markdown",
      "metadata": {
        "id": "view-in-github",
        "colab_type": "text"
      },
      "source": [
        "<a href=\"https://colab.research.google.com/github/seokhee516/ML-DL-playground/blob/main/_3_%EC%BC%80%EB%9D%BC%EC%8A%A4(Keras)_%EA%B8%B0%EC%B4%88%EB%B6%80%ED%84%B0_%EB%AA%A8%EB%8D%B8_%EC%83%9D%EC%84%B1%EA%B9%8C%EC%A7%80.ipynb\" target=\"_parent\"><img src=\"https://colab.research.google.com/assets/colab-badge.svg\" alt=\"Open In Colab\"/></a>"
      ]
    },
    {
      "cell_type": "markdown",
      "metadata": {
        "id": "YmY-0QeUYcaa"
      },
      "source": [
        "# 케라스(Keras) 기초부터 모델 생성까지\n",
        "\n",
        "<img src=\"https://s3.amazonaws.com/keras.io/img/keras-logo-2018-large-1200.png\">\n",
        "\n",
        "- 파이썬으로 작성된 고수준 신경망 API로 TensorFlow, CNTK, 혹은 Theano와 함께 사용 가능\n",
        "- 사용자 친화성, 모듈성, 확장성을 통해 빠르고 간편한 프로토타이핑 가능\n",
        "- 컨볼루션 신경망, 순환 신경망, 그리고 둘의 조합까지 모두 지원\n",
        "- CPU와 GPU에서 매끄럽게 실행"
      ]
    },
    {
      "cell_type": "code",
      "metadata": {
        "id": "qBkF9tvAbX08",
        "colab": {
          "base_uri": "https://localhost:8080/",
          "height": 35
        },
        "outputId": "32e86822-87d6-47d9-e334-4794331b069a"
      },
      "source": [
        "import numpy as np\n",
        "import tensorflow as tf\n",
        "\n",
        "tf.__version__"
      ],
      "execution_count": 1,
      "outputs": [
        {
          "output_type": "execute_result",
          "data": {
            "application/vnd.google.colaboratory.intrinsic+json": {
              "type": "string"
            },
            "text/plain": [
              "'2.7.0'"
            ]
          },
          "metadata": {},
          "execution_count": 1
        }
      ]
    },
    {
      "cell_type": "markdown",
      "metadata": {
        "id": "ih4Nb7nMbfMc"
      },
      "source": [
        "레이어들을 import하는 방식 (1)\n",
        "- 일일이 import 하지 않아도 됨\n",
        "\n",
        "- 코드가 다소 길어질 수 있음"
      ]
    },
    {
      "cell_type": "code",
      "metadata": {
        "id": "76J3cta0bd0e",
        "colab": {
          "base_uri": "https://localhost:8080/",
          "height": 35
        },
        "outputId": "3cace2dd-87f4-4264-9502-16b52e3eae6a"
      },
      "source": [
        "from tensorflow import keras\n",
        "\n",
        "keras.__version__"
      ],
      "execution_count": 2,
      "outputs": [
        {
          "output_type": "execute_result",
          "data": {
            "application/vnd.google.colaboratory.intrinsic+json": {
              "type": "string"
            },
            "text/plain": [
              "'2.7.0'"
            ]
          },
          "metadata": {},
          "execution_count": 2
        }
      ]
    },
    {
      "cell_type": "code",
      "metadata": {
        "id": "JZondHPTb6Vx",
        "colab": {
          "base_uri": "https://localhost:8080/"
        },
        "outputId": "892f11af-581e-4cfd-aeb3-f833102fb4f0"
      },
      "source": [
        "keras.layers.Dense(10, activation='sigmoid')"
      ],
      "execution_count": 3,
      "outputs": [
        {
          "output_type": "execute_result",
          "data": {
            "text/plain": [
              "<keras.layers.core.dense.Dense at 0x7fe1a496f150>"
            ]
          },
          "metadata": {},
          "execution_count": 3
        }
      ]
    },
    {
      "cell_type": "code",
      "metadata": {
        "id": "inaUuk6Nb84X",
        "colab": {
          "base_uri": "https://localhost:8080/"
        },
        "outputId": "00b529b2-00b1-45e3-9b87-10a9c2fa492d"
      },
      "source": [
        "keras.Model()"
      ],
      "execution_count": 4,
      "outputs": [
        {
          "output_type": "execute_result",
          "data": {
            "text/plain": [
              "<keras.engine.training.Model at 0x7fe1a4786f90>"
            ]
          },
          "metadata": {},
          "execution_count": 4
        }
      ]
    },
    {
      "cell_type": "code",
      "metadata": {
        "id": "NBNQZ7GxcF2H",
        "colab": {
          "base_uri": "https://localhost:8080/"
        },
        "outputId": "3dc4d0fd-79dc-4124-c78b-dced2dde6bb2"
      },
      "source": [
        "keras.models.Sequential()"
      ],
      "execution_count": 5,
      "outputs": [
        {
          "output_type": "execute_result",
          "data": {
            "text/plain": [
              "<keras.engine.sequential.Sequential at 0x7fe1a472f750>"
            ]
          },
          "metadata": {},
          "execution_count": 5
        }
      ]
    },
    {
      "cell_type": "markdown",
      "metadata": {
        "id": "XseyoEwjbrO-"
      },
      "source": [
        "레이어들을 import하는 방식 (2)\n",
        "- 일일이 import 해야함\n",
        "- 코드가 간결"
      ]
    },
    {
      "cell_type": "code",
      "metadata": {
        "id": "W8WLjvCZbwoF"
      },
      "source": [
        "from tensorflow.keras.layers import Dense, Input, Flatten, Activation\n",
        "from tensorflow.keras.models import Sequential\n",
        "from tensorflow.keras import Model"
      ],
      "execution_count": 9,
      "outputs": []
    },
    {
      "cell_type": "code",
      "metadata": {
        "id": "nYcV0CnVcWJO",
        "colab": {
          "base_uri": "https://localhost:8080/"
        },
        "outputId": "b4874434-7e3e-418a-a2bb-2954a677b4bb"
      },
      "source": [
        "Dense(10, activation='relu')"
      ],
      "execution_count": 10,
      "outputs": [
        {
          "output_type": "execute_result",
          "data": {
            "text/plain": [
              "<keras.layers.core.dense.Dense at 0x7fe1a1535b50>"
            ]
          },
          "metadata": {},
          "execution_count": 10
        }
      ]
    },
    {
      "cell_type": "code",
      "metadata": {
        "id": "RMd9TR6FcWDr",
        "colab": {
          "base_uri": "https://localhost:8080/"
        },
        "outputId": "df525ebb-ac9a-4e13-955e-41b7d827b452"
      },
      "source": [
        "Flatten(input_shape=[28,28])"
      ],
      "execution_count": 11,
      "outputs": [
        {
          "output_type": "execute_result",
          "data": {
            "text/plain": [
              "<keras.layers.core.flatten.Flatten at 0x7fe1a153e4d0>"
            ]
          },
          "metadata": {},
          "execution_count": 11
        }
      ]
    },
    {
      "cell_type": "code",
      "metadata": {
        "id": "8_Ho3qKbcjOr",
        "colab": {
          "base_uri": "https://localhost:8080/"
        },
        "outputId": "11067a2c-1bfb-43f0-c56a-e55240316d66"
      },
      "source": [
        "X_train = np.random.randn(5500, 2)\n",
        "Input(shape=X_train.shape[1:])"
      ],
      "execution_count": 12,
      "outputs": [
        {
          "output_type": "execute_result",
          "data": {
            "text/plain": [
              "<KerasTensor: shape=(None, 2) dtype=float32 (created by layer 'input_1')>"
            ]
          },
          "metadata": {},
          "execution_count": 12
        }
      ]
    },
    {
      "cell_type": "markdown",
      "metadata": {
        "id": "1Qz5gkr70p12"
      },
      "source": [
        "## 주요 레이어"
      ]
    },
    {
      "cell_type": "markdown",
      "metadata": {
        "id": "Vl0XJyRvbNh5"
      },
      "source": [
        "### Dense\n",
        "- Fully-Connected Layer\n",
        "\n",
        "- 노드수(유닛수), 활성화 함수 등을 지정\n",
        "\n",
        "- name을 통한 레이어간 구분 가능\n",
        "\n",
        "- 기본적으로  \n",
        "  'Glorot_uniform' 가중치, Xavier 초기화, zeros bias로 초기화\n",
        "  - kernel_initializer 인자를 통해 다른 가중치 초기화를 진행할 수 있음"
      ]
    },
    {
      "cell_type": "code",
      "metadata": {
        "id": "0By3apmYYe31"
      },
      "source": [
        "dense = Dense(10, activation='relu', name='Dense Layer')"
      ],
      "execution_count": 13,
      "outputs": []
    },
    {
      "cell_type": "code",
      "metadata": {
        "id": "KUAMqoGNd9gq",
        "colab": {
          "base_uri": "https://localhost:8080/"
        },
        "outputId": "9d6a25e3-26e9-4bd8-f3a1-800d3946fb79"
      },
      "source": [
        "dense"
      ],
      "execution_count": 14,
      "outputs": [
        {
          "output_type": "execute_result",
          "data": {
            "text/plain": [
              "<keras.layers.core.dense.Dense at 0x7fe19d704d50>"
            ]
          },
          "metadata": {},
          "execution_count": 14
        }
      ]
    },
    {
      "cell_type": "code",
      "metadata": {
        "id": "nhb-kQGzhJWC"
      },
      "source": [
        "dense2 = Dense(15, activation='softmax')"
      ],
      "execution_count": 15,
      "outputs": []
    },
    {
      "cell_type": "code",
      "metadata": {
        "id": "IF_zVkbnhJPz",
        "colab": {
          "base_uri": "https://localhost:8080/"
        },
        "outputId": "f146182a-3bda-4409-f270-ccc5441c4c3e"
      },
      "source": [
        "dense2"
      ],
      "execution_count": 16,
      "outputs": [
        {
          "output_type": "execute_result",
          "data": {
            "text/plain": [
              "<keras.layers.core.dense.Dense at 0x7fe19d7f7090>"
            ]
          },
          "metadata": {},
          "execution_count": 16
        }
      ]
    },
    {
      "cell_type": "markdown",
      "metadata": {
        "id": "v6kPbw7ZJ0W5"
      },
      "source": [
        "### Activation\n",
        "- Dense layer에서 미리 활성화함수를 지정할 수도 있지만 때에 따라서 따로 레이어를 만들어줄 수 있음"
      ]
    },
    {
      "cell_type": "code",
      "metadata": {
        "id": "71iUDTGUJ8vu",
        "colab": {
          "base_uri": "https://localhost:8080/"
        },
        "outputId": "dfc64c81-d882-43af-faf2-07db33484c60"
      },
      "source": [
        "dense = Dense(10, kernel_initializer='he_normal', name='Dense Layer')\n",
        "dense = Activation(dense)\n",
        "dense"
      ],
      "execution_count": 17,
      "outputs": [
        {
          "output_type": "execute_result",
          "data": {
            "text/plain": [
              "<keras.layers.core.activation.Activation at 0x7fe19d802a50>"
            ]
          },
          "metadata": {},
          "execution_count": 17
        }
      ]
    },
    {
      "cell_type": "markdown",
      "metadata": {
        "id": "NYDu0hcJejJh"
      },
      "source": [
        "### Flatten\n",
        "- 배치 크기(또는 데이터 크기)를 제외하고 데이터를 1차원으로 쭉 펼치는 작업\n",
        "\n",
        "- 예시)\n",
        "        (128, 3, 2, 2) ---> (128, 12)\n",
        "      "
      ]
    },
    {
      "cell_type": "code",
      "metadata": {
        "id": "3HzBfkjRd-dN",
        "colab": {
          "base_uri": "https://localhost:8080/"
        },
        "outputId": "e472767c-530d-4458-e639-3c65c6a74c1a"
      },
      "source": [
        "Flatten(input_shape = (28,28))"
      ],
      "execution_count": 18,
      "outputs": [
        {
          "output_type": "execute_result",
          "data": {
            "text/plain": [
              "<keras.layers.core.flatten.Flatten at 0x7fe19d761e10>"
            ]
          },
          "metadata": {},
          "execution_count": 18
        }
      ]
    },
    {
      "cell_type": "markdown",
      "metadata": {
        "id": "gREcwh2cg1Zc"
      },
      "source": [
        "### Input \n",
        "- 모델의 입력을 정의\n",
        "\n",
        "- shape, dtype을 포함\n",
        "\n",
        "- 하나의 모델은 여러 개의 입력을 가질 수 있음\n",
        "\n",
        "- `summary()` 메소드를 통해서는 보이지 않음"
      ]
    },
    {
      "cell_type": "code",
      "metadata": {
        "id": "2_kWKUMUefMf"
      },
      "source": [
        "input_1 = Input(shape=(28,28), dtype=tf.float32)\n",
        "input_2 = Input(shape=(8,), dtype=tf.int32)"
      ],
      "execution_count": 20,
      "outputs": []
    },
    {
      "cell_type": "code",
      "metadata": {
        "id": "1ErOXHCgh6gq",
        "colab": {
          "base_uri": "https://localhost:8080/"
        },
        "outputId": "36c094d2-8898-4bdf-f889-678428a91fe2"
      },
      "source": [
        "input_1"
      ],
      "execution_count": 21,
      "outputs": [
        {
          "output_type": "execute_result",
          "data": {
            "text/plain": [
              "<KerasTensor: shape=(None, 28, 28) dtype=float32 (created by layer 'input_3')>"
            ]
          },
          "metadata": {},
          "execution_count": 21
        }
      ]
    },
    {
      "cell_type": "code",
      "metadata": {
        "id": "ic2vspIbh87y",
        "colab": {
          "base_uri": "https://localhost:8080/"
        },
        "outputId": "24ffc2dd-7d2d-4b25-dc19-a20806cf5173"
      },
      "source": [
        "input_2 "
      ],
      "execution_count": 22,
      "outputs": [
        {
          "output_type": "execute_result",
          "data": {
            "text/plain": [
              "<KerasTensor: shape=(None, 8) dtype=int32 (created by layer 'input_4')>"
            ]
          },
          "metadata": {},
          "execution_count": 22
        }
      ]
    },
    {
      "cell_type": "markdown",
      "metadata": {
        "id": "_BMMAUoKjVC6"
      },
      "source": [
        "## 모델 구성 방법\n",
        "- Sequential()\n",
        "\n",
        "- 서브클래싱(Subclassing)\n",
        "\n",
        "- 함수형 API"
      ]
    },
    {
      "cell_type": "markdown",
      "metadata": {
        "id": "QckCD5TQjubf"
      },
      "source": [
        "### Sequential()\n",
        "\n",
        "- 모델이 순차적으로 진행할 때 사용\n",
        "\n",
        "- 간단한 방법\n",
        "  - Sequential 객체 생성 후, **add**를 통한 방법\n",
        "  \n",
        "  - Sequential 인자에 한번에 추가\n",
        "\n",
        "- 다중 입력 및 출력이 존재하는 등의 복잡한 모델을 구성할 수 없음\n"
      ]
    },
    {
      "cell_type": "code",
      "metadata": {
        "id": "0TaLg9w4h9_Z"
      },
      "source": [
        "from tensorflow.keras.layers import Dense, Input, Flatten\n",
        "from tensorflow.keras.models import Sequential, Model\n",
        "from tensorflow.keras.utils import plot_model"
      ],
      "execution_count": 23,
      "outputs": []
    },
    {
      "cell_type": "code",
      "metadata": {
        "id": "AaZWV6DckLz-"
      },
      "source": [
        "model = Sequential()\n",
        "model.add(Input(shape=(28,28)))\n",
        "model.add(Dense(300, activation='relu'))\n",
        "model.add(Dense(100, activation='relu'))\n",
        "model.add(Dense(10, activation='softmax'))"
      ],
      "execution_count": 24,
      "outputs": []
    },
    {
      "cell_type": "markdown",
      "metadata": {
        "id": "uPelUwFwk-ap"
      },
      "source": [
        "모델 구조 확인\n",
        "- model 객체의 **summary()** 이용"
      ]
    },
    {
      "cell_type": "code",
      "metadata": {
        "id": "11qLpBoRkVd6",
        "colab": {
          "base_uri": "https://localhost:8080/"
        },
        "outputId": "81eea189-716a-4406-d73f-f5f1970ce9bc"
      },
      "source": [
        "model.summary()"
      ],
      "execution_count": 25,
      "outputs": [
        {
          "output_type": "stream",
          "name": "stdout",
          "text": [
            "Model: \"sequential_1\"\n",
            "_________________________________________________________________\n",
            " Layer (type)                Output Shape              Param #   \n",
            "=================================================================\n",
            " dense_3 (Dense)             (None, 28, 300)           8700      \n",
            "                                                                 \n",
            " dense_4 (Dense)             (None, 28, 100)           30100     \n",
            "                                                                 \n",
            " dense_5 (Dense)             (None, 28, 10)            1010      \n",
            "                                                                 \n",
            "=================================================================\n",
            "Total params: 39,810\n",
            "Trainable params: 39,810\n",
            "Non-trainable params: 0\n",
            "_________________________________________________________________\n"
          ]
        }
      ]
    },
    {
      "cell_type": "code",
      "metadata": {
        "id": "4AO6KrJzlAwh",
        "colab": {
          "base_uri": "https://localhost:8080/",
          "height": 368
        },
        "outputId": "3645df17-555c-4cbc-b852-42bbc184bff8"
      },
      "source": [
        "plot_model(model)"
      ],
      "execution_count": 26,
      "outputs": [
        {
          "output_type": "execute_result",
          "data": {
            "image/png": "[encoded data removed]",
            "text/plain": [
              "<IPython.core.display.Image object>"
            ]
          },
          "metadata": {},
          "execution_count": 26
        }
      ]
    },
    {
      "cell_type": "code",
      "metadata": {
        "id": "ezAsiEPhJWsU",
        "colab": {
          "base_uri": "https://localhost:8080/",
          "height": 368
        },
        "outputId": "95a232c6-3f22-47db-b5c6-44037b671f14"
      },
      "source": [
        "plot_model(model, to_file='modle1.png')"
      ],
      "execution_count": 27,
      "outputs": [
        {
          "output_type": "execute_result",
          "data": {
            "image/png": "[encoded data removed]",
            "text/plain": [
              "<IPython.core.display.Image object>"
            ]
          },
          "metadata": {},
          "execution_count": 27
        }
      ]
    },
    {
      "cell_type": "code",
      "metadata": {
        "id": "ktw3lIKKlDx5",
        "colab": {
          "base_uri": "https://localhost:8080/"
        },
        "outputId": "b3d0c6ea-1d28-46ae-c75f-68a6d1dbb39b"
      },
      "source": [
        "!ls"
      ],
      "execution_count": 28,
      "outputs": [
        {
          "output_type": "stream",
          "name": "stdout",
          "text": [
            "model.png  modle1.png  sample_data\n"
          ]
        }
      ]
    },
    {
      "cell_type": "code",
      "metadata": {
        "id": "SqNs_lvWlrfg"
      },
      "source": [
        "model = Sequential([\n",
        "  Input(shape=(28,28), name=\"Input\"),\n",
        "  Dense(300, activation='relu', name='Dense1'),\n",
        "  Dense(100, activation='relu', name='Dense2'),\n",
        "  Dense(10, activation='softmax', name='Output')\n",
        "  ])"
      ],
      "execution_count": 32,
      "outputs": []
    },
    {
      "cell_type": "code",
      "metadata": {
        "id": "ePBTYE0FltI_",
        "colab": {
          "base_uri": "https://localhost:8080/"
        },
        "outputId": "f8bafc75-fa08-4463-e8ed-254dc17eae3e"
      },
      "source": [
        "model.summary()"
      ],
      "execution_count": 30,
      "outputs": [
        {
          "output_type": "stream",
          "name": "stdout",
          "text": [
            "Model: \"sequential_2\"\n",
            "_________________________________________________________________\n",
            " Layer (type)                Output Shape              Param #   \n",
            "=================================================================\n",
            " Dense1 (Dense)              (None, 28, 300)           8700      \n",
            "                                                                 \n",
            " Dense2 (Dense)              (None, 28, 100)           30100     \n",
            "                                                                 \n",
            " Ouput (Dense)               (None, 28, 10)            1010      \n",
            "                                                                 \n",
            "=================================================================\n",
            "Total params: 39,810\n",
            "Trainable params: 39,810\n",
            "Non-trainable params: 0\n",
            "_________________________________________________________________\n"
          ]
        }
      ]
    },
    {
      "cell_type": "code",
      "metadata": {
        "id": "ohU5iTldJOXT",
        "colab": {
          "base_uri": "https://localhost:8080/",
          "height": 368
        },
        "outputId": "c885ce44-3ac5-42d4-abda-40dd1b4647b3"
      },
      "source": [
        "plot_model(model)"
      ],
      "execution_count": 33,
      "outputs": [
        {
          "output_type": "execute_result",
          "data": {
            "image/png": "[encoded data removed]",
            "text/plain": [
              "<IPython.core.display.Image object>"
            ]
          },
          "metadata": {},
          "execution_count": 33
        }
      ]
    },
    {
      "cell_type": "code",
      "source": [
        "plot_model(model, to_file='modle2.png')"
      ],
      "metadata": {
        "id": "xXz0T4LXqMz7",
        "outputId": "17a0b546-b02c-4376-c001-e3877447c6e6",
        "colab": {
          "base_uri": "https://localhost:8080/",
          "height": 368
        }
      },
      "execution_count": 34,
      "outputs": [
        {
          "output_type": "execute_result",
          "data": {
            "image/png": "[encoded data removed]",
            "text/plain": [
              "<IPython.core.display.Image object>"
            ]
          },
          "metadata": {},
          "execution_count": 34
        }
      ]
    },
    {
      "cell_type": "markdown",
      "metadata": {
        "id": "ZM04XyfbrBpX"
      },
      "source": [
        "### 함수형 API\n",
        "\n",
        "- 가장 권장되는 방법\n",
        "\n",
        "- 모델을 복잡하고, 유연하게 구성 가능\n",
        "\n",
        "- 다중 입출력을 다룰 수 있음"
      ]
    },
    {
      "cell_type": "code",
      "metadata": {
        "id": "0XjcLyjetLdh"
      },
      "source": [
        "from tensorflow.keras.models import Model\n",
        "from tensorflow.keras.layers import Input, Flatten, Dense\n",
        "from tensorflow.keras.utils import plot_model"
      ],
      "execution_count": 37,
      "outputs": []
    },
    {
      "cell_type": "code",
      "metadata": {
        "id": "IvJZX1mbtZNm"
      },
      "source": [
        "inputs = Input(shape=(28,28,1))\n",
        "\n",
        "x = Flatten(input_shape=(28, 28, 1))(inputs)\n",
        "x = Dense(300, activation='relu')(x)\n",
        "x = Dense(100, activation='relu')(x)\n",
        "x = Dense(10, activation='softmax')(x)"
      ],
      "execution_count": 47,
      "outputs": []
    },
    {
      "cell_type": "code",
      "metadata": {
        "id": "_C4-YXaYtZG2"
      },
      "source": [
        "model = Model(inputs=inputs, outputs=x)"
      ],
      "execution_count": 48,
      "outputs": []
    },
    {
      "cell_type": "code",
      "metadata": {
        "id": "541mCIP_utZ0",
        "colab": {
          "base_uri": "https://localhost:8080/"
        },
        "outputId": "7199a463-66d7-4427-f917-203b25999435"
      },
      "source": [
        "model.summary()"
      ],
      "execution_count": 49,
      "outputs": [
        {
          "output_type": "stream",
          "name": "stdout",
          "text": [
            "Model: \"model_4\"\n",
            "_________________________________________________________________\n",
            " Layer (type)                Output Shape              Param #   \n",
            "=================================================================\n",
            " input_9 (InputLayer)        [(None, 28, 28, 1)]       0         \n",
            "                                                                 \n",
            " flatten_5 (Flatten)         (None, 784)               0         \n",
            "                                                                 \n",
            " dense_15 (Dense)            (None, 300)               235500    \n",
            "                                                                 \n",
            " dense_16 (Dense)            (None, 100)               30100     \n",
            "                                                                 \n",
            " dense_17 (Dense)            (None, 10)                1010      \n",
            "                                                                 \n",
            "=================================================================\n",
            "Total params: 266,610\n",
            "Trainable params: 266,610\n",
            "Non-trainable params: 0\n",
            "_________________________________________________________________\n"
          ]
        }
      ]
    },
    {
      "cell_type": "code",
      "metadata": {
        "id": "9eqHbjseuzmi",
        "colab": {
          "base_uri": "https://localhost:8080/",
          "height": 465
        },
        "outputId": "dadd1bb0-a2fd-47ea-a642-663f9ec7427e"
      },
      "source": [
        "plot_model(model)"
      ],
      "execution_count": 50,
      "outputs": [
        {
          "output_type": "execute_result",
          "data": {
            "image/png": "[encoded data removed]",
            "text/plain": [
              "<IPython.core.display.Image object>"
            ]
          },
          "metadata": {},
          "execution_count": 50
        }
      ]
    },
    {
      "cell_type": "code",
      "metadata": {
        "id": "4zp-khCAJ_Rg",
        "colab": {
          "base_uri": "https://localhost:8080/",
          "height": 465
        },
        "outputId": "d5ad8efd-1262-420f-f99a-33f6386006a9"
      },
      "source": [
        "plot_model(model, to_file='model3.png')"
      ],
      "execution_count": 51,
      "outputs": [
        {
          "output_type": "execute_result",
          "data": {
            "image/png": "[encoded data removed]",
            "text/plain": [
              "<IPython.core.display.Image object>"
            ]
          },
          "metadata": {},
          "execution_count": 51
        }
      ]
    },
    {
      "cell_type": "code",
      "metadata": {
        "id": "3iAC6QhRwsBn"
      },
      "source": [
        "from tensorflow.keras.layers import Concatenate\n",
        "\n",
        "input_layer = Input(shape=(28, 28))\n",
        "hidden1 = Dense(100, activation='relu')(input_layer)\n",
        "hidden2 = Dense(30, activation='relu')(hidden1)\n",
        "concat = Concatenate()([input_layer, hidden2])\n",
        "output = Dense(1)(concat)\n",
        "\n",
        "model = Model(inputs=[input_layer], outputs=[output])"
      ],
      "execution_count": 54,
      "outputs": []
    },
    {
      "cell_type": "code",
      "metadata": {
        "id": "c2VgxtTgwr5_",
        "colab": {
          "base_uri": "https://localhost:8080/"
        },
        "outputId": "07897b6f-c05f-472f-91bf-51398f0416c3"
      },
      "source": [
        "model.summary()"
      ],
      "execution_count": 55,
      "outputs": [
        {
          "output_type": "stream",
          "name": "stdout",
          "text": [
            "Model: \"model_5\"\n",
            "__________________________________________________________________________________________________\n",
            " Layer (type)                   Output Shape         Param #     Connected to                     \n",
            "==================================================================================================\n",
            " input_12 (InputLayer)          [(None, 28, 28)]     0           []                               \n",
            "                                                                                                  \n",
            " dense_24 (Dense)               (None, 28, 100)      2900        ['input_12[0][0]']               \n",
            "                                                                                                  \n",
            " dense_25 (Dense)               (None, 28, 30)       3030        ['dense_24[0][0]']               \n",
            "                                                                                                  \n",
            " concatenate_2 (Concatenate)    (None, 28, 58)       0           ['input_12[0][0]',               \n",
            "                                                                  'dense_25[0][0]']               \n",
            "                                                                                                  \n",
            " dense_26 (Dense)               (None, 28, 1)        59          ['concatenate_2[0][0]']          \n",
            "                                                                                                  \n",
            "==================================================================================================\n",
            "Total params: 5,989\n",
            "Trainable params: 5,989\n",
            "Non-trainable params: 0\n",
            "__________________________________________________________________________________________________\n"
          ]
        }
      ]
    },
    {
      "cell_type": "code",
      "metadata": {
        "id": "rMPkFz43xvwA",
        "colab": {
          "base_uri": "https://localhost:8080/",
          "height": 465
        },
        "outputId": "5ac9000d-9aa2-4e3a-df31-6b6c4cf7d106"
      },
      "source": [
        "plot_model(model)"
      ],
      "execution_count": 56,
      "outputs": [
        {
          "output_type": "execute_result",
          "data": {
            "image/png": "[encoded data removed]",
            "text/plain": [
              "<IPython.core.display.Image object>"
            ]
          },
          "metadata": {},
          "execution_count": 56
        }
      ]
    },
    {
      "cell_type": "code",
      "metadata": {
        "id": "Mcq5LtfcKBh_",
        "colab": {
          "base_uri": "https://localhost:8080/",
          "height": 465
        },
        "outputId": "5dc787c9-db3d-4439-ab1f-8f4669ca3fb8"
      },
      "source": [
        "plot_model(model, to_file='model4.png')"
      ],
      "execution_count": 57,
      "outputs": [
        {
          "output_type": "execute_result",
          "data": {
            "image/png": "[encoded data removed]",
            "text/plain": [
              "<IPython.core.display.Image object>"
            ]
          },
          "metadata": {},
          "execution_count": 57
        }
      ]
    },
    {
      "cell_type": "code",
      "metadata": {
        "id": "wvtGiFj6x6qa"
      },
      "source": [
        "input_1 = Input(shape=(10, 10), name='input_1')\n",
        "input_2 = Input(shape=(10, 28), name='input_2')\n",
        "\n",
        "hidden1 = Dense(100, activation = 'relu')(input_2)\n",
        "hidden2 = Dense(10, activation = 'relu')(hidden1)\n",
        "concat = Concatenate()([input_1, hidden2])\n",
        "output = Dense(1, activation='sigmoid', name='output')(concat)\n",
        "\n",
        "model = Model(inputs=[input_1, input_2], outputs=[output])"
      ],
      "execution_count": 61,
      "outputs": []
    },
    {
      "cell_type": "code",
      "metadata": {
        "id": "aVvTOFzfx61O",
        "colab": {
          "base_uri": "https://localhost:8080/"
        },
        "outputId": "38e22cd4-4930-483e-b75d-9a76fd51acd6"
      },
      "source": [
        "model.summary()"
      ],
      "execution_count": 62,
      "outputs": [
        {
          "output_type": "stream",
          "name": "stdout",
          "text": [
            "Model: \"model_7\"\n",
            "__________________________________________________________________________________________________\n",
            " Layer (type)                   Output Shape         Param #     Connected to                     \n",
            "==================================================================================================\n",
            " input_2 (InputLayer)           [(None, 10, 28)]     0           []                               \n",
            "                                                                                                  \n",
            " dense_33 (Dense)               (None, 10, 100)      2900        ['input_2[0][0]']                \n",
            "                                                                                                  \n",
            " input_1 (InputLayer)           [(None, 10, 10)]     0           []                               \n",
            "                                                                                                  \n",
            " dense_34 (Dense)               (None, 10, 10)       1010        ['dense_33[0][0]']               \n",
            "                                                                                                  \n",
            " concatenate_6 (Concatenate)    (None, 10, 20)       0           ['input_1[0][0]',                \n",
            "                                                                  'dense_34[0][0]']               \n",
            "                                                                                                  \n",
            " output (Dense)                 (None, 10, 1)        21          ['concatenate_6[0][0]']          \n",
            "                                                                                                  \n",
            "==================================================================================================\n",
            "Total params: 3,931\n",
            "Trainable params: 3,931\n",
            "Non-trainable params: 0\n",
            "__________________________________________________________________________________________________\n"
          ]
        }
      ]
    },
    {
      "cell_type": "code",
      "metadata": {
        "id": "nfxZETTvx6zE",
        "colab": {
          "base_uri": "https://localhost:8080/",
          "height": 465
        },
        "outputId": "a108458a-2e7b-45b7-d56d-4fe2fdc50939"
      },
      "source": [
        "plot_model(model, to_file='model5.png')"
      ],
      "execution_count": 63,
      "outputs": [
        {
          "output_type": "execute_result",
          "data": {
            "image/png": "[encoded data removed]",
            "text/plain": [
              "<IPython.core.display.Image object>"
            ]
          },
          "metadata": {},
          "execution_count": 63
        }
      ]
    },
    {
      "cell_type": "code",
      "metadata": {
        "id": "xkJlrolMKD6B"
      },
      "source": [
        "input_ = Input(shape=(10, 10), name='input_')\n",
        "\n",
        "hidden1 = Dense(100, activation='relu')(input_)\n",
        "hidden2 = Dense(10, activation='relu')(hidden1)\n",
        "\n",
        "output = Dense(1, activation='sigmoid', name='main_ouput')(hidden2)\n",
        "sub_out = Dense(1, name='sum_output')(hidden2)\n",
        "\n",
        "model = Model(inputs=[input_], outputs=[output, sub_out])"
      ],
      "execution_count": 64,
      "outputs": []
    },
    {
      "cell_type": "code",
      "metadata": {
        "id": "qGorWfShzuYS",
        "colab": {
          "base_uri": "https://localhost:8080/"
        },
        "outputId": "13fd0034-275c-46f0-95e5-46c9743c76e3"
      },
      "source": [
        "model.summary()"
      ],
      "execution_count": 65,
      "outputs": [
        {
          "output_type": "stream",
          "name": "stdout",
          "text": [
            "Model: \"model_8\"\n",
            "__________________________________________________________________________________________________\n",
            " Layer (type)                   Output Shape         Param #     Connected to                     \n",
            "==================================================================================================\n",
            " input_ (InputLayer)            [(None, 10, 10)]     0           []                               \n",
            "                                                                                                  \n",
            " dense_35 (Dense)               (None, 10, 100)      1100        ['input_[0][0]']                 \n",
            "                                                                                                  \n",
            " dense_36 (Dense)               (None, 10, 10)       1010        ['dense_35[0][0]']               \n",
            "                                                                                                  \n",
            " main_ouput (Dense)             (None, 10, 1)        11          ['dense_36[0][0]']               \n",
            "                                                                                                  \n",
            " sum_output (Dense)             (None, 10, 1)        11          ['dense_36[0][0]']               \n",
            "                                                                                                  \n",
            "==================================================================================================\n",
            "Total params: 2,132\n",
            "Trainable params: 2,132\n",
            "Non-trainable params: 0\n",
            "__________________________________________________________________________________________________\n"
          ]
        }
      ]
    },
    {
      "cell_type": "code",
      "metadata": {
        "id": "r-VZlGGczugL",
        "colab": {
          "base_uri": "https://localhost:8080/",
          "height": 368
        },
        "outputId": "ff8cc56d-9751-4f3e-fc70-39afc0504a0e"
      },
      "source": [
        "plot_model(model, to_file='model6.png')"
      ],
      "execution_count": 66,
      "outputs": [
        {
          "output_type": "execute_result",
          "data": {
            "image/png": "[encoded data removed]",
            "text/plain": [
              "<IPython.core.display.Image object>"
            ]
          },
          "metadata": {},
          "execution_count": 66
        }
      ]
    },
    {
      "cell_type": "code",
      "metadata": {
        "id": "VWiRsHIB0ROK"
      },
      "source": [
        "input_1 = Input(shape=(10,10), name='input_1')\n",
        "input_2 = Input(shape=(10,28), name='input_2')\n",
        "\n",
        "hidden1 = Dense(100, activation='relu')(input_2)\n",
        "hidden2 = Dense(10, activation='relu')(hidden1)\n",
        "concat = Concatenate()([input_1, hidden2])\n",
        "output = Dense(1, activation='sigmoid', name='main_output')(concat)\n",
        "sub_out = Dense(1, name='sum_output')(hidden2)\n",
        "\n",
        "model = Model(inputs=[input_1, input_2], outputs=[output, sub_out])"
      ],
      "execution_count": 68,
      "outputs": []
    },
    {
      "cell_type": "code",
      "metadata": {
        "id": "121rkvNOKF43",
        "colab": {
          "base_uri": "https://localhost:8080/"
        },
        "outputId": "3386e8f3-d19b-4d45-e952-1c314d9055b4"
      },
      "source": [
        "model.summary()"
      ],
      "execution_count": 69,
      "outputs": [
        {
          "output_type": "stream",
          "name": "stdout",
          "text": [
            "Model: \"model_9\"\n",
            "__________________________________________________________________________________________________\n",
            " Layer (type)                   Output Shape         Param #     Connected to                     \n",
            "==================================================================================================\n",
            " input_2 (InputLayer)           [(None, 10, 28)]     0           []                               \n",
            "                                                                                                  \n",
            " dense_39 (Dense)               (None, 10, 100)      2900        ['input_2[0][0]']                \n",
            "                                                                                                  \n",
            " input_1 (InputLayer)           [(None, 10, 10)]     0           []                               \n",
            "                                                                                                  \n",
            " dense_40 (Dense)               (None, 10, 10)       1010        ['dense_39[0][0]']               \n",
            "                                                                                                  \n",
            " concatenate_8 (Concatenate)    (None, 10, 20)       0           ['input_1[0][0]',                \n",
            "                                                                  'dense_40[0][0]']               \n",
            "                                                                                                  \n",
            " main_output (Dense)            (None, 10, 1)        21          ['concatenate_8[0][0]']          \n",
            "                                                                                                  \n",
            " sum_output (Dense)             (None, 10, 1)        11          ['dense_40[0][0]']               \n",
            "                                                                                                  \n",
            "==================================================================================================\n",
            "Total params: 3,942\n",
            "Trainable params: 3,942\n",
            "Non-trainable params: 0\n",
            "__________________________________________________________________________________________________\n"
          ]
        }
      ]
    },
    {
      "cell_type": "code",
      "metadata": {
        "id": "i31xM7skx6xD",
        "colab": {
          "base_uri": "https://localhost:8080/",
          "height": 465
        },
        "outputId": "8e54cf04-3ca9-4e43-e5a8-81e232cf3a1e"
      },
      "source": [
        "plot_model(model, to_file='model7.png')"
      ],
      "execution_count": 70,
      "outputs": [
        {
          "output_type": "execute_result",
          "data": {
            "image/png": "[encoded data removed]",
            "text/plain": [
              "<IPython.core.display.Image object>"
            ]
          },
          "metadata": {},
          "execution_count": 70
        }
      ]
    },
    {
      "cell_type": "markdown",
      "metadata": {
        "id": "MRQUHfuHmW9a"
      },
      "source": [
        "### 서브클래싱(Subclassing)\n",
        "- 커스터마이징에 최적화된 방법\n",
        "\n",
        "- Model 클래스를 상속받아 Model이 포함하는 기능을 사용할 수 있음  \n",
        "  - `fit()`, `evaluate()`, `predict()`\n",
        "  - `save()`, `load()`\n",
        "\n",
        "- 주로 `call()` 메소드안에서 원하는 계산 가능\n",
        "  - for, if, 저수준 연산 등\n",
        "\n",
        "- 권장되는 방법은 아니지만 어떤 모델의 구현 코드를 참고할 때  \n",
        "  해석할 수 있어야함"
      ]
    },
    {
      "cell_type": "code",
      "metadata": {
        "id": "J8edl37Ylv7h"
      },
      "source": [
        ""
      ],
      "execution_count": null,
      "outputs": []
    },
    {
      "cell_type": "code",
      "metadata": {
        "id": "7JKLw7bNsRcr"
      },
      "source": [
        ""
      ],
      "execution_count": null,
      "outputs": []
    },
    {
      "cell_type": "markdown",
      "metadata": {
        "id": "a8TkTb9x6_KI"
      },
      "source": [
        "## 모델 가중치 확인"
      ]
    },
    {
      "cell_type": "code",
      "metadata": {
        "id": "A12S4z1qpfwh"
      },
      "source": [
        ""
      ],
      "execution_count": null,
      "outputs": []
    },
    {
      "cell_type": "code",
      "metadata": {
        "id": "HLgHWRTv7D2L"
      },
      "source": [
        ""
      ],
      "execution_count": null,
      "outputs": []
    },
    {
      "cell_type": "code",
      "metadata": {
        "id": "b_34PqiU7Dvz"
      },
      "source": [
        ""
      ],
      "execution_count": null,
      "outputs": []
    },
    {
      "cell_type": "markdown",
      "metadata": {
        "id": "KK-5msf3qRo0"
      },
      "source": [
        "모델의 레이어들이 리스트로 표현됨\n"
      ]
    },
    {
      "cell_type": "code",
      "metadata": {
        "id": "Tf2F-J8vpi49"
      },
      "source": [
        ""
      ],
      "execution_count": null,
      "outputs": []
    },
    {
      "cell_type": "code",
      "metadata": {
        "id": "-aHbATTApi0h"
      },
      "source": [
        ""
      ],
      "execution_count": null,
      "outputs": []
    },
    {
      "cell_type": "markdown",
      "metadata": {
        "id": "t1DREsBb5iJE"
      },
      "source": [
        "위의 layer name 참고"
      ]
    },
    {
      "cell_type": "code",
      "metadata": {
        "id": "nCrffB2wqNW8"
      },
      "source": [
        ""
      ],
      "execution_count": null,
      "outputs": []
    },
    {
      "cell_type": "code",
      "metadata": {
        "id": "OJGopmDxqcO1"
      },
      "source": [
        ""
      ],
      "execution_count": null,
      "outputs": []
    },
    {
      "cell_type": "code",
      "metadata": {
        "id": "j7zkvduWqhhw"
      },
      "source": [
        ""
      ],
      "execution_count": null,
      "outputs": []
    },
    {
      "cell_type": "code",
      "metadata": {
        "id": "jZsI7ExUqhcH"
      },
      "source": [
        ""
      ],
      "execution_count": null,
      "outputs": []
    },
    {
      "cell_type": "code",
      "metadata": {
        "id": "yS8ljwRlqkMc"
      },
      "source": [
        ""
      ],
      "execution_count": null,
      "outputs": []
    },
    {
      "cell_type": "markdown",
      "metadata": {
        "id": "PTFFAcfb2DSF"
      },
      "source": [
        "## 모델 컴파일(compile)\n",
        "\n",
        "- 모델을 구성한 후, 사용할 손실함수(loss), 옵티마이저(optimizer)를 지정\n"
      ]
    },
    {
      "cell_type": "code",
      "metadata": {
        "id": "jp4t9-iF2xpN"
      },
      "source": [
        ""
      ],
      "execution_count": null,
      "outputs": []
    },
    {
      "cell_type": "markdown",
      "metadata": {
        "id": "a8Y5B43W3EmY"
      },
      "source": [
        "### 참고1\n",
        "\n",
        "#### loss\n",
        "- `keras.losses.sparse_categorical_crossentropy` 등과 같이 지정 가능\n",
        "  - `sparse_categorical_crossentropy`  \n",
        "    클래스가 배타적, 즉 MNIST 예제에서 (0, 1, 2, ..., 9)와 같은 방식으로 구분되어 있을 때 사용\n",
        "\n",
        "  - `categorical_cross_entropy`\n",
        "    클래스가 원-핫 인코딩 방식으로 되어 있을 때 사용\n",
        "\n",
        "  - `binary_crossentropy`\n",
        "  이진 분류를 수행할 때 사용\n",
        "\n",
        "\n",
        "#### optimizer\n",
        "- `keras.optimizer.SGD()` 등과 같이 사용 가능\n",
        "  - 보통 옵티마이저의 튜닝을 위해 따로 객체를 생성하여 컴파일    \n",
        "        optimizer = keras.optimizer.SGD(learning_rate=1e-5)  \n",
        "        model.compile(...,\n",
        "                      optimizer=optimzer,\n",
        "                      ...)\n",
        "\n",
        "- `keras.optimizer.Adam()` 도 많이 사용\n",
        "\n",
        "#### metrics\n",
        "- 모니터링할 지표\n",
        "\n",
        "- 주로 'accuracy', 'acc'로도 가능\n"
      ]
    },
    {
      "cell_type": "markdown",
      "metadata": {
        "id": "8k7z79M1Kv-x"
      },
      "source": [
        "### 참고2 - 컴파일 설정 예시\n",
        "- 평균 제곱 오차 회귀 문제  \n",
        "      model.compile(loss = 'mse',  \n",
        "                    optimizer = RMSprop(),  \n",
        "                    metrics=['mae'])\n",
        "\n",
        "- 이진 분류\n",
        "      model.compile(loss = 'binary_crossentropy',  \n",
        "                    optimizer = RMSprop(),  \n",
        "                    metrics=['accuracy])\n",
        "\n",
        "\n",
        "\n",
        "- 다항 분류\n",
        "      model.compile(loss = 'categorical_crossentropy',  \n",
        "                    optimizer = RMSprop(),  \n",
        "                    metrics=['accuracy])\n",
        " \n"
      ]
    },
    {
      "cell_type": "markdown",
      "metadata": {
        "id": "hKAtKRop3AvE"
      },
      "source": [
        "## 모델 훈련, 평가 및 예측\n",
        "- `fit()` 함수\n",
        "\n",
        "  - train_data(학습 데이터), train_label(데이터의 정답)\n",
        "  \n",
        "  - epochs\n",
        "  \n",
        "  - batch_size\n",
        "  \n",
        "  - validation_data\n",
        "\n",
        "- `evaluate()` 함수\n",
        "  - 테스트 데이터\n",
        "\n",
        "\n",
        "- `predict()`\n",
        "  임의의 데이터를 인자로 넣어 예측 가능"
      ]
    },
    {
      "cell_type": "markdown",
      "metadata": {
        "id": "WDPKNEsm2qTQ"
      },
      "source": [
        "## MNIST 예제를 통해 모델 구성하기\n",
        "\n",
        "- keras.datasets 에 포함되어 있는 데이터셋\n",
        "\n",
        "  <img src=\"https://storage.googleapis.com/tfds-data/visualization/fig/mnist-3.0.1.png\" width=\"400\">\n",
        "\n",
        "  <sub>출처: https://www.tensorflow.org/datasets/catalog/mnist</sub>"
      ]
    },
    {
      "cell_type": "markdown",
      "metadata": {
        "id": "Q1CMnkAQGvYE"
      },
      "source": [
        "### modules import"
      ]
    },
    {
      "cell_type": "code",
      "metadata": {
        "id": "1AKwa2VeGxqf"
      },
      "source": [
        ""
      ],
      "execution_count": null,
      "outputs": []
    },
    {
      "cell_type": "markdown",
      "metadata": {
        "id": "vEJBVkwzGpsX"
      },
      "source": [
        "### 데이터셋 로드\n",
        "- MNIST 데이터셋을 로드\n",
        "\n",
        "- Train Data 중, 30%를 검증 데이터(valiation data)로 사용\n"
      ]
    },
    {
      "cell_type": "code",
      "metadata": {
        "id": "_OGqRrXg2URI"
      },
      "source": [
        ""
      ],
      "execution_count": null,
      "outputs": []
    },
    {
      "cell_type": "markdown",
      "metadata": {
        "id": "Vyci_3GlH52j"
      },
      "source": [
        "### 데이터 확인"
      ]
    },
    {
      "cell_type": "code",
      "metadata": {
        "id": "xYDatr9Q2UsB"
      },
      "source": [
        ""
      ],
      "execution_count": null,
      "outputs": []
    },
    {
      "cell_type": "code",
      "metadata": {
        "id": "uqff0qU_2VRV"
      },
      "source": [
        ""
      ],
      "execution_count": null,
      "outputs": []
    },
    {
      "cell_type": "code",
      "metadata": {
        "id": "OPlhbVEJ2VNs"
      },
      "source": [
        ""
      ],
      "execution_count": null,
      "outputs": []
    },
    {
      "cell_type": "code",
      "metadata": {
        "id": "I0aqzgMM2VKg"
      },
      "source": [
        ""
      ],
      "execution_count": null,
      "outputs": []
    },
    {
      "cell_type": "markdown",
      "metadata": {
        "id": "Du5KAU8COICG"
      },
      "source": [
        "### 데이터 전처리\n",
        "- Normalization"
      ]
    },
    {
      "cell_type": "code",
      "metadata": {
        "id": "CMvKiV6POJaR"
      },
      "source": [
        ""
      ],
      "execution_count": null,
      "outputs": []
    },
    {
      "cell_type": "code",
      "metadata": {
        "id": "bMuBGKWxP7DM"
      },
      "source": [
        ""
      ],
      "execution_count": null,
      "outputs": []
    },
    {
      "cell_type": "markdown",
      "metadata": {
        "id": "S9ke94boKfre"
      },
      "source": [
        "### 모델 구성 (Sequential)"
      ]
    },
    {
      "cell_type": "code",
      "metadata": {
        "id": "ZBfX4bt52UoZ"
      },
      "source": [
        ""
      ],
      "execution_count": null,
      "outputs": []
    },
    {
      "cell_type": "code",
      "metadata": {
        "id": "QYsY9ghjO0RW"
      },
      "source": [
        ""
      ],
      "execution_count": null,
      "outputs": []
    },
    {
      "cell_type": "code",
      "metadata": {
        "id": "zE-EHHkK2UMG"
      },
      "source": [
        ""
      ],
      "execution_count": null,
      "outputs": []
    },
    {
      "cell_type": "code",
      "metadata": {
        "id": "KW7h-7mR26Xf"
      },
      "source": [
        ""
      ],
      "execution_count": null,
      "outputs": []
    },
    {
      "cell_type": "markdown",
      "metadata": {
        "id": "ttXdLuQsQE_k"
      },
      "source": [
        "### 모델 컴파일"
      ]
    },
    {
      "cell_type": "code",
      "metadata": {
        "id": "EXld9Ehd2UJW"
      },
      "source": [
        ""
      ],
      "execution_count": null,
      "outputs": []
    },
    {
      "cell_type": "markdown",
      "metadata": {
        "id": "TeRlwrsNQUP_"
      },
      "source": [
        "### 모델 학습\n",
        "- 모델 시각화를 위해 history라는 변수에 학습 과정을 담음"
      ]
    },
    {
      "cell_type": "code",
      "metadata": {
        "id": "5TaYebESQT0X"
      },
      "source": [
        ""
      ],
      "execution_count": null,
      "outputs": []
    },
    {
      "cell_type": "markdown",
      "metadata": {
        "id": "0XaPJX7sRVzi"
      },
      "source": [
        "### 학습 결과 시각화"
      ]
    },
    {
      "cell_type": "code",
      "metadata": {
        "id": "vAnCqu9ARVTw"
      },
      "source": [
        ""
      ],
      "execution_count": null,
      "outputs": []
    },
    {
      "cell_type": "code",
      "metadata": {
        "id": "MHfJkN2lRVOc"
      },
      "source": [
        ""
      ],
      "execution_count": null,
      "outputs": []
    },
    {
      "cell_type": "markdown",
      "metadata": {
        "id": "Gwl7tQLcTZnW"
      },
      "source": [
        "### 모델 평가 (1)\n",
        "- evaluate"
      ]
    },
    {
      "cell_type": "code",
      "metadata": {
        "id": "gX7HcpeoTZGU"
      },
      "source": [
        ""
      ],
      "execution_count": null,
      "outputs": []
    },
    {
      "cell_type": "markdown",
      "metadata": {
        "id": "ZIV4MhWSTtqH"
      },
      "source": [
        "### 학습된 모델을 통해 값 예측"
      ]
    },
    {
      "cell_type": "code",
      "metadata": {
        "id": "te5Wt3jFTY8g"
      },
      "source": [
        ""
      ],
      "execution_count": null,
      "outputs": []
    },
    {
      "cell_type": "code",
      "metadata": {
        "id": "uJHPRGpMTnnM"
      },
      "source": [
        ""
      ],
      "execution_count": null,
      "outputs": []
    },
    {
      "cell_type": "markdown",
      "metadata": {
        "id": "G6ypcp0iVyjj"
      },
      "source": [
        "### 모델 평가 (2)\n",
        "- 혼동행렬 (Confusion Maxtrix)"
      ]
    },
    {
      "cell_type": "code",
      "metadata": {
        "id": "8fN2G31JTnrY"
      },
      "source": [
        ""
      ],
      "execution_count": null,
      "outputs": []
    },
    {
      "cell_type": "code",
      "metadata": {
        "id": "IPX11GMeTnt-"
      },
      "source": [
        ""
      ],
      "execution_count": null,
      "outputs": []
    },
    {
      "cell_type": "markdown",
      "metadata": {
        "id": "BMo2g1TZWctY"
      },
      "source": [
        "### 모델 평가 (3)\n",
        "- 분류 보고서"
      ]
    },
    {
      "cell_type": "code",
      "metadata": {
        "id": "J1n_j_h4TnjP"
      },
      "source": [
        ""
      ],
      "execution_count": null,
      "outputs": []
    },
    {
      "cell_type": "markdown",
      "metadata": {
        "id": "6VWo95AB0W2v"
      },
      "source": [
        "## 모델 저장과 복원\n",
        "- `save()`\n",
        "\n",
        "- `load_model()`\n",
        "\n",
        "- (주의)  \n",
        "  시퀀셜 API, 함수형 API에서는 **모델**의 저장 및 로드기 가능하지만 서브클래싱 방식으로는 할 수 없음  \n",
        "  \n",
        "  서브클래싱 방식\n",
        "      save_weights()\n",
        "      load_weights()  \n",
        "  위 두가지를 통해 **모델의 파라미터**만 저장 및 로드\n",
        "\n",
        "\n",
        "- JSON 형식\n",
        "  - `model.to_json()` (저장)\n",
        "\n",
        "  - `tf.keras.models.model_from_json(file_path)` (복원)\n",
        "\n",
        "- YAML로 직렬화\n",
        "  - `model.to_yaml()` (저장)\n",
        "\n",
        "  - `tf.keras.models.model_from_yaml(file_path)` (복원)\n"
      ]
    },
    {
      "cell_type": "code",
      "metadata": {
        "id": "qI-OJUAvtkZs"
      },
      "source": [
        ""
      ],
      "execution_count": null,
      "outputs": []
    },
    {
      "cell_type": "code",
      "metadata": {
        "id": "CKkUgRlEX9yN"
      },
      "source": [
        ""
      ],
      "execution_count": null,
      "outputs": []
    },
    {
      "cell_type": "code",
      "metadata": {
        "id": "xcSNxvvLYMJO"
      },
      "source": [
        ""
      ],
      "execution_count": null,
      "outputs": []
    },
    {
      "cell_type": "code",
      "metadata": {
        "id": "qUAZUdOpZOqp"
      },
      "source": [
        ""
      ],
      "execution_count": null,
      "outputs": []
    },
    {
      "cell_type": "code",
      "metadata": {
        "id": "lGcJHpbJaRiN"
      },
      "source": [
        ""
      ],
      "execution_count": null,
      "outputs": []
    },
    {
      "cell_type": "markdown",
      "metadata": {
        "id": "vwprko04qWeg"
      },
      "source": [
        "## 콜백 (Callbacks)\n",
        "\n",
        "- `fit()` 함수의 callbacks 매개변수를 사용하여 케라스가 훈련의 시작이나 끝에 호출할 객체 리스트를 지정할 수 있음\n",
        "\n",
        "- 여러 개 사용 가능\n",
        "\n",
        "- ModelCheckpoint\n",
        "  - `tf.keras.callbacks.ModelCheckpoint`\n",
        "  - 정기적으로 모델의 체크포인트를 저장하고, 문제가 발생할 때 복구하는데 사용\n",
        "\n",
        "- EarlyStopping\n",
        "  - `tf.keras.callbacks.EarlyStopping`\n",
        "  - 검증 성능이 한동안 개선되지 않을 경우 학습을 중단할 때 사용\n",
        "\n",
        "- LearningRateSchduler\n",
        "  - `tf.keras.callbacks.LearningRateSchduler`\n",
        "  - 최적화를 하는 동안 학습률(learning_rate)를 동적으로 변경할 때 사용\n",
        "\n",
        "- TensorBoard\n",
        "  - `tf.keras.callbacks.TensorBoard`\n",
        "  - 모델의 경과를 모니터링할 때 사용\n"
      ]
    },
    {
      "cell_type": "code",
      "metadata": {
        "id": "0_oKQ3gw4Gtp"
      },
      "source": [
        ""
      ],
      "execution_count": null,
      "outputs": []
    },
    {
      "cell_type": "code",
      "metadata": {
        "id": "ENnkJ6Qq2JQm"
      },
      "source": [
        ""
      ],
      "execution_count": null,
      "outputs": []
    },
    {
      "cell_type": "code",
      "metadata": {
        "id": "Olb_CPA33UPe"
      },
      "source": [
        ""
      ],
      "execution_count": null,
      "outputs": []
    },
    {
      "cell_type": "markdown",
      "metadata": {
        "id": "xNBMnd5IgE8H"
      },
      "source": [
        "### ModelCheckpoint"
      ]
    },
    {
      "cell_type": "code",
      "metadata": {
        "id": "tVOIVgBnqdIg"
      },
      "source": [
        ""
      ],
      "execution_count": null,
      "outputs": []
    },
    {
      "cell_type": "code",
      "metadata": {
        "id": "HAHm-GqSqdE7"
      },
      "source": [
        ""
      ],
      "execution_count": null,
      "outputs": []
    },
    {
      "cell_type": "code",
      "metadata": {
        "id": "h4Z8KGWSqdBb"
      },
      "source": [
        ""
      ],
      "execution_count": null,
      "outputs": []
    },
    {
      "cell_type": "markdown",
      "metadata": {
        "id": "dGv8fIyo4_Th"
      },
      "source": [
        "최상의 모델만을 저장\n",
        "- save_best_only=True"
      ]
    },
    {
      "cell_type": "code",
      "metadata": {
        "id": "4W4rJEOsqc98"
      },
      "source": [
        ""
      ],
      "execution_count": null,
      "outputs": []
    },
    {
      "cell_type": "code",
      "metadata": {
        "id": "r2QNCtmjqc6f"
      },
      "source": [
        ""
      ],
      "execution_count": null,
      "outputs": []
    },
    {
      "cell_type": "code",
      "metadata": {
        "id": "_HlEkRagqc3D"
      },
      "source": [
        ""
      ],
      "execution_count": null,
      "outputs": []
    },
    {
      "cell_type": "markdown",
      "metadata": {
        "id": "osAT_QOp7roL"
      },
      "source": [
        "### EarlyStopping\n",
        "- 일정 에포크(patience) 동안 검증 세트에 대한 점수가 오르지 않으면 학습을 멈춤\n",
        "\n",
        "- 모델이 향상되지 않으면 학습이 자동으로 중지되므로,  \n",
        "  에포크(epochs) 숫자를 크게 해도 무방\n",
        "\n",
        "- 학습이 끝난 후의 최상의 가중치를 복원하기 때문에 모델을 따로 복원할 필요없음"
      ]
    },
    {
      "cell_type": "code",
      "metadata": {
        "id": "JT61djueqczo"
      },
      "source": [
        ""
      ],
      "execution_count": null,
      "outputs": []
    },
    {
      "cell_type": "markdown",
      "metadata": {
        "id": "sPadOgZM9bM-"
      },
      "source": [
        "### LearningRateScheduler"
      ]
    },
    {
      "cell_type": "code",
      "metadata": {
        "id": "njq81hTgqcwG"
      },
      "source": [
        ""
      ],
      "execution_count": null,
      "outputs": []
    },
    {
      "cell_type": "code",
      "metadata": {
        "id": "5AUc7PaMqcsd"
      },
      "source": [
        ""
      ],
      "execution_count": null,
      "outputs": []
    },
    {
      "cell_type": "code",
      "metadata": {
        "id": "ZEH3d9__qco9"
      },
      "source": [
        ""
      ],
      "execution_count": null,
      "outputs": []
    },
    {
      "cell_type": "markdown",
      "metadata": {
        "id": "A31OUv_C-QHX"
      },
      "source": [
        "### Tensorboard\n",
        "- 텐서보드를 이용하여 학습과정 모니터링"
      ]
    },
    {
      "cell_type": "markdown",
      "metadata": {
        "id": "CcDhXXgn_W2F"
      },
      "source": [
        "텐서보드를 사용하기 위해 logs폴더를 만들고, 학습이 진행되는 동안 로그 파일을 생성"
      ]
    },
    {
      "cell_type": "code",
      "metadata": {
        "id": "zc38Lumyqclb"
      },
      "source": [
        ""
      ],
      "execution_count": null,
      "outputs": []
    },
    {
      "cell_type": "code",
      "metadata": {
        "id": "XS1P1aDdqcgb"
      },
      "source": [
        ""
      ],
      "execution_count": null,
      "outputs": []
    },
    {
      "cell_type": "code",
      "metadata": {
        "id": "veufv36_BiZM"
      },
      "source": [
        ""
      ],
      "execution_count": null,
      "outputs": []
    },
    {
      "cell_type": "markdown",
      "metadata": {
        "id": "nkmm5b03CBQb"
      },
      "source": [
        "load하는데 시간 소요\n",
        "\n",
        "- load가 안된다면 port번호를 바꿔서 실행!  \n",
        "  ex) %tensorboard --logdir {log_dir} port 8000"
      ]
    },
    {
      "cell_type": "code",
      "metadata": {
        "id": "RgN2oO6dBnmN"
      },
      "source": [
        ""
      ],
      "execution_count": null,
      "outputs": []
    }
  ]
}