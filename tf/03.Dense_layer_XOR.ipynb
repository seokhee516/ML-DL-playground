{
  "cells": [
    {
      "cell_type": "markdown",
      "metadata": {
        "id": "e3gJwt4STh2i"
      },
      "source": [
        "<a href=\"https://colab.research.google.com/github/minsuk-heo/tf2/blob/master/jupyter_notebooks/03.Dense_layer_XOR.ipynb\" target=\"_parent\"><img src=\"https://colab.research.google.com/assets/colab-badge.svg\" alt=\"Open In Colab\"/></a>"
      ]
    },
    {
      "cell_type": "markdown",
      "metadata": {
        "id": "YQm9v8xFTh2k"
      },
      "source": [
        "# XOR logic with two lense layers"
      ]
    },
    {
      "cell_type": "code",
      "execution_count": 1,
      "metadata": {
        "id": "YEPYK67_Th2m"
      },
      "outputs": [],
      "source": [
        "from __future__ import absolute_import, division, print_function, unicode_literals\n",
        "\n",
        "try:\n",
        "  %tensorflow_version 2.x\n",
        "except Exception:\n",
        "  pass\n",
        "\n",
        "import tensorflow as tf\n",
        "from tensorflow.keras.layers import Dense\n",
        "from tensorflow.keras.models import Sequential\n",
        "# random seed for always same results\n",
        "tf.random.set_seed(678)\n",
        "\n",
        "import numpy as np"
      ]
    },
    {
      "cell_type": "code",
      "execution_count": null,
      "metadata": {
        "id": "bi9IfZIzTh2q",
        "outputId": "d2530c20-e68b-4dba-f9fd-6d4fb57019ba"
      },
      "outputs": [
        {
          "name": "stdout",
          "output_type": "stream",
          "text": [
            "2.0.0\n"
          ]
        }
      ],
      "source": [
        "print(tf.__version__)"
      ]
    },
    {
      "cell_type": "markdown",
      "metadata": {
        "id": "358JYhbETh2s"
      },
      "source": [
        "# Inputs and Labels"
      ]
    },
    {
      "cell_type": "code",
      "execution_count": 2,
      "metadata": {
        "id": "YLMn0AQGTh2t"
      },
      "outputs": [],
      "source": [
        "X = np.array([[0.,0.],[0.,1.],[1.,0.],[1.,1.]])\n",
        "y = np.array([0.,1.,1.,0.])"
      ]
    },
    {
      "cell_type": "markdown",
      "metadata": {
        "id": "Bg32Ma1gTh2u"
      },
      "source": [
        "# Two dense Layers"
      ]
    },
    {
      "cell_type": "code",
      "execution_count": 3,
      "metadata": {
        "id": "3Gvx0uvtTh2v"
      },
      "outputs": [],
      "source": [
        "model = Sequential()\n",
        "# first dense layer\n",
        "model.add(Dense(units=2,activation='sigmoid',input_dim=2))\n",
        "# second dense layer\n",
        "model.add(Dense(units=1,activation='sigmoid'))"
      ]
    },
    {
      "cell_type": "code",
      "execution_count": 4,
      "metadata": {
        "id": "JNnmf-bMTh2v"
      },
      "outputs": [],
      "source": [
        "# loss function and optimization\n",
        "model.compile(loss='binary_crossentropy',optimizer='sgd',metrics=['accuracy'])"
      ]
    },
    {
      "cell_type": "code",
      "execution_count": 5,
      "metadata": {
        "id": "LWjVZsnZTh2w",
        "outputId": "18433026-f678-439f-ce9c-5a27d8fde0d9",
        "colab": {
          "base_uri": "https://localhost:8080/"
        }
      },
      "outputs": [
        {
          "output_type": "stream",
          "name": "stdout",
          "text": [
            "Model: \"sequential\"\n",
            "_________________________________________________________________\n",
            " Layer (type)                Output Shape              Param #   \n",
            "=================================================================\n",
            " dense (Dense)               (None, 2)                 6         \n",
            "                                                                 \n",
            " dense_1 (Dense)             (None, 1)                 3         \n",
            "                                                                 \n",
            "=================================================================\n",
            "Total params: 9\n",
            "Trainable params: 9\n",
            "Non-trainable params: 0\n",
            "_________________________________________________________________\n",
            "None\n"
          ]
        }
      ],
      "source": [
        "# model summary\n",
        "print(model.summary())"
      ]
    },
    {
      "cell_type": "markdown",
      "metadata": {
        "id": "VCfxCJDSTh2x"
      },
      "source": [
        "# Train"
      ]
    },
    {
      "cell_type": "code",
      "execution_count": 6,
      "metadata": {
        "id": "vyL6eC7eTh2x",
        "outputId": "30e8a4d8-a308-4588-a493-934fb42dbf50",
        "colab": {
          "base_uri": "https://localhost:8080/"
        }
      },
      "outputs": [
        {
          "output_type": "execute_result",
          "data": {
            "text/plain": [
              "<keras.callbacks.History at 0x7f38a008a8d0>"
            ]
          },
          "metadata": {},
          "execution_count": 6
        }
      ],
      "source": [
        "# Train (takes about 3 minutes from Colab)\n",
        "model.fit(X,y,epochs=50000,batch_size=4,verbose=0)"
      ]
    },
    {
      "cell_type": "markdown",
      "metadata": {
        "id": "1Ll2hP7lTh2x"
      },
      "source": [
        "# Test\n",
        "[0, 0], [0, 1] outputs are less than 0.5,  \n",
        "[0, 1], [1, 0] outputs are greater than 0.5"
      ]
    },
    {
      "cell_type": "code",
      "execution_count": null,
      "metadata": {
        "id": "TBDlYn3VTh2y",
        "outputId": "ecc9e649-d908-40c0-f788-29ba040ad829"
      },
      "outputs": [
        {
          "name": "stdout",
          "output_type": "stream",
          "text": [
            "[[0.06190902]\n",
            " [0.94067526]\n",
            " [0.9409089 ]\n",
            " [0.07283714]]\n"
          ]
        }
      ],
      "source": [
        "print(model.predict(X,batch_size=4))"
      ]
    },
    {
      "cell_type": "markdown",
      "metadata": {
        "id": "soAXn3mZTh2y"
      },
      "source": [
        "# Printing First Dense layer's weights and bias\n",
        "first node's weights are 3.5567355, 3.549393, bias is -5.4060693 \n",
        "second node's weights are 5.79164, 5.7427516, bias is -2.3299"
      ]
    },
    {
      "cell_type": "code",
      "execution_count": null,
      "metadata": {
        "id": "7fbwTnZ9Th2y",
        "outputId": "1d933d3d-dc48-4ac1-933f-1594b2f704d8"
      },
      "outputs": [
        {
          "name": "stdout",
          "output_type": "stream",
          "text": [
            "first layer weights:  [[3.5567362 5.79164  ]\n",
            " [3.5493941 5.742752 ]]\n",
            "first layer bias:  [-5.40607  -2.329901]\n"
          ]
        }
      ],
      "source": [
        "print(\"first layer weights: \",model.layers[0].get_weights()[0])\n",
        "print(\"first layer bias: \",model.layers[0].get_weights()[1])"
      ]
    },
    {
      "cell_type": "markdown",
      "metadata": {
        "id": "oNqmj8lqTh2z"
      },
      "source": [
        "# Print Second Dense layer's weights and bias\n",
        "weights are -7.8013854, 7.392064, bias is-3.3388186"
      ]
    },
    {
      "cell_type": "code",
      "execution_count": null,
      "metadata": {
        "id": "mIxtJQGoTh2z",
        "outputId": "3116ed05-feab-4ef2-b17c-4f4d0dfa76aa"
      },
      "outputs": [
        {
          "name": "stdout",
          "output_type": "stream",
          "text": [
            "second layer weights:  [[-7.801387 ]\n",
            " [ 7.3920655]]\n",
            "second layer bias:  [-3.3388188]\n"
          ]
        }
      ],
      "source": [
        "print(\"second layer weights: \",model.layers[1].get_weights()[0])\n",
        "print(\"second layer bias: \",model.layers[1].get_weights()[1])"
      ]
    },
    {
      "cell_type": "markdown",
      "metadata": {
        "id": "Lz-ynwsWTh20"
      },
      "source": [
        "# calculate yourself and verify same result with TF dense layers"
      ]
    },
    {
      "cell_type": "code",
      "execution_count": null,
      "metadata": {
        "id": "MnYJyYypTh21"
      },
      "outputs": [],
      "source": [
        "import math\n",
        "\n",
        "def sigmoid(x):\n",
        "  return 1 / (1 + math.exp(-x))"
      ]
    },
    {
      "cell_type": "code",
      "execution_count": null,
      "metadata": {
        "id": "tWobLAZLTh21"
      },
      "outputs": [],
      "source": [
        "def get_output(x):\n",
        "    layer0 = model.layers[0]\n",
        "    # first dense layer, first node output\n",
        "    layer0_weights, layer0_bias = layer0.get_weights()\n",
        "    layer0_node0_weights = np.transpose(layer0_weights)[0]\n",
        "    layer0_node0_bias = layer0_bias[0]\n",
        "    layer0_node0_output = sigmoid( np.dot( x, layer0_node0_weights ) + layer0_node0_bias )\n",
        "    # second dense layer, second node output\n",
        "    layer0_node1_weights = np.transpose(layer0_weights)[1]\n",
        "    layer0_node1_bias = layer0_bias[1]\n",
        "    layer0_node1_output = sigmoid( np.dot( x, layer0_node1_weights ) + layer0_node1_bias )\n",
        "    # second layer output\n",
        "    layer1 = model.layers[1]\n",
        "    layer1_weights, layer1_bias = layer1.get_weights()\n",
        "    layer1_output = sigmoid( np.dot( [layer0_node0_output, layer0_node1_output], layer1_weights ) + layer1_bias )\n",
        "\n",
        "    print(layer1_output)"
      ]
    },
    {
      "cell_type": "code",
      "execution_count": null,
      "metadata": {
        "id": "ErPDoWPuTh23",
        "outputId": "5f72a1ca-d597-419f-f521-7c3f5918dde5"
      },
      "outputs": [
        {
          "name": "stdout",
          "output_type": "stream",
          "text": [
            "0.061909028513168735\n"
          ]
        }
      ],
      "source": [
        "get_output([0,0])"
      ]
    },
    {
      "cell_type": "code",
      "execution_count": null,
      "metadata": {
        "id": "gTFi2Sz8Th26",
        "outputId": "7e2c0775-be64-4a4b-82f2-69131473c1a3"
      },
      "outputs": [
        {
          "name": "stdout",
          "output_type": "stream",
          "text": [
            "0.9406752216593391\n"
          ]
        }
      ],
      "source": [
        "get_output([0,1])"
      ]
    },
    {
      "cell_type": "code",
      "execution_count": null,
      "metadata": {
        "id": "2I7H7w5PTh27",
        "outputId": "1c83577c-f2b2-4d0a-d092-091b93fb83f5"
      },
      "outputs": [
        {
          "name": "stdout",
          "output_type": "stream",
          "text": [
            "0.9409089934995193\n"
          ]
        }
      ],
      "source": [
        "get_output([1,0])"
      ]
    },
    {
      "cell_type": "code",
      "execution_count": null,
      "metadata": {
        "id": "bG6yD_u4Th28",
        "outputId": "f3d8400b-77fa-4956-825b-4b6daf093143"
      },
      "outputs": [
        {
          "name": "stdout",
          "output_type": "stream",
          "text": [
            "0.07283725484720817\n"
          ]
        }
      ],
      "source": [
        "get_output([1,1])"
      ]
    },
    {
      "cell_type": "code",
      "execution_count": null,
      "metadata": {
        "id": "Row2GJpxTh28"
      },
      "outputs": [],
      "source": [
        ""
      ]
    }
  ],
  "metadata": {
    "kernelspec": {
      "display_name": "Python 3",
      "language": "python",
      "name": "python3"
    },
    "language_info": {
      "codemirror_mode": {
        "name": "ipython",
        "version": 3
      },
      "file_extension": ".py",
      "mimetype": "text/x-python",
      "name": "python",
      "nbconvert_exporter": "python",
      "pygments_lexer": "ipython3",
      "version": "3.7.5"
    },
    "colab": {
      "name": "03.Dense_layer_XOR.ipynb",
      "provenance": []
    }
  },
  "nbformat": 4,
  "nbformat_minor": 0
}