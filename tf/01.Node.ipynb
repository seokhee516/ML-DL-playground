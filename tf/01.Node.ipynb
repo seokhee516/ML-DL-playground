{
  "cells": [
    {
      "cell_type": "markdown",
      "metadata": {
        "id": "DWqxUhEsB2L9"
      },
      "source": [
        "<a href=\"https://colab.research.google.com/github/minsuk-heo/tf2/blob/master/jupyter_notebooks/01.Node.ipynb\" target=\"_parent\"><img src=\"https://colab.research.google.com/assets/colab-badge.svg\" alt=\"Open In Colab\"/></a>"
      ]
    },
    {
      "cell_type": "code",
      "execution_count": 1,
      "metadata": {
        "id": "HLIbTG4EB2MA"
      },
      "outputs": [],
      "source": [
        "# For Colab to use Tensorflow 2.X\n",
        "from __future__ import absolute_import, division, print_function, unicode_literals\n",
        "\n",
        "try:\n",
        "  %tensorflow_version 2.x\n",
        "except Exception:\n",
        "  pass"
      ]
    },
    {
      "cell_type": "code",
      "execution_count": null,
      "metadata": {
        "id": "fArNRqWDB2MC"
      },
      "outputs": [],
      "source": [
        "import tensorflow as tf"
      ]
    },
    {
      "cell_type": "markdown",
      "metadata": {
        "id": "qeWjr51MB2MD"
      },
      "source": [
        "# One Feature Node"
      ]
    },
    {
      "cell_type": "code",
      "execution_count": null,
      "metadata": {
        "id": "BX8auruyB2ME"
      },
      "outputs": [],
      "source": [
        "class One_Feature_Node:\n",
        "    def __init__(self):\n",
        "        self.w = tf.Variable([[0.1]])\n",
        "        self.b = tf.Variable([[0.5]])\n",
        "        \n",
        "    def __call__(self, x):\n",
        "        return self.get_output(x)\n",
        "    \n",
        "    def get_output(self,x):\n",
        "        out = tf.matmul(x,self.w)\n",
        "        print(\"matmul result: \", out.numpy())\n",
        "        out = tf.add(out, self.b)\n",
        "        print(\"adding bias result: \", out.numpy())\n",
        "        out = tf.math.sigmoid(out)\n",
        "        print(\"sigmoid result:\", out.numpy())\n",
        "        return out"
      ]
    },
    {
      "cell_type": "code",
      "execution_count": null,
      "metadata": {
        "id": "y1MA6_e5B2MF",
        "outputId": "207c2140-7b0f-426b-ed28-084797318bd4"
      },
      "outputs": [
        {
          "name": "stdout",
          "output_type": "stream",
          "text": [
            "matmul result:  [[0.1]]\n",
            "adding bias result:  [[0.6]]\n",
            "sigmoid result: [[0.6456563]]\n"
          ]
        },
        {
          "data": {
            "text/plain": [
              "<tf.Tensor: id=20, shape=(1, 1), dtype=float32, numpy=array([[0.6456563]], dtype=float32)>"
            ]
          },
          "execution_count": 4,
          "metadata": {},
          "output_type": "execute_result"
        }
      ],
      "source": [
        "# Single Input\n",
        "x = tf.constant([[1.0]])\n",
        "\n",
        "one_feature_node = One_Feature_Node()\n",
        "one_feature_node(x)"
      ]
    },
    {
      "cell_type": "markdown",
      "metadata": {
        "id": "mToWOrWvB2MG"
      },
      "source": [
        "# Two Features Node"
      ]
    },
    {
      "cell_type": "code",
      "execution_count": null,
      "metadata": {
        "id": "-70UHdm7B2MH"
      },
      "outputs": [],
      "source": [
        "class Two_Features_Node:\n",
        "    def __init__(self):\n",
        "        self.w = tf.Variable([[0.1], [0.2]])\n",
        "        self.b = tf.Variable([[0.5]])\n",
        "        \n",
        "    def __call__(self, x):\n",
        "        return self.get_output(x)\n",
        "    \n",
        "    def get_output(self,x):\n",
        "        out = tf.matmul(x,self.w)\n",
        "        print(\"matmul result: \", out.numpy())\n",
        "        out = tf.add(out, self.b)\n",
        "        print(\"adding bias result: \", out.numpy())\n",
        "        out = tf.math.sigmoid(out)\n",
        "        print(\"sigmoid result:\", out.numpy())\n",
        "        return out"
      ]
    },
    {
      "cell_type": "code",
      "execution_count": null,
      "metadata": {
        "id": "gynLT1k7B2MJ",
        "outputId": "8b5b6a98-6383-4725-cc21-14bc6e1a48fa"
      },
      "outputs": [
        {
          "name": "stdout",
          "output_type": "stream",
          "text": [
            "matmul result:  [[0.5]]\n",
            "adding bias result:  [[1.]]\n",
            "sigmoid result: [[0.7310586]]\n"
          ]
        },
        {
          "data": {
            "text/plain": [
              "<tf.Tensor: id=40, shape=(1, 1), dtype=float32, numpy=array([[0.7310586]], dtype=float32)>"
            ]
          },
          "execution_count": 6,
          "metadata": {},
          "output_type": "execute_result"
        }
      ],
      "source": [
        "# Multi Features Single Input (Two features for one data)\n",
        "x = tf.constant([[1.0,2.0]])\n",
        "\n",
        "two_features_node = Two_Features_Node()\n",
        "two_features_node(x)"
      ]
    },
    {
      "cell_type": "markdown",
      "metadata": {
        "id": "6at2F8jGB2MK"
      },
      "source": [
        "# N inputs for Two Features Node"
      ]
    },
    {
      "cell_type": "code",
      "execution_count": null,
      "metadata": {
        "id": "BLnIJSLvB2MK",
        "outputId": "d3d91a19-b4a4-48c1-ec73-c93629e2f994"
      },
      "outputs": [
        {
          "name": "stdout",
          "output_type": "stream",
          "text": [
            "matmul result:  [[0.5]\n",
            " [0.8]\n",
            " [1.4]]\n",
            "adding bias result:  [[1. ]\n",
            " [1.3]\n",
            " [1.9]]\n",
            "sigmoid result: [[0.7310586]\n",
            " [0.785835 ]\n",
            " [0.8698916]]\n"
          ]
        },
        {
          "data": {
            "text/plain": [
              "<tf.Tensor: id=60, shape=(3, 1), dtype=float32, numpy=\n",
              "array([[0.7310586],\n",
              "       [0.785835 ],\n",
              "       [0.8698916]], dtype=float32)>"
            ]
          },
          "execution_count": 7,
          "metadata": {},
          "output_type": "execute_result"
        }
      ],
      "source": [
        "# Multi Input Data (3 samples)\n",
        "x = tf.constant([[1.0,2.0],[2.0,3.0],[4.0,5.0]])\n",
        "\n",
        "two_features_node = Two_Features_Node()\n",
        "two_features_node(x)"
      ]
    },
    {
      "cell_type": "markdown",
      "metadata": {
        "id": "72bs3ZvDB2ML"
      },
      "source": [
        "# tf.function speed check\n",
        "tf.function decoration put your python onto autograph.  \n",
        "This enables faster execution, running on GPU or TPU, or exporting to SavedModel."
      ]
    },
    {
      "cell_type": "code",
      "execution_count": null,
      "metadata": {
        "id": "Ti_MwEqPB2ML"
      },
      "outputs": [],
      "source": [
        "import timeit"
      ]
    },
    {
      "cell_type": "code",
      "execution_count": null,
      "metadata": {
        "id": "NGxm_Q85B2ML"
      },
      "outputs": [],
      "source": [
        "class Two_Features_Node2:\n",
        "    def __init__(self):\n",
        "        self.w = tf.Variable([[0.1], [0.2]])\n",
        "        self.b = tf.Variable([[0.5]])\n",
        "        \n",
        "    def __call__(self, x):\n",
        "        return self.get_output(x)\n",
        "    \n",
        "    def get_output(self,x):\n",
        "        for i in range(50):\n",
        "            out = tf.matmul(x,self.w)\n",
        "            out = tf.add(out, self.b)\n",
        "            out = tf.math.sigmoid(out)\n",
        "        return out\n",
        "    \n",
        "    @tf.function\n",
        "    def get_output_faster(self,x):\n",
        "        for i in range(50):\n",
        "            out = tf.matmul(x,self.w)\n",
        "            out = tf.add(out, self.b)\n",
        "            out = tf.math.sigmoid(out)\n",
        "        return out"
      ]
    },
    {
      "cell_type": "code",
      "execution_count": null,
      "metadata": {
        "id": "kXSpv0ZUB2MM"
      },
      "outputs": [],
      "source": [
        "two_features_node2 = Two_Features_Node2()\n",
        "get_output_without_tf_function_timeit = timeit.timeit(lambda: two_features_node2.get_output(x), number=300)\n",
        "get_output_faster_with_tf_function_timeit = timeit.timeit(lambda: two_features_node2.get_output_faster(x), number=300)\n",
        "time_diff = round(get_output_without_tf_function_timeit / get_output_faster_with_tf_function_timeit, 1)"
      ]
    },
    {
      "cell_type": "code",
      "execution_count": null,
      "metadata": {
        "id": "d0Sam_3-B2MM",
        "outputId": "fd20fc65-9c78-47e8-d362-e7dd1e9749c5"
      },
      "outputs": [
        {
          "name": "stdout",
          "output_type": "stream",
          "text": [
            "get_output_faster(@tf.function) is 58.4 times faster than get_output_without_tf_function!\n"
          ]
        }
      ],
      "source": [
        "print(\"get_output_faster(@tf.function) is \" + str(time_diff) + \" times faster than get_output_without_tf_function!\")"
      ]
    },
    {
      "cell_type": "code",
      "execution_count": null,
      "metadata": {
        "id": "IJy6X2ToB2MN"
      },
      "outputs": [],
      "source": [
        ""
      ]
    }
  ],
  "metadata": {
    "kernelspec": {
      "display_name": "Python 3",
      "language": "python",
      "name": "python3"
    },
    "language_info": {
      "codemirror_mode": {
        "name": "ipython",
        "version": 3
      },
      "file_extension": ".py",
      "mimetype": "text/x-python",
      "name": "python",
      "nbconvert_exporter": "python",
      "pygments_lexer": "ipython3",
      "version": "3.7.5"
    },
    "colab": {
      "name": "01.Node.ipynb",
      "provenance": []
    }
  },
  "nbformat": 4,
  "nbformat_minor": 0
}