{
  "nbformat": 4,
  "nbformat_minor": 0,
  "metadata": {
    "accelerator": "GPU",
    "colab": {
      "name": "_객체 탐지 (Object Detection) - YOLO.ipynb",
      "provenance": [],
      "collapsed_sections": [],
      "machine_shape": "hm",
      "include_colab_link": true
    },
    "kernelspec": {
      "display_name": "Python 3",
      "name": "python3"
    }
  },
  "cells": [
    {
      "cell_type": "markdown",
      "metadata": {
        "id": "view-in-github",
        "colab_type": "text"
      },
      "source": [
        "<a href=\"https://colab.research.google.com/github/seokhee516/ML-DL-playground/blob/main/_%EA%B0%9D%EC%B2%B4_%ED%83%90%EC%A7%80_(Object_Detection)_YOLO.ipynb\" target=\"_parent\"><img src=\"https://colab.research.google.com/assets/colab-badge.svg\" alt=\"Open In Colab\"/></a>"
      ]
    },
    {
      "cell_type": "markdown",
      "metadata": {
        "id": "xL799-9jT1W7"
      },
      "source": [
        "- 참조 : https://github.com/wikibook/dl-vision"
      ]
    },
    {
      "cell_type": "markdown",
      "metadata": {
        "id": "aE7-X_QfSm0G"
      },
      "source": [
        "# 객체 탐지 (Object Detection)\n",
        "\n",
        "- 한 이미지에서 객체와 그 경계 상자(bounding box)를 탐지\n",
        "\n",
        "- 객체 탐지 알고리즘은 일반적으로 이미지를 입력으로 받고, 경계 상자와 객체 클래스 리스트를 출력\n",
        "\n",
        "- 경계 상자에 대해 그에 대응하는 예측 클래스와 클래스의 신뢰도(confidence)를 출력\n",
        "\n",
        "## Applications\n",
        "\n",
        "- 자율 주행 자동차에서 다른 자동차와 보행자를 찾을 때\n",
        "\n",
        "- 의료 분야에서 방사선 사진을 사용해 종양이나 위험한 조직을 찾을 때\n",
        "\n",
        "- 제조업에서 조립 로봇이 제품을 조립하거나 수리할 때\n",
        "\n",
        "- 보안 산업에서 위협을 탐지하거나 사람을 셀 때"
      ]
    },
    {
      "cell_type": "markdown",
      "metadata": {
        "id": "4LGNVEwnfNjn"
      },
      "source": [
        "## 용어 설명"
      ]
    },
    {
      "cell_type": "markdown",
      "metadata": {
        "id": "IZnxALKYfP8s"
      },
      "source": [
        "### Boudning Box\n",
        "\n",
        "- 이미지에서 하나의 객체 전체를 포함하는 가장 작은 직사각형\n",
        "\n",
        "  <img src=\"https://miro.medium.com/max/850/1*KL6r494Eyfh3iYEXQA2tzg.png\">\n",
        "\n",
        "  <sub>[이미지 출처] https://medium.com/anolytics/how-bounding-box-annotation-helps-object-detection-in-machine-learning-use-cases-431d93e7b25b</sub>"
      ]
    },
    {
      "cell_type": "markdown",
      "metadata": {
        "id": "nx5ViAXvwcWS"
      },
      "source": [
        "### IOU(Intersection Over Union)\n",
        "- 실측값(Ground Truth)과 모델이 예측한 값이 얼마나 겹치는지를 나타내는 지표\n",
        "\n",
        "  <img src=\"https://pyimagesearch.com/wp-content/uploads/2016/09/iou_equation.png\" width=\"300\">\n",
        "\n",
        "- IOU가 높을수록 잘 예측한 모델\n",
        "\n",
        "  <img src=\"https://pyimagesearch.com/wp-content/uploads/2016/09/iou_examples.png\" width=\"400\">\n",
        "\n",
        "<br>\n",
        "\n",
        "- 예시\n",
        "  <img src=\"https://www.pyimagesearch.com/wp-content/uploads/2016/09/iou_stop_sign.jpg\">\n",
        "\n",
        "  <sub>[이미지 출처] https://www.pyimagesearch.com/2016/11/07/intersection-over-union-iou-for-object-detection/</sub>"
      ]
    },
    {
      "cell_type": "code",
      "metadata": {
        "id": "bHVxK0LXqd74"
      },
      "source": [
        "def compute_iou(pred_box, gt_box):\n",
        "  x1 = np.maximum(pred_box[0], gt_box[0])\n",
        "  y1 = np.maximum(pred_box[1], gt_box[1])\n",
        "  x2 = np.maximum(pred_box[2], gt_box[2])\n",
        "  y2 = np.maximum(pred_box[3], gt_box[3])\n",
        "\n",
        "  intersection = np.maximum(x2 - x1, 0) * np.maximum(y2 - y1, 0)\n",
        "\n",
        "  pred_box_area = (pred_box[2] - pred_box[0]) * (pred_box[3] - pred_box[1])\n",
        "  gt_box_area = (gt_box[2] - gt_box[0]) * (gt_box[3] - gt_box[1])\n",
        "  union = pred_box_area + gt_box_area - intersection_area\n",
        "\n",
        "  iou = intersection / union\n",
        "\n",
        "  return iou"
      ],
      "execution_count": 1,
      "outputs": []
    },
    {
      "cell_type": "markdown",
      "metadata": {
        "id": "fKL2Ae7SoYDs"
      },
      "source": [
        "### NMS(Non-Maximum Suppression, 비최댓값 억제)\n",
        "\n",
        "- 확률이 가장 높은 상자와 겹치는 상자들을 제거하는 과정\n",
        "\n",
        "- 최댓값을 갖지 않는 상자들을 제거\n",
        "\n",
        "- 과정\n",
        "\n",
        "  1. 확률 기준으로 모든 상자를 정렬하고 먼저 가장 확률이 높은 상자를 취함\n",
        "\n",
        "  2. 각 상자에 대해 다른 모든 상자와의 IOU를 계산\n",
        "\n",
        "  3. 특정 임곗값을 넘는 상자는 제거\n",
        "\n",
        "  <img src=\"https://pyimagesearch.com/wp-content/uploads/2014/10/nms_fast_03.jpg\">\n",
        "\n",
        "  <sub>[이미지 출처] https://www.pyimagesearch.com/2015/02/16/faster-non-maximum-suppression-python/</sub>"
      ]
    },
    {
      "cell_type": "code",
      "metadata": {
        "id": "WTh_WYA0tUBz"
      },
      "source": [
        "import numpy as np\n",
        "def non_max_surppression_fast(boxes, overlap_thresh):\n",
        "  if len(boxes) == 0:\n",
        "    return []\n",
        "  \n",
        "  if boxes.dtype.kind == 'i':\n",
        "    boxes = boxes.astype('float')\n",
        "  \n",
        "  pick = []\n",
        "  x1 = boxes[:, 0]\n",
        "  y1 = boxes[:, 1]\n",
        "  x2 = boxes[:, 2]\n",
        "  y2 = boxes[:, 3]\n",
        "\n",
        "  area = (x2 - x1 +1) * (y2 - y1 + 1)\n",
        "  idxs = np.argsort(y2)\n",
        "  \n",
        "  while len(idxs) > 0:\n",
        "    last = len(idxs) - 1\n",
        "    i = idxs[last]\n",
        "    pick.append(i)\n",
        "\n",
        "    xx1 = np.maximum(x1[i], x1[idxs[:last]])\n",
        "    yy1 = np.maximum(y1[i], y1[idxs[:last]])\n",
        "    xx2 = np.maximum(x2[i], x2[idxs[:last]])\n",
        "    yy2 = np.maximum(y2[i], y2[idxs[:last]])\n",
        "\n",
        "    w = np.maximum(0, xx2 - xx1 + 1)\n",
        "    h = np.maximum(0, yy2 - yy1 + 1)\n",
        "\n",
        "    overlap = (w * h) /area[idxs[:last]]\n",
        "\n",
        "    idxs = np.delete(idxs, np.concatenate(([last], np.where(overlap > overlap_thresh)[0])))\n",
        "  return boxes[pick].astype('int')"
      ],
      "execution_count": 2,
      "outputs": []
    },
    {
      "cell_type": "markdown",
      "metadata": {
        "id": "WSLe74EnU6zQ"
      },
      "source": [
        "## 모델 성능 평가"
      ]
    },
    {
      "cell_type": "markdown",
      "metadata": {
        "id": "5zMP3ecSU1pa"
      },
      "source": [
        "### 정밀도와 재현율\n",
        "\n",
        "- 일반적으로 객체 탐지 모델 평가에 사용되지는 않지만, 다른 지표를 계산하는 기본 지표 역할을 함\n",
        "\n",
        "  - `TP` \n",
        "\n",
        "    - True Positives\n",
        "\n",
        "    - 예측이 동일 클래스의 실제 상자와 일치하는지 측정\n",
        "\n",
        "  - `FP`\n",
        "\n",
        "    - False Positives\n",
        "\n",
        "    - 예측이 실제 상자와 일치하지 않는지 측정\n",
        "\n",
        "  - `FN`\n",
        "\n",
        "    - False Negatives\n",
        "\n",
        "    - 실제 분류값이 그와 일치하는 예측을 갖지 못하는지 측정\n",
        "\n",
        "<br>\n",
        "\n",
        "## $\\qquad precision = \\frac{TP}{TP \\ + \\ FP}$\n",
        "## $\\qquad recall = \\frac{TP}{TP \\ + \\ FN}$\n",
        "\n",
        "  - 모델이 안정적이지 않은 특징을 기반으로 객체 존재를 예측하면 거짓긍정(FP)이 많아져서 정밀도가 낮아짐\n",
        "\n",
        "  - 모델이 너무 엄격해서 정확한 조건을 만족할 때만 객체가 탐지된 것으로 간주하면 거짓부정(FN)이 많아져서 재현율이 낮아짐\n",
        "\n"
      ]
    },
    {
      "cell_type": "markdown",
      "metadata": {
        "id": "kTDOrbKYkSyh"
      },
      "source": [
        "### 정밀도-재현율 곡선(precision-recall curve) \n",
        "\n",
        "- 신뢰도 임곗값마다 모델의 정밀도와 재현율을 시각화\n",
        "\n",
        "- 모든 bounding box와 함께 모델이 예측의 정확성을 얼마나 확실하는지 0 ~ 1사이의 숫자로 나타내는 신뢰도를 출력\n",
        "\n",
        "- 임계값 T에 따라 정밀도와 재현율이 달라짐\n",
        "\n",
        "  - 임곗값 T 이하의 예측은 제거함\n",
        "\n",
        "  - T가 1에 가까우면 정밀도는 높지만 재현율은 낮음  \n",
        "    놓치는 객체가 많아져서 재현율이 낮아짐. 즉, 신뢰도가 높은 예측만 유지하기때문에 정밀도는 높아짐\n",
        "\n",
        "  - T가 0에 가까우면 정밀도는 낮지만 재현율은 높음  \n",
        "    대부분의 예측을 유지하기때문에 재현율은 높아지고, 거짓긍정(FP)이 많아져서 정밀도가 낮아짐\n",
        "\n",
        "- 예를 들어, 모델이 보행자를 탐지하고 있으면 특별한 이유없이 차를 세우더라도 어떤 보행자도 놓치지 않도록 재현율을 높여야 함\n",
        "  모델이 투자 기회를 탐지하고 있다면 일부 기회를 놓치게 되더라도 잘못된 기회에 돈을 거는 일을 피하기 위해 정밀도를 높여야 함\n",
        "\n",
        "<img src=\"https://www.researchgate.net/profile/Davide_Chicco/publication/321672019/figure/fig1/AS:614279602511886@1523467078452/a-Example-of-Precision-Recall-curve-with-the-precision-score-on-the-y-axis-and-the.png\">\n",
        "\n",
        "<sub>[이미지 출처] https://www.researchgate.net/figure/a-Example-of-Precision-Recall-curve-with-the-precision-score-on-the-y-axis-and-the_fig1_321672019</sub>"
      ]
    },
    {
      "cell_type": "markdown",
      "metadata": {
        "id": "9TNopqHBmh2T"
      },
      "source": [
        "### AP (Average Precision, 평균 정밀도) 와 mAP(mean Average Precision)\n",
        "\n",
        "- 곡선의 아래 영역에 해당\n",
        "\n",
        "- 항상 1x1 정사각형으로 구성되어 있음  \n",
        "  즉, 항상 0 ~ 1 사이의 값을 가짐\n",
        "\n",
        "- 단일 클래스에 대한 모델 성능 정보를 제공\n",
        "\n",
        "- 전역 점수를 얻기위해서 mAP를 사용\n",
        "\n",
        "- 예를 들어, 데이터셋이 10개의 클래스로 구성된다면 각 클래스에 대한 AP를 계산하고, 그 숫자들의 평균을 다시 구함\n",
        "\n",
        "- (참고)\n",
        "\n",
        "  - 최소 2개 이상의 객체를 탐지하는 대회인 PASCAL Visual Object Classes와 Common Objects in Context(COCO)에서 mAP가 사용됨\n",
        "\n",
        "  - COCO 데이터셋이 더 많은 클래스를 포함하고 있기 때문에 보통 Pascal VOC보다 점수가 더 낮게 나옴\n",
        "\n",
        "  - 예시\n",
        "\n",
        "    <img src=\"https://www.researchgate.net/profile/Bong_Nam_Kang/publication/328939155/figure/tbl2/AS:692891936649218@1542209719916/Evaluation-on-PASCAL-VOC-2007-and-MS-COCO-test-dev.png\">\n",
        "\n",
        "    <sub>[이미지 출처] https://www.researchgate.net/figure/Evaluation-on-PASCAL-VOC-2007-and-MS-COCO-test-dev_tbl2_328939155</sub>"
      ]
    },
    {
      "cell_type": "markdown",
      "metadata": {
        "id": "KN1jyyGEkTvx"
      },
      "source": [
        "## Dataset"
      ]
    },
    {
      "cell_type": "markdown",
      "metadata": {
        "id": "Eprofi5rbUuA"
      },
      "source": [
        "### VOC\n",
        "\n",
        "- 2005년부터 2012년까지 진행\n",
        "\n",
        "- Object Detection 기술의 benchmark로 간주\n",
        "\n",
        "- 데이터셋에는 20개의 클래스가 존재\n",
        "\n",
        "      background\n",
        "      aeroplane\n",
        "      bicycle\n",
        "      bird\n",
        "      boat\n",
        "      bottle\n",
        "      bus\n",
        "      car\n",
        "      cat\n",
        "      chair\n",
        "      cow\n",
        "      diningtable\n",
        "      dog\n",
        "      horse\n",
        "      motorbike\n",
        "      person\n",
        "      pottedplant\n",
        "      sheep\n",
        "      sofa\n",
        "      train\n",
        "      tvmonitor\n",
        "\n",
        "- 훈련 및 검증 데이터 : 11,530개\n",
        "\n",
        "- ROI에 대한 27,450개의 Annotation이 존재\n",
        "\n",
        "- 이미지당 2.4개의 객체 존재\n",
        "\n",
        "  <img src=\"https://paperswithcode.github.io/sotabench-eval/img/pascalvoc2012.png\">\n",
        "\n",
        "  <sub>[이미지 출처] https://paperswithcode.github.io/sotabench-eval/pascalvoc/</sub>"
      ]
    },
    {
      "cell_type": "markdown",
      "metadata": {
        "id": "zL1IEr71bWE_"
      },
      "source": [
        "### COCO Dataset\n",
        "\n",
        "- Common Objects in Context\n",
        "\n",
        "- 200,000개의 이미지 \n",
        "\n",
        "- 80개의 카테고리에 500,000개 이상의 객체 Annotation이 존재\n",
        "      person\n",
        "      bicycle\n",
        "      car\n",
        "      motorbike\n",
        "      aeroplane\n",
        "      bus\n",
        "      train\n",
        "      truck\n",
        "      boat\n",
        "      traffic light\n",
        "      fire hydrant\n",
        "      stop sign\n",
        "      parking meter\n",
        "      bench\n",
        "      bird\n",
        "      cat\n",
        "      dog\n",
        "      horse\n",
        "      sheep\n",
        "      cow\n",
        "      elephant\n",
        "      bear\n",
        "      zebra\n",
        "      giraffe\n",
        "      backpack\n",
        "      umbrella\n",
        "      handbag\n",
        "      tie\n",
        "      suitcase\n",
        "      frisbee\n",
        "      skis\n",
        "      snowboard\n",
        "      sports ball\n",
        "      kite\n",
        "      baseball bat\n",
        "      baseball glove\n",
        "      skateboard\n",
        "      surfboard\n",
        "      tennis racket\n",
        "      bottle\n",
        "      wine glass\n",
        "      cup\n",
        "      fork\n",
        "      knife\n",
        "      spoon\n",
        "      bowl\n",
        "      banana\n",
        "      apple\n",
        "      sandwich\n",
        "      orange\n",
        "      broccoli\n",
        "      carrot\n",
        "      hot dog\n",
        "      pizza\n",
        "      donut\n",
        "      cake\n",
        "      chair\n",
        "      sofa\n",
        "      pottedplant\n",
        "      bed\n",
        "      diningtable\n",
        "      toilet\n",
        "      tvmonitor\n",
        "      laptop\n",
        "      mouse\n",
        "      remote\n",
        "      keyboard\n",
        "      cell phone\n",
        "      microwave\n",
        "      oven\n",
        "      toaster\n",
        "      sink\n",
        "      refrigerator\n",
        "      book\n",
        "      clock\n",
        "      vase\n",
        "      scissors\n",
        "      teddy bear\n",
        "      hair drier\n",
        "      toothbrush\n",
        "- https://cocodataset.org/#home\n",
        "\n",
        "<img src=\"https://cocodataset.org/images/coco-examples.jpg\">\n",
        "\n"
      ]
    },
    {
      "cell_type": "markdown",
      "metadata": {
        "id": "EMmlbrpjeD6e"
      },
      "source": [
        "# YOLO (You Only Look Once)\n",
        "\n",
        "- 가장 빠른 객체 검출 알고리즘 중 하나\n",
        "\n",
        "- 256x256 사이즈의 이미지\n",
        "\n",
        "- GPU 사용 시, 초당 170프레임(170**FPS**, **frames per second**),  \n",
        "  이는 파이썬, 텐서플로 기반 프레임워크가 아닌 C++로 구현된 코드 기준\n",
        "\n",
        "- 작은 크기의 물체를 탐지하는데는 어려움\n",
        "\n",
        "<img src=\"https://miro.medium.com/max/1400/1*bSLNlG7crv-p-m4LVYYk3Q.png\" width=\"600\">\n",
        "\n",
        "\n",
        "- https://pjreddie.com/darknet/yolo/\n",
        "\n",
        "- 자세한 내용 참조 : https://www.kaggle.com/aruchomu/yolo-v3-object-detection-in-tensorflow"
      ]
    },
    {
      "cell_type": "markdown",
      "metadata": {
        "id": "txORxnfIAegL"
      },
      "source": [
        "## YOLO Backbone\n",
        "\n",
        "- 백본 모델(backbone model) 기반\n",
        "\n",
        "- 특징 추출기(Feature Extractor)라고도 불림\n",
        "\n",
        "- YOLO는 자체 맞춤 아키텍쳐 사용\n",
        "\n",
        "- 어떤 특징 추출기 아키텍쳐를 사용했는지에 따라 성능 달라짐\n",
        "\n",
        "  <img src=\"https://www.researchgate.net/publication/335865923/figure/fig1/AS:804106595758082@1568725360777/Structure-detail-of-YOLOv3It-uses-Darknet-53-as-the-backbone-network-and-uses-three.jpg\">\n",
        "\n",
        "  <sub>[이미지 출처] https://www.researchgate.net/figure/Structure-detail-of-YOLOv3It-uses-Darknet-53-as-the-backbone-network-and-uses-three_fig1_335865923</sub>\n",
        "\n",
        "- 마지막 계층은 크기가 $w \\times h \\times D$인 특징 볼륨 출력\n",
        "\n",
        "- $w \\times h $는 그리드의 크기이고, $D$는 특징 볼륨 깊이\n",
        "\n"
      ]
    },
    {
      "cell_type": "markdown",
      "metadata": {
        "id": "7qWbjby_DwuF"
      },
      "source": [
        "## YOLO의 계층 출력\n",
        "\n",
        "- 마지막 계층 출력은 $w \\times h \\times M$ 행렬\n",
        "  \n",
        "  - $M = B \\times (C + 5)$\n",
        "\n",
        "    - B : 그리드 셀당 경계 상자 개수\n",
        "\n",
        "    - C : 클래스 개수\n",
        "\n",
        "  - 클래스 개수에 5를 더한 이유는 해당 값 만큼의 숫자를 예측해야함\n",
        "\n",
        "    - $t_x$, $t_y$는 경계상자의 중심 좌표를 계산\n",
        "\n",
        "    - $t_w$, $t_h$는 경계상자의 너비와 높이를 계산\n",
        "\n",
        "    - $c$는 객체가 경계 상자 안에 있다고 확신하는 신뢰도\n",
        "\n",
        "    - $p1, p2, ..., pC$는 경계상자가 클래스 1, 2, ..., C의 객체를 포함할 확률\n",
        "  \n",
        "  <br>\n",
        "\n",
        "  <img src=\"https://www.researchgate.net/profile/Thi_Le3/publication/337705605/figure/fig3/AS:831927326089217@1575358339500/Structure-of-one-output-cell-in-YOLO.ppm\">\n",
        "\n",
        "  <sub>[이미지 출처] https://www.researchgate.net/figure/Structure-of-one-output-cell-in-YOLO_fig3_337705605</sub>"
      ]
    },
    {
      "cell_type": "markdown",
      "metadata": {
        "id": "AarR-8M1kkAc"
      },
      "source": [
        "## 앵커 박스(Anchor Box)\n",
        "\n",
        "- YOLOv2에서 도입\n",
        "\n",
        "- 사전 정의된 상자(prior box)\n",
        "\n",
        "- 객체에 가장 근접한 앵커 박스를 맞추고 신경망을 사용해 앵커 박스의 크기를 조정하는 과정때문에 $t_x, t_y, t_w, t_h$이 필요\n",
        "\n",
        "  <img src=\"https://kr.mathworks.com/help/vision/ug/ssd_detection.png\">\n",
        "\n",
        "  <sub>[이미지 출처] https://kr.mathworks.com/help/vision/ug/getting-started-with-yolo-v2.html</sub>"
      ]
    },
    {
      "cell_type": "markdown",
      "metadata": {
        "id": "CdToZZ3xokiM"
      },
      "source": [
        "# YOLOv3 Inference 연습 : tensorflow 2\n",
        "\n",
        "- 코드 참조 : https://github.com/zzh8829/yolov3-tf2"
      ]
    },
    {
      "cell_type": "markdown",
      "metadata": {
        "id": "3B8C3YpS4n2a"
      },
      "source": [
        "## Clone and install dependencies"
      ]
    },
    {
      "cell_type": "code",
      "metadata": {
        "id": "qb3jBxF9x-JR",
        "outputId": "4923d19a-fe27-4b68-c20c-48101942a014",
        "colab": {
          "base_uri": "https://localhost:8080/"
        }
      },
      "source": [
        "! git clone https://github.com/zzh8829/yolov3-tf2"
      ],
      "execution_count": 3,
      "outputs": [
        {
          "output_type": "stream",
          "name": "stdout",
          "text": [
            "fatal: destination path 'yolov3-tf2' already exists and is not an empty directory.\n"
          ]
        }
      ]
    },
    {
      "cell_type": "code",
      "source": [
        "%cd yolov3-tf2/\n",
        "!pip install -r requirements-gpu.txt"
      ],
      "metadata": {
        "id": "XwWdIIyUPicM",
        "outputId": "680ded74-4b2b-4a8b-cddd-335636071599",
        "colab": {
          "base_uri": "https://localhost:8080/"
        }
      },
      "execution_count": 4,
      "outputs": [
        {
          "output_type": "stream",
          "name": "stdout",
          "text": [
            "/content/yolov3-tf2\n",
            "Obtaining file:///content/yolov3-tf2 (from -r requirements-gpu.txt (line 6))\n",
            "Requirement already satisfied: tensorflow-gpu==2.5.1 in /usr/local/lib/python3.7/dist-packages (from -r requirements-gpu.txt (line 1)) (2.5.1)\n",
            "Requirement already satisfied: opencv-python==4.2.0.32 in /usr/local/lib/python3.7/dist-packages (from -r requirements-gpu.txt (line 2)) (4.2.0.32)\n",
            "Requirement already satisfied: lxml in /usr/local/lib/python3.7/dist-packages (from -r requirements-gpu.txt (line 3)) (4.2.6)\n",
            "Requirement already satisfied: tqdm in /usr/local/lib/python3.7/dist-packages (from -r requirements-gpu.txt (line 4)) (4.62.3)\n",
            "Requirement already satisfied: protobuf>=3.9.2 in /usr/local/lib/python3.7/dist-packages (from tensorflow-gpu==2.5.1->-r requirements-gpu.txt (line 1)) (3.17.3)\n",
            "Requirement already satisfied: keras-nightly~=2.5.0.dev in /usr/local/lib/python3.7/dist-packages (from tensorflow-gpu==2.5.1->-r requirements-gpu.txt (line 1)) (2.5.0.dev2021032900)\n",
            "Requirement already satisfied: astunparse~=1.6.3 in /usr/local/lib/python3.7/dist-packages (from tensorflow-gpu==2.5.1->-r requirements-gpu.txt (line 1)) (1.6.3)\n",
            "Requirement already satisfied: google-pasta~=0.2 in /usr/local/lib/python3.7/dist-packages (from tensorflow-gpu==2.5.1->-r requirements-gpu.txt (line 1)) (0.2.0)\n",
            "Requirement already satisfied: wheel~=0.35 in /usr/local/lib/python3.7/dist-packages (from tensorflow-gpu==2.5.1->-r requirements-gpu.txt (line 1)) (0.37.1)\n",
            "Requirement already satisfied: keras-preprocessing~=1.1.2 in /usr/local/lib/python3.7/dist-packages (from tensorflow-gpu==2.5.1->-r requirements-gpu.txt (line 1)) (1.1.2)\n",
            "Requirement already satisfied: grpcio~=1.34.0 in /usr/local/lib/python3.7/dist-packages (from tensorflow-gpu==2.5.1->-r requirements-gpu.txt (line 1)) (1.34.1)\n",
            "Requirement already satisfied: numpy~=1.19.2 in /usr/local/lib/python3.7/dist-packages (from tensorflow-gpu==2.5.1->-r requirements-gpu.txt (line 1)) (1.19.5)\n",
            "Requirement already satisfied: gast==0.4.0 in /usr/local/lib/python3.7/dist-packages (from tensorflow-gpu==2.5.1->-r requirements-gpu.txt (line 1)) (0.4.0)\n",
            "Requirement already satisfied: tensorboard~=2.5 in /usr/local/lib/python3.7/dist-packages (from tensorflow-gpu==2.5.1->-r requirements-gpu.txt (line 1)) (2.8.0)\n",
            "Requirement already satisfied: wrapt~=1.12.1 in /usr/local/lib/python3.7/dist-packages (from tensorflow-gpu==2.5.1->-r requirements-gpu.txt (line 1)) (1.12.1)\n",
            "Requirement already satisfied: termcolor~=1.1.0 in /usr/local/lib/python3.7/dist-packages (from tensorflow-gpu==2.5.1->-r requirements-gpu.txt (line 1)) (1.1.0)\n",
            "Requirement already satisfied: typing-extensions~=3.7.4 in /usr/local/lib/python3.7/dist-packages (from tensorflow-gpu==2.5.1->-r requirements-gpu.txt (line 1)) (3.7.4.3)\n",
            "Requirement already satisfied: h5py~=3.1.0 in /usr/local/lib/python3.7/dist-packages (from tensorflow-gpu==2.5.1->-r requirements-gpu.txt (line 1)) (3.1.0)\n",
            "Requirement already satisfied: six~=1.15.0 in /usr/local/lib/python3.7/dist-packages (from tensorflow-gpu==2.5.1->-r requirements-gpu.txt (line 1)) (1.15.0)\n",
            "Requirement already satisfied: opt-einsum~=3.3.0 in /usr/local/lib/python3.7/dist-packages (from tensorflow-gpu==2.5.1->-r requirements-gpu.txt (line 1)) (3.3.0)\n",
            "Requirement already satisfied: tensorflow-estimator<2.6.0,>=2.5.0 in /usr/local/lib/python3.7/dist-packages (from tensorflow-gpu==2.5.1->-r requirements-gpu.txt (line 1)) (2.5.0)\n",
            "Requirement already satisfied: flatbuffers~=1.12.0 in /usr/local/lib/python3.7/dist-packages (from tensorflow-gpu==2.5.1->-r requirements-gpu.txt (line 1)) (1.12)\n",
            "Requirement already satisfied: absl-py~=0.10 in /usr/local/lib/python3.7/dist-packages (from tensorflow-gpu==2.5.1->-r requirements-gpu.txt (line 1)) (0.15.0)\n",
            "Requirement already satisfied: cached-property in /usr/local/lib/python3.7/dist-packages (from h5py~=3.1.0->tensorflow-gpu==2.5.1->-r requirements-gpu.txt (line 1)) (1.5.2)\n",
            "Requirement already satisfied: markdown>=2.6.8 in /usr/local/lib/python3.7/dist-packages (from tensorboard~=2.5->tensorflow-gpu==2.5.1->-r requirements-gpu.txt (line 1)) (3.3.6)\n",
            "Requirement already satisfied: requests<3,>=2.21.0 in /usr/local/lib/python3.7/dist-packages (from tensorboard~=2.5->tensorflow-gpu==2.5.1->-r requirements-gpu.txt (line 1)) (2.23.0)\n",
            "Requirement already satisfied: setuptools>=41.0.0 in /usr/local/lib/python3.7/dist-packages (from tensorboard~=2.5->tensorflow-gpu==2.5.1->-r requirements-gpu.txt (line 1)) (57.4.0)\n",
            "Requirement already satisfied: tensorboard-plugin-wit>=1.6.0 in /usr/local/lib/python3.7/dist-packages (from tensorboard~=2.5->tensorflow-gpu==2.5.1->-r requirements-gpu.txt (line 1)) (1.8.1)\n",
            "Requirement already satisfied: werkzeug>=0.11.15 in /usr/local/lib/python3.7/dist-packages (from tensorboard~=2.5->tensorflow-gpu==2.5.1->-r requirements-gpu.txt (line 1)) (1.0.1)\n",
            "Requirement already satisfied: google-auth-oauthlib<0.5,>=0.4.1 in /usr/local/lib/python3.7/dist-packages (from tensorboard~=2.5->tensorflow-gpu==2.5.1->-r requirements-gpu.txt (line 1)) (0.4.6)\n",
            "Requirement already satisfied: tensorboard-data-server<0.7.0,>=0.6.0 in /usr/local/lib/python3.7/dist-packages (from tensorboard~=2.5->tensorflow-gpu==2.5.1->-r requirements-gpu.txt (line 1)) (0.6.1)\n",
            "Requirement already satisfied: google-auth<3,>=1.6.3 in /usr/local/lib/python3.7/dist-packages (from tensorboard~=2.5->tensorflow-gpu==2.5.1->-r requirements-gpu.txt (line 1)) (1.35.0)\n",
            "Requirement already satisfied: rsa<5,>=3.1.4 in /usr/local/lib/python3.7/dist-packages (from google-auth<3,>=1.6.3->tensorboard~=2.5->tensorflow-gpu==2.5.1->-r requirements-gpu.txt (line 1)) (4.8)\n",
            "Requirement already satisfied: pyasn1-modules>=0.2.1 in /usr/local/lib/python3.7/dist-packages (from google-auth<3,>=1.6.3->tensorboard~=2.5->tensorflow-gpu==2.5.1->-r requirements-gpu.txt (line 1)) (0.2.8)\n",
            "Requirement already satisfied: cachetools<5.0,>=2.0.0 in /usr/local/lib/python3.7/dist-packages (from google-auth<3,>=1.6.3->tensorboard~=2.5->tensorflow-gpu==2.5.1->-r requirements-gpu.txt (line 1)) (4.2.4)\n",
            "Requirement already satisfied: requests-oauthlib>=0.7.0 in /usr/local/lib/python3.7/dist-packages (from google-auth-oauthlib<0.5,>=0.4.1->tensorboard~=2.5->tensorflow-gpu==2.5.1->-r requirements-gpu.txt (line 1)) (1.3.1)\n",
            "Requirement already satisfied: importlib-metadata>=4.4 in /usr/local/lib/python3.7/dist-packages (from markdown>=2.6.8->tensorboard~=2.5->tensorflow-gpu==2.5.1->-r requirements-gpu.txt (line 1)) (4.10.1)\n",
            "Requirement already satisfied: zipp>=0.5 in /usr/local/lib/python3.7/dist-packages (from importlib-metadata>=4.4->markdown>=2.6.8->tensorboard~=2.5->tensorflow-gpu==2.5.1->-r requirements-gpu.txt (line 1)) (3.7.0)\n",
            "Requirement already satisfied: pyasn1<0.5.0,>=0.4.6 in /usr/local/lib/python3.7/dist-packages (from pyasn1-modules>=0.2.1->google-auth<3,>=1.6.3->tensorboard~=2.5->tensorflow-gpu==2.5.1->-r requirements-gpu.txt (line 1)) (0.4.8)\n",
            "Requirement already satisfied: idna<3,>=2.5 in /usr/local/lib/python3.7/dist-packages (from requests<3,>=2.21.0->tensorboard~=2.5->tensorflow-gpu==2.5.1->-r requirements-gpu.txt (line 1)) (2.10)\n",
            "Requirement already satisfied: certifi>=2017.4.17 in /usr/local/lib/python3.7/dist-packages (from requests<3,>=2.21.0->tensorboard~=2.5->tensorflow-gpu==2.5.1->-r requirements-gpu.txt (line 1)) (2021.10.8)\n",
            "Requirement already satisfied: chardet<4,>=3.0.2 in /usr/local/lib/python3.7/dist-packages (from requests<3,>=2.21.0->tensorboard~=2.5->tensorflow-gpu==2.5.1->-r requirements-gpu.txt (line 1)) (3.0.4)\n",
            "Requirement already satisfied: urllib3!=1.25.0,!=1.25.1,<1.26,>=1.21.1 in /usr/local/lib/python3.7/dist-packages (from requests<3,>=2.21.0->tensorboard~=2.5->tensorflow-gpu==2.5.1->-r requirements-gpu.txt (line 1)) (1.24.3)\n",
            "Requirement already satisfied: oauthlib>=3.0.0 in /usr/local/lib/python3.7/dist-packages (from requests-oauthlib>=0.7.0->google-auth-oauthlib<0.5,>=0.4.1->tensorboard~=2.5->tensorflow-gpu==2.5.1->-r requirements-gpu.txt (line 1)) (3.2.0)\n",
            "Installing collected packages: yolov3-tf2\n",
            "  Attempting uninstall: yolov3-tf2\n",
            "    Found existing installation: yolov3-tf2 0.1\n",
            "    Can't uninstall 'yolov3-tf2'. No files were found to uninstall.\n",
            "  Running setup.py develop for yolov3-tf2\n",
            "Successfully installed yolov3-tf2-0.1\n"
          ]
        }
      ]
    },
    {
      "cell_type": "code",
      "metadata": {
        "id": "FONrNLUIx-ML",
        "outputId": "7ddff60f-ebf9-4b9a-f632-17b74b7933a2",
        "colab": {
          "base_uri": "https://localhost:8080/"
        }
      },
      "source": [
        "!ls"
      ],
      "execution_count": 5,
      "outputs": [
        {
          "output_type": "stream",
          "name": "stdout",
          "text": [
            "checkpoints\t data\t\t  README.md\t\ttrain.py\n",
            "colab_gpu.ipynb  detect.py\t  requirements-gpu.txt\tyolov3_tf2\n",
            "conda-cpu.yml\t detect_video.py  requirements.txt\tyolov3-tf2\n",
            "conda-gpu.yml\t docs\t\t  setup.py\t\tyolov3_tf2.egg-info\n",
            "convert.py\t LICENSE\t  tools\n"
          ]
        }
      ]
    },
    {
      "cell_type": "markdown",
      "metadata": {
        "id": "y2QJVUyc4io-"
      },
      "source": [
        "## Check Tensorflow2 version"
      ]
    },
    {
      "cell_type": "code",
      "source": [
        "!pip uninstall tensorflow\n",
        "!pip install tensorflow==2.1.2"
      ],
      "metadata": {
        "id": "q3eaTQF9P7uG",
        "outputId": "79aa22eb-8acb-4ea3-ec2b-103c91eac9c9",
        "colab": {
          "base_uri": "https://localhost:8080/",
          "height": 1000
        }
      },
      "execution_count": 6,
      "outputs": [
        {
          "output_type": "stream",
          "name": "stdout",
          "text": [
            "Found existing installation: tensorflow 2.1.2\n",
            "Uninstalling tensorflow-2.1.2:\n",
            "  Would remove:\n",
            "    /usr/local/bin/estimator_ckpt_converter\n",
            "    /usr/local/bin/saved_model_cli\n",
            "    /usr/local/bin/tensorboard\n",
            "    /usr/local/bin/tf_upgrade_v2\n",
            "    /usr/local/bin/tflite_convert\n",
            "    /usr/local/bin/toco\n",
            "    /usr/local/bin/toco_from_protos\n",
            "    /usr/local/lib/python3.7/dist-packages/tensorflow-2.1.2.dist-info/*\n",
            "    /usr/local/lib/python3.7/dist-packages/tensorflow/*\n",
            "    /usr/local/lib/python3.7/dist-packages/tensorflow_core/*\n",
            "  Would not remove (might be manually added):\n",
            "    /usr/local/lib/python3.7/dist-packages/tensorflow/_api/v2/compat/v1/lite/experimental/nn/__init__.py\n",
            "    /usr/local/lib/python3.7/dist-packages/tensorflow/core/protobuf/extension_type_variant_pb2.py\n",
            "    /usr/local/lib/python3.7/dist-packages/tensorflow/core/protobuf/tpu/tpu_embedding_output_layout_pb2.py\n",
            "    /usr/local/lib/python3.7/dist-packages/tensorflow/include/absl/base/internal/bits.h\n",
            "    /usr/local/lib/python3.7/dist-packages/tensorflow/include/absl/synchronization/internal/mutex_nonprod.inc\n",
            "    /usr/local/lib/python3.7/dist-packages/tensorflow/include/external/aws-c-common/LICENSE\n",
            "    /usr/local/lib/python3.7/dist-packages/tensorflow/include/external/aws-c-common/include/aws/common/allocator.h\n",
            "    /usr/local/lib/python3.7/dist-packages/tensorflow/include/external/aws-c-common/include/aws/common/array_list.h\n",
            "    /usr/local/lib/python3.7/dist-packages/tensorflow/include/external/aws-c-common/include/aws/common/array_list.inl\n",
            "    /usr/local/lib/python3.7/dist-packages/tensorflow/include/external/aws-c-common/include/aws/common/assert.h\n",
            "    /usr/local/lib/python3.7/dist-packages/tensorflow/include/external/aws-c-common/include/aws/common/atomics.h\n",
            "    /usr/local/lib/python3.7/dist-packages/tensorflow/include/external/aws-c-common/include/aws/common/atomics.inl\n",
            "    /usr/local/lib/python3.7/dist-packages/tensorflow/include/external/aws-c-common/include/aws/common/atomics_fallback.inl\n",
            "    /usr/local/lib/python3.7/dist-packages/tensorflow/include/external/aws-c-common/include/aws/common/atomics_gnu.inl\n",
            "    /usr/local/lib/python3.7/dist-packages/tensorflow/include/external/aws-c-common/include/aws/common/atomics_gnu_old.inl\n",
            "    /usr/local/lib/python3.7/dist-packages/tensorflow/include/external/aws-c-common/include/aws/common/atomics_msvc.inl\n",
            "    /usr/local/lib/python3.7/dist-packages/tensorflow/include/external/aws-c-common/include/aws/common/byte_buf.h\n",
            "    /usr/local/lib/python3.7/dist-packages/tensorflow/include/external/aws-c-common/include/aws/common/byte_order.h\n",
            "    /usr/local/lib/python3.7/dist-packages/tensorflow/include/external/aws-c-common/include/aws/common/byte_order.inl\n",
            "    /usr/local/lib/python3.7/dist-packages/tensorflow/include/external/aws-c-common/include/aws/common/clock.h\n",
            "    /usr/local/lib/python3.7/dist-packages/tensorflow/include/external/aws-c-common/include/aws/common/clock.inl\n",
            "    /usr/local/lib/python3.7/dist-packages/tensorflow/include/external/aws-c-common/include/aws/common/command_line_parser.h\n",
            "    /usr/local/lib/python3.7/dist-packages/tensorflow/include/external/aws-c-common/include/aws/common/common.h\n",
            "    /usr/local/lib/python3.7/dist-packages/tensorflow/include/external/aws-c-common/include/aws/common/condition_variable.h\n",
            "    /usr/local/lib/python3.7/dist-packages/tensorflow/include/external/aws-c-common/include/aws/common/config.h\n",
            "    /usr/local/lib/python3.7/dist-packages/tensorflow/include/external/aws-c-common/include/aws/common/date_time.h\n",
            "    /usr/local/lib/python3.7/dist-packages/tensorflow/include/external/aws-c-common/include/aws/common/device_random.h\n",
            "    /usr/local/lib/python3.7/dist-packages/tensorflow/include/external/aws-c-common/include/aws/common/encoding.h\n",
            "    /usr/local/lib/python3.7/dist-packages/tensorflow/include/external/aws-c-common/include/aws/common/encoding.inl\n",
            "    /usr/local/lib/python3.7/dist-packages/tensorflow/include/external/aws-c-common/include/aws/common/environment.h\n",
            "    /usr/local/lib/python3.7/dist-packages/tensorflow/include/external/aws-c-common/include/aws/common/error.h\n",
            "    /usr/local/lib/python3.7/dist-packages/tensorflow/include/external/aws-c-common/include/aws/common/error.inl\n",
            "    /usr/local/lib/python3.7/dist-packages/tensorflow/include/external/aws-c-common/include/aws/common/exports.h\n",
            "    /usr/local/lib/python3.7/dist-packages/tensorflow/include/external/aws-c-common/include/aws/common/hash_table.h\n",
            "    /usr/local/lib/python3.7/dist-packages/tensorflow/include/external/aws-c-common/include/aws/common/linked_list.h\n",
            "    /usr/local/lib/python3.7/dist-packages/tensorflow/include/external/aws-c-common/include/aws/common/linked_list.inl\n",
            "    /usr/local/lib/python3.7/dist-packages/tensorflow/include/external/aws-c-common/include/aws/common/log_channel.h\n",
            "    /usr/local/lib/python3.7/dist-packages/tensorflow/include/external/aws-c-common/include/aws/common/log_formatter.h\n",
            "    /usr/local/lib/python3.7/dist-packages/tensorflow/include/external/aws-c-common/include/aws/common/log_writer.h\n",
            "    /usr/local/lib/python3.7/dist-packages/tensorflow/include/external/aws-c-common/include/aws/common/logging.h\n",
            "    /usr/local/lib/python3.7/dist-packages/tensorflow/include/external/aws-c-common/include/aws/common/lru_cache.h\n",
            "    /usr/local/lib/python3.7/dist-packages/tensorflow/include/external/aws-c-common/include/aws/common/macros.h\n",
            "    /usr/local/lib/python3.7/dist-packages/tensorflow/include/external/aws-c-common/include/aws/common/math.cbmc.inl\n",
            "    /usr/local/lib/python3.7/dist-packages/tensorflow/include/external/aws-c-common/include/aws/common/math.fallback.inl\n",
            "    /usr/local/lib/python3.7/dist-packages/tensorflow/include/external/aws-c-common/include/aws/common/math.gcc_overflow.inl\n",
            "    /usr/local/lib/python3.7/dist-packages/tensorflow/include/external/aws-c-common/include/aws/common/math.gcc_x64_asm.inl\n",
            "    /usr/local/lib/python3.7/dist-packages/tensorflow/include/external/aws-c-common/include/aws/common/math.h\n",
            "    /usr/local/lib/python3.7/dist-packages/tensorflow/include/external/aws-c-common/include/aws/common/math.inl\n",
            "    /usr/local/lib/python3.7/dist-packages/tensorflow/include/external/aws-c-common/include/aws/common/math.msvc.inl\n",
            "    /usr/local/lib/python3.7/dist-packages/tensorflow/include/external/aws-c-common/include/aws/common/mutex.h\n",
            "    /usr/local/lib/python3.7/dist-packages/tensorflow/include/external/aws-c-common/include/aws/common/posix/common.inl\n",
            "    /usr/local/lib/python3.7/dist-packages/tensorflow/include/external/aws-c-common/include/aws/common/predicates.h\n",
            "    /usr/local/lib/python3.7/dist-packages/tensorflow/include/external/aws-c-common/include/aws/common/priority_queue.h\n",
            "    /usr/local/lib/python3.7/dist-packages/tensorflow/include/external/aws-c-common/include/aws/common/private/array_list.h\n",
            "    /usr/local/lib/python3.7/dist-packages/tensorflow/include/external/aws-c-common/include/aws/common/private/byte_buf.h\n",
            "    /usr/local/lib/python3.7/dist-packages/tensorflow/include/external/aws-c-common/include/aws/common/private/hash_table_impl.h\n",
            "    /usr/local/lib/python3.7/dist-packages/tensorflow/include/external/aws-c-common/include/aws/common/private/lookup3.inl\n",
            "    /usr/local/lib/python3.7/dist-packages/tensorflow/include/external/aws-c-common/include/aws/common/process.h\n",
            "    /usr/local/lib/python3.7/dist-packages/tensorflow/include/external/aws-c-common/include/aws/common/ring_buffer.h\n",
            "    /usr/local/lib/python3.7/dist-packages/tensorflow/include/external/aws-c-common/include/aws/common/ring_buffer.inl\n",
            "    /usr/local/lib/python3.7/dist-packages/tensorflow/include/external/aws-c-common/include/aws/common/rw_lock.h\n",
            "    /usr/local/lib/python3.7/dist-packages/tensorflow/include/external/aws-c-common/include/aws/common/stdbool.h\n",
            "    /usr/local/lib/python3.7/dist-packages/tensorflow/include/external/aws-c-common/include/aws/common/stdint.h\n",
            "    /usr/local/lib/python3.7/dist-packages/tensorflow/include/external/aws-c-common/include/aws/common/string.h\n",
            "    /usr/local/lib/python3.7/dist-packages/tensorflow/include/external/aws-c-common/include/aws/common/string.inl\n",
            "    /usr/local/lib/python3.7/dist-packages/tensorflow/include/external/aws-c-common/include/aws/common/system_info.h\n",
            "    /usr/local/lib/python3.7/dist-packages/tensorflow/include/external/aws-c-common/include/aws/common/task_scheduler.h\n",
            "    /usr/local/lib/python3.7/dist-packages/tensorflow/include/external/aws-c-common/include/aws/common/thread.h\n",
            "    /usr/local/lib/python3.7/dist-packages/tensorflow/include/external/aws-c-common/include/aws/common/time.h\n",
            "    /usr/local/lib/python3.7/dist-packages/tensorflow/include/external/aws-c-common/include/aws/common/uuid.h\n",
            "    /usr/local/lib/python3.7/dist-packages/tensorflow/include/external/aws-c-common/include/aws/common/zero.h\n",
            "    /usr/local/lib/python3.7/dist-packages/tensorflow/include/external/aws-c-common/include/aws/common/zero.inl\n",
            "    /usr/local/lib/python3.7/dist-packages/tensorflow/include/external/aws-c-common/include/aws/testing/aws_test_allocators.h\n",
            "    /usr/local/lib/python3.7/dist-packages/tensorflow/include/external/aws-c-common/include/aws/testing/aws_test_harness.h\n",
            "    /usr/local/lib/python3.7/dist-packages/tensorflow/include/external/aws-c-event-stream/LICENSE\n",
            "    /usr/local/lib/python3.7/dist-packages/tensorflow/include/external/aws-c-event-stream/include/aws/event-stream/event_stream.h\n",
            "    /usr/local/lib/python3.7/dist-packages/tensorflow/include/external/aws-c-event-stream/include/aws/event-stream/event_stream_exports.h\n",
            "    /usr/local/lib/python3.7/dist-packages/tensorflow/include/external/aws-checksums/LICENSE\n",
            "    /usr/local/lib/python3.7/dist-packages/tensorflow/include/external/aws-checksums/include/aws/checksums/crc.h\n",
            "    /usr/local/lib/python3.7/dist-packages/tensorflow/include/external/aws-checksums/include/aws/checksums/crc_jni.h\n",
            "    /usr/local/lib/python3.7/dist-packages/tensorflow/include/external/aws-checksums/include/aws/checksums/exports.h\n",
            "    /usr/local/lib/python3.7/dist-packages/tensorflow/include/external/aws-checksums/include/aws/checksums/private/cpuid.h\n",
            "    /usr/local/lib/python3.7/dist-packages/tensorflow/include/external/aws-checksums/include/aws/checksums/private/crc_priv.h\n",
            "    /usr/local/lib/python3.7/dist-packages/tensorflow/include/external/aws/LICENSE\n",
            "    /usr/local/lib/python3.7/dist-packages/tensorflow/include/external/aws/aws-cpp-sdk-core/include/aws/core/AmazonSerializableWebServiceRequest.h\n",
            "    /usr/local/lib/python3.7/dist-packages/tensorflow/include/external/aws/aws-cpp-sdk-core/include/aws/core/AmazonStreamingWebServiceRequest.h\n",
            "    /usr/local/lib/python3.7/dist-packages/tensorflow/include/external/aws/aws-cpp-sdk-core/include/aws/core/AmazonWebServiceRequest.h\n",
            "    /usr/local/lib/python3.7/dist-packages/tensorflow/include/external/aws/aws-cpp-sdk-core/include/aws/core/AmazonWebServiceResult.h\n",
            "    /usr/local/lib/python3.7/dist-packages/tensorflow/include/external/aws/aws-cpp-sdk-core/include/aws/core/Aws.h\n",
            "    /usr/local/lib/python3.7/dist-packages/tensorflow/include/external/aws/aws-cpp-sdk-core/include/aws/core/Core_EXPORTS.h\n",
            "    /usr/local/lib/python3.7/dist-packages/tensorflow/include/external/aws/aws-cpp-sdk-core/include/aws/core/Globals.h\n",
            "    /usr/local/lib/python3.7/dist-packages/tensorflow/include/external/aws/aws-cpp-sdk-core/include/aws/core/NoResult.h\n",
            "    /usr/local/lib/python3.7/dist-packages/tensorflow/include/external/aws/aws-cpp-sdk-core/include/aws/core/Region.h\n",
            "    /usr/local/lib/python3.7/dist-packages/tensorflow/include/external/aws/aws-cpp-sdk-core/include/aws/core/SDKConfig.h\n",
            "    /usr/local/lib/python3.7/dist-packages/tensorflow/include/external/aws/aws-cpp-sdk-core/include/aws/core/Version.h\n",
            "    /usr/local/lib/python3.7/dist-packages/tensorflow/include/external/aws/aws-cpp-sdk-core/include/aws/core/VersionConfig.h\n",
            "    /usr/local/lib/python3.7/dist-packages/tensorflow/include/external/aws/aws-cpp-sdk-core/include/aws/core/auth/AWSAuthSigner.h\n",
            "    /usr/local/lib/python3.7/dist-packages/tensorflow/include/external/aws/aws-cpp-sdk-core/include/aws/core/auth/AWSAuthSignerProvider.h\n",
            "    /usr/local/lib/python3.7/dist-packages/tensorflow/include/external/aws/aws-cpp-sdk-core/include/aws/core/auth/AWSCredentials.h\n",
            "    /usr/local/lib/python3.7/dist-packages/tensorflow/include/external/aws/aws-cpp-sdk-core/include/aws/core/auth/AWSCredentialsProvider.h\n",
            "    /usr/local/lib/python3.7/dist-packages/tensorflow/include/external/aws/aws-cpp-sdk-core/include/aws/core/auth/AWSCredentialsProviderChain.h\n",
            "    /usr/local/lib/python3.7/dist-packages/tensorflow/include/external/aws/aws-cpp-sdk-core/include/aws/core/auth/STSCredentialsProvider.h\n",
            "    /usr/local/lib/python3.7/dist-packages/tensorflow/include/external/aws/aws-cpp-sdk-core/include/aws/core/client/AWSClient.h\n",
            "    /usr/local/lib/python3.7/dist-packages/tensorflow/include/external/aws/aws-cpp-sdk-core/include/aws/core/client/AWSError.h\n",
            "    /usr/local/lib/python3.7/dist-packages/tensorflow/include/external/aws/aws-cpp-sdk-core/include/aws/core/client/AWSErrorMarshaller.h\n",
            "    /usr/local/lib/python3.7/dist-packages/tensorflow/include/external/aws/aws-cpp-sdk-core/include/aws/core/client/AsyncCallerContext.h\n",
            "    /usr/local/lib/python3.7/dist-packages/tensorflow/include/external/aws/aws-cpp-sdk-core/include/aws/core/client/ClientConfiguration.h\n",
            "    /usr/local/lib/python3.7/dist-packages/tensorflow/include/external/aws/aws-cpp-sdk-core/include/aws/core/client/CoreErrors.h\n",
            "    /usr/local/lib/python3.7/dist-packages/tensorflow/include/external/aws/aws-cpp-sdk-core/include/aws/core/client/DefaultRetryStrategy.h\n",
            "    /usr/local/lib/python3.7/dist-packages/tensorflow/include/external/aws/aws-cpp-sdk-core/include/aws/core/client/RetryStrategy.h\n",
            "    /usr/local/lib/python3.7/dist-packages/tensorflow/include/external/aws/aws-cpp-sdk-core/include/aws/core/client/SpecifiedRetryableErrorsRetryStrategy.h\n",
            "    /usr/local/lib/python3.7/dist-packages/tensorflow/include/external/aws/aws-cpp-sdk-core/include/aws/core/config/AWSProfileConfigLoader.h\n",
            "    /usr/local/lib/python3.7/dist-packages/tensorflow/include/external/aws/aws-cpp-sdk-core/include/aws/core/external/cjson/cJSON.h\n",
            "    /usr/local/lib/python3.7/dist-packages/tensorflow/include/external/aws/aws-cpp-sdk-core/include/aws/core/external/tinyxml2/tinyxml2.h\n",
            "    /usr/local/lib/python3.7/dist-packages/tensorflow/include/external/aws/aws-cpp-sdk-core/include/aws/core/http/HttpClient.h\n",
            "    /usr/local/lib/python3.7/dist-packages/tensorflow/include/external/aws/aws-cpp-sdk-core/include/aws/core/http/HttpClientFactory.h\n",
            "    /usr/local/lib/python3.7/dist-packages/tensorflow/include/external/aws/aws-cpp-sdk-core/include/aws/core/http/HttpRequest.h\n",
            "    /usr/local/lib/python3.7/dist-packages/tensorflow/include/external/aws/aws-cpp-sdk-core/include/aws/core/http/HttpResponse.h\n",
            "    /usr/local/lib/python3.7/dist-packages/tensorflow/include/external/aws/aws-cpp-sdk-core/include/aws/core/http/HttpTypes.h\n",
            "    /usr/local/lib/python3.7/dist-packages/tensorflow/include/external/aws/aws-cpp-sdk-core/include/aws/core/http/Scheme.h\n",
            "    /usr/local/lib/python3.7/dist-packages/tensorflow/include/external/aws/aws-cpp-sdk-core/include/aws/core/http/URI.h\n",
            "    /usr/local/lib/python3.7/dist-packages/tensorflow/include/external/aws/aws-cpp-sdk-core/include/aws/core/http/curl/CurlHandleContainer.h\n",
            "    /usr/local/lib/python3.7/dist-packages/tensorflow/include/external/aws/aws-cpp-sdk-core/include/aws/core/http/curl/CurlHttpClient.h\n",
            "    /usr/local/lib/python3.7/dist-packages/tensorflow/include/external/aws/aws-cpp-sdk-core/include/aws/core/http/standard/StandardHttpRequest.h\n",
            "    /usr/local/lib/python3.7/dist-packages/tensorflow/include/external/aws/aws-cpp-sdk-core/include/aws/core/http/standard/StandardHttpResponse.h\n",
            "    /usr/local/lib/python3.7/dist-packages/tensorflow/include/external/aws/aws-cpp-sdk-core/include/aws/core/http/windows/IXmlHttpRequest2HttpClient.h\n",
            "    /usr/local/lib/python3.7/dist-packages/tensorflow/include/external/aws/aws-cpp-sdk-core/include/aws/core/http/windows/WinConnectionPoolMgr.h\n",
            "    /usr/local/lib/python3.7/dist-packages/tensorflow/include/external/aws/aws-cpp-sdk-core/include/aws/core/http/windows/WinHttpConnectionPoolMgr.h\n",
            "    /usr/local/lib/python3.7/dist-packages/tensorflow/include/external/aws/aws-cpp-sdk-core/include/aws/core/http/windows/WinHttpSyncHttpClient.h\n",
            "    /usr/local/lib/python3.7/dist-packages/tensorflow/include/external/aws/aws-cpp-sdk-core/include/aws/core/http/windows/WinINetConnectionPoolMgr.h\n",
            "    /usr/local/lib/python3.7/dist-packages/tensorflow/include/external/aws/aws-cpp-sdk-core/include/aws/core/http/windows/WinINetSyncHttpClient.h\n",
            "    /usr/local/lib/python3.7/dist-packages/tensorflow/include/external/aws/aws-cpp-sdk-core/include/aws/core/http/windows/WinSyncHttpClient.h\n",
            "    /usr/local/lib/python3.7/dist-packages/tensorflow/include/external/aws/aws-cpp-sdk-core/include/aws/core/internal/AWSHttpResourceClient.h\n",
            "    /usr/local/lib/python3.7/dist-packages/tensorflow/include/external/aws/aws-cpp-sdk-core/include/aws/core/monitoring/CoreMetrics.h\n",
            "    /usr/local/lib/python3.7/dist-packages/tensorflow/include/external/aws/aws-cpp-sdk-core/include/aws/core/monitoring/DefaultMonitoring.h\n",
            "    /usr/local/lib/python3.7/dist-packages/tensorflow/include/external/aws/aws-cpp-sdk-core/include/aws/core/monitoring/HttpClientMetrics.h\n",
            "    /usr/local/lib/python3.7/dist-packages/tensorflow/include/external/aws/aws-cpp-sdk-core/include/aws/core/monitoring/MonitoringFactory.h\n",
            "    /usr/local/lib/python3.7/dist-packages/tensorflow/include/external/aws/aws-cpp-sdk-core/include/aws/core/monitoring/MonitoringInterface.h\n",
            "    /usr/local/lib/python3.7/dist-packages/tensorflow/include/external/aws/aws-cpp-sdk-core/include/aws/core/monitoring/MonitoringManager.h\n",
            "    /usr/local/lib/python3.7/dist-packages/tensorflow/include/external/aws/aws-cpp-sdk-core/include/aws/core/net/Net.h\n",
            "    /usr/local/lib/python3.7/dist-packages/tensorflow/include/external/aws/aws-cpp-sdk-core/include/aws/core/net/SimpleUDP.h\n",
            "    /usr/local/lib/python3.7/dist-packages/tensorflow/include/external/aws/aws-cpp-sdk-core/include/aws/core/platform/Android.h\n",
            "    /usr/local/lib/python3.7/dist-packages/tensorflow/include/external/aws/aws-cpp-sdk-core/include/aws/core/platform/Environment.h\n",
            "    /usr/local/lib/python3.7/dist-packages/tensorflow/include/external/aws/aws-cpp-sdk-core/include/aws/core/platform/FileSystem.h\n",
            "    /usr/local/lib/python3.7/dist-packages/tensorflow/include/external/aws/aws-cpp-sdk-core/include/aws/core/platform/OSVersionInfo.h\n",
            "    /usr/local/lib/python3.7/dist-packages/tensorflow/include/external/aws/aws-cpp-sdk-core/include/aws/core/platform/Platform.h\n",
            "    /usr/local/lib/python3.7/dist-packages/tensorflow/include/external/aws/aws-cpp-sdk-core/include/aws/core/platform/Security.h\n",
            "    /usr/local/lib/python3.7/dist-packages/tensorflow/include/external/aws/aws-cpp-sdk-core/include/aws/core/platform/Time.h\n",
            "    /usr/local/lib/python3.7/dist-packages/tensorflow/include/external/aws/aws-cpp-sdk-core/include/aws/core/platform/refs/IXmlHttpRequest2Ref.h\n",
            "    /usr/local/lib/python3.7/dist-packages/tensorflow/include/external/aws/aws-cpp-sdk-core/include/aws/core/utils/ARN.h\n",
            "    /usr/local/lib/python3.7/dist-packages/tensorflow/include/external/aws/aws-cpp-sdk-core/include/aws/core/utils/Array.h\n",
            "    /usr/local/lib/python3.7/dist-packages/tensorflow/include/external/aws/aws-cpp-sdk-core/include/aws/core/utils/Cache.h\n",
            "    /usr/local/lib/python3.7/dist-packages/tensorflow/include/external/aws/aws-cpp-sdk-core/include/aws/core/utils/ConcurrentCache.h\n",
            "    /usr/local/lib/python3.7/dist-packages/tensorflow/include/external/aws/aws-cpp-sdk-core/include/aws/core/utils/DNS.h\n",
            "    /usr/local/lib/python3.7/dist-packages/tensorflow/include/external/aws/aws-cpp-sdk-core/include/aws/core/utils/DateTime.h\n",
            "    /usr/local/lib/python3.7/dist-packages/tensorflow/include/external/aws/aws-cpp-sdk-core/include/aws/core/utils/EnumParseOverflowContainer.h\n",
            "    /usr/local/lib/python3.7/dist-packages/tensorflow/include/external/aws/aws-cpp-sdk-core/include/aws/core/utils/FileSystemUtils.h\n",
            "    /usr/local/lib/python3.7/dist-packages/tensorflow/include/external/aws/aws-cpp-sdk-core/include/aws/core/utils/GetTheLights.h\n",
            "    /usr/local/lib/python3.7/dist-packages/tensorflow/include/external/aws/aws-cpp-sdk-core/include/aws/core/utils/HashingUtils.h\n",
            "    /usr/local/lib/python3.7/dist-packages/tensorflow/include/external/aws/aws-cpp-sdk-core/include/aws/core/utils/Outcome.h\n",
            "    /usr/local/lib/python3.7/dist-packages/tensorflow/include/external/aws/aws-cpp-sdk-core/include/aws/core/utils/ResourceManager.h\n",
            "    /usr/local/lib/python3.7/dist-packages/tensorflow/include/external/aws/aws-cpp-sdk-core/include/aws/core/utils/StringUtils.h\n",
            "    /usr/local/lib/python3.7/dist-packages/tensorflow/include/external/aws/aws-cpp-sdk-core/include/aws/core/utils/UUID.h\n",
            "    /usr/local/lib/python3.7/dist-packages/tensorflow/include/external/aws/aws-cpp-sdk-core/include/aws/core/utils/UnreferencedParam.h\n",
            "    /usr/local/lib/python3.7/dist-packages/tensorflow/include/external/aws/aws-cpp-sdk-core/include/aws/core/utils/base64/Base64.h\n",
            "    /usr/local/lib/python3.7/dist-packages/tensorflow/include/external/aws/aws-cpp-sdk-core/include/aws/core/utils/crypto/Cipher.h\n",
            "    /usr/local/lib/python3.7/dist-packages/tensorflow/include/external/aws/aws-cpp-sdk-core/include/aws/core/utils/crypto/ContentCryptoMaterial.h\n",
            "    /usr/local/lib/python3.7/dist-packages/tensorflow/include/external/aws/aws-cpp-sdk-core/include/aws/core/utils/crypto/ContentCryptoScheme.h\n",
            "    /usr/local/lib/python3.7/dist-packages/tensorflow/include/external/aws/aws-cpp-sdk-core/include/aws/core/utils/crypto/CryptoBuf.h\n",
            "    /usr/local/lib/python3.7/dist-packages/tensorflow/include/external/aws/aws-cpp-sdk-core/include/aws/core/utils/crypto/CryptoStream.h\n",
            "    /usr/local/lib/python3.7/dist-packages/tensorflow/include/external/aws/aws-cpp-sdk-core/include/aws/core/utils/crypto/EncryptionMaterials.h\n",
            "    /usr/local/lib/python3.7/dist-packages/tensorflow/include/external/aws/aws-cpp-sdk-core/include/aws/core/utils/crypto/Factories.h\n",
            "    /usr/local/lib/python3.7/dist-packages/tensorflow/include/external/aws/aws-cpp-sdk-core/include/aws/core/utils/crypto/HMAC.h\n",
            "    /usr/local/lib/python3.7/dist-packages/tensorflow/include/external/aws/aws-cpp-sdk-core/include/aws/core/utils/crypto/Hash.h\n",
            "    /usr/local/lib/python3.7/dist-packages/tensorflow/include/external/aws/aws-cpp-sdk-core/include/aws/core/utils/crypto/HashResult.h\n",
            "    /usr/local/lib/python3.7/dist-packages/tensorflow/include/external/aws/aws-cpp-sdk-core/include/aws/core/utils/crypto/KeyWrapAlgorithm.h\n",
            "    /usr/local/lib/python3.7/dist-packages/tensorflow/include/external/aws/aws-cpp-sdk-core/include/aws/core/utils/crypto/MD5.h\n",
            "    /usr/local/lib/python3.7/dist-packages/tensorflow/include/external/aws/aws-cpp-sdk-core/include/aws/core/utils/crypto/SecureRandom.h\n",
            "    /usr/local/lib/python3.7/dist-packages/tensorflow/include/external/aws/aws-cpp-sdk-core/include/aws/core/utils/crypto/Sha256.h\n",
            "    /usr/local/lib/python3.7/dist-packages/tensorflow/include/external/aws/aws-cpp-sdk-core/include/aws/core/utils/crypto/Sha256HMAC.h\n",
            "    /usr/local/lib/python3.7/dist-packages/tensorflow/include/external/aws/aws-cpp-sdk-core/include/aws/core/utils/crypto/bcrypt/CryptoImpl.h\n",
            "    /usr/local/lib/python3.7/dist-packages/tensorflow/include/external/aws/aws-cpp-sdk-core/include/aws/core/utils/crypto/commoncrypto/CryptoImpl.h\n",
            "    /usr/local/lib/python3.7/dist-packages/tensorflow/include/external/aws/aws-cpp-sdk-core/include/aws/core/utils/crypto/openssl/CryptoImpl.h\n",
            "    /usr/local/lib/python3.7/dist-packages/tensorflow/include/external/aws/aws-cpp-sdk-core/include/aws/core/utils/event/EventDecoderStream.h\n",
            "    /usr/local/lib/python3.7/dist-packages/tensorflow/include/external/aws/aws-cpp-sdk-core/include/aws/core/utils/event/EventEncoderStream.h\n",
            "    /usr/local/lib/python3.7/dist-packages/tensorflow/include/external/aws/aws-cpp-sdk-core/include/aws/core/utils/event/EventHeader.h\n",
            "    /usr/local/lib/python3.7/dist-packages/tensorflow/include/external/aws/aws-cpp-sdk-core/include/aws/core/utils/event/EventMessage.h\n",
            "    /usr/local/lib/python3.7/dist-packages/tensorflow/include/external/aws/aws-cpp-sdk-core/include/aws/core/utils/event/EventStream.h\n",
            "    /usr/local/lib/python3.7/dist-packages/tensorflow/include/external/aws/aws-cpp-sdk-core/include/aws/core/utils/event/EventStreamBuf.h\n",
            "    /usr/local/lib/python3.7/dist-packages/tensorflow/include/external/aws/aws-cpp-sdk-core/include/aws/core/utils/event/EventStreamDecoder.h\n",
            "    /usr/local/lib/python3.7/dist-packages/tensorflow/include/external/aws/aws-cpp-sdk-core/include/aws/core/utils/event/EventStreamEncoder.h\n",
            "    /usr/local/lib/python3.7/dist-packages/tensorflow/include/external/aws/aws-cpp-sdk-core/include/aws/core/utils/event/EventStreamErrors.h\n",
            "    /usr/local/lib/python3.7/dist-packages/tensorflow/include/external/aws/aws-cpp-sdk-core/include/aws/core/utils/event/EventStreamHandler.h\n",
            "    /usr/local/lib/python3.7/dist-packages/tensorflow/include/external/aws/aws-cpp-sdk-core/include/aws/core/utils/json/JsonSerializer.h\n",
            "    /usr/local/lib/python3.7/dist-packages/tensorflow/include/external/aws/aws-cpp-sdk-core/include/aws/core/utils/logging/AWSLogging.h\n",
            "    /usr/local/lib/python3.7/dist-packages/tensorflow/include/external/aws/aws-cpp-sdk-core/include/aws/core/utils/logging/ConsoleLogSystem.h\n",
            "    /usr/local/lib/python3.7/dist-packages/tensorflow/include/external/aws/aws-cpp-sdk-core/include/aws/core/utils/logging/DefaultLogSystem.h\n",
            "    /usr/local/lib/python3.7/dist-packages/tensorflow/include/external/aws/aws-cpp-sdk-core/include/aws/core/utils/logging/FormattedLogSystem.h\n",
            "    /usr/local/lib/python3.7/dist-packages/tensorflow/include/external/aws/aws-cpp-sdk-core/include/aws/core/utils/logging/LogLevel.h\n",
            "    /usr/local/lib/python3.7/dist-packages/tensorflow/include/external/aws/aws-cpp-sdk-core/include/aws/core/utils/logging/LogMacros.h\n",
            "    /usr/local/lib/python3.7/dist-packages/tensorflow/include/external/aws/aws-cpp-sdk-core/include/aws/core/utils/logging/LogSystemInterface.h\n",
            "    /usr/local/lib/python3.7/dist-packages/tensorflow/include/external/aws/aws-cpp-sdk-core/include/aws/core/utils/logging/NullLogSystem.h\n",
            "    /usr/local/lib/python3.7/dist-packages/tensorflow/include/external/aws/aws-cpp-sdk-core/include/aws/core/utils/logging/android/LogcatLogSystem.h\n",
            "    /usr/local/lib/python3.7/dist-packages/tensorflow/include/external/aws/aws-cpp-sdk-core/include/aws/core/utils/memory/AWSMemory.h\n",
            "    /usr/local/lib/python3.7/dist-packages/tensorflow/include/external/aws/aws-cpp-sdk-core/include/aws/core/utils/memory/MemorySystemInterface.h\n",
            "    /usr/local/lib/python3.7/dist-packages/tensorflow/include/external/aws/aws-cpp-sdk-core/include/aws/core/utils/memory/stl/AWSAllocator.h\n",
            "    /usr/local/lib/python3.7/dist-packages/tensorflow/include/external/aws/aws-cpp-sdk-core/include/aws/core/utils/memory/stl/AWSDeque.h\n",
            "    /usr/local/lib/python3.7/dist-packages/tensorflow/include/external/aws/aws-cpp-sdk-core/include/aws/core/utils/memory/stl/AWSList.h\n",
            "    /usr/local/lib/python3.7/dist-packages/tensorflow/include/external/aws/aws-cpp-sdk-core/include/aws/core/utils/memory/stl/AWSMap.h\n",
            "    /usr/local/lib/python3.7/dist-packages/tensorflow/include/external/aws/aws-cpp-sdk-core/include/aws/core/utils/memory/stl/AWSMultiMap.h\n",
            "    /usr/local/lib/python3.7/dist-packages/tensorflow/include/external/aws/aws-cpp-sdk-core/include/aws/core/utils/memory/stl/AWSQueue.h\n",
            "    /usr/local/lib/python3.7/dist-packages/tensorflow/include/external/aws/aws-cpp-sdk-core/include/aws/core/utils/memory/stl/AWSSet.h\n",
            "    /usr/local/lib/python3.7/dist-packages/tensorflow/include/external/aws/aws-cpp-sdk-core/include/aws/core/utils/memory/stl/AWSStack.h\n",
            "    /usr/local/lib/python3.7/dist-packages/tensorflow/include/external/aws/aws-cpp-sdk-core/include/aws/core/utils/memory/stl/AWSStreamFwd.h\n",
            "    /usr/local/lib/python3.7/dist-packages/tensorflow/include/external/aws/aws-cpp-sdk-core/include/aws/core/utils/memory/stl/AWSString.h\n",
            "    /usr/local/lib/python3.7/dist-packages/tensorflow/include/external/aws/aws-cpp-sdk-core/include/aws/core/utils/memory/stl/AWSStringStream.h\n",
            "    /usr/local/lib/python3.7/dist-packages/tensorflow/include/external/aws/aws-cpp-sdk-core/include/aws/core/utils/memory/stl/AWSVector.h\n",
            "    /usr/local/lib/python3.7/dist-packages/tensorflow/include/external/aws/aws-cpp-sdk-core/include/aws/core/utils/memory/stl/SimpleStringStream.h\n",
            "    /usr/local/lib/python3.7/dist-packages/tensorflow/include/external/aws/aws-cpp-sdk-core/include/aws/core/utils/ratelimiter/DefaultRateLimiter.h\n",
            "    /usr/local/lib/python3.7/dist-packages/tensorflow/include/external/aws/aws-cpp-sdk-core/include/aws/core/utils/ratelimiter/RateLimiterInterface.h\n",
            "    /usr/local/lib/python3.7/dist-packages/tensorflow/include/external/aws/aws-cpp-sdk-core/include/aws/core/utils/stream/ConcurrentStreamBuf.h\n",
            "    /usr/local/lib/python3.7/dist-packages/tensorflow/include/external/aws/aws-cpp-sdk-core/include/aws/core/utils/stream/PreallocatedStreamBuf.h\n",
            "    /usr/local/lib/python3.7/dist-packages/tensorflow/include/external/aws/aws-cpp-sdk-core/include/aws/core/utils/stream/ResponseStream.h\n",
            "    /usr/local/lib/python3.7/dist-packages/tensorflow/include/external/aws/aws-cpp-sdk-core/include/aws/core/utils/stream/SimpleStreamBuf.h\n",
            "    /usr/local/lib/python3.7/dist-packages/tensorflow/include/external/aws/aws-cpp-sdk-core/include/aws/core/utils/threading/Executor.h\n",
            "    /usr/local/lib/python3.7/dist-packages/tensorflow/include/external/aws/aws-cpp-sdk-core/include/aws/core/utils/threading/ReaderWriterLock.h\n",
            "    /usr/local/lib/python3.7/dist-packages/tensorflow/include/external/aws/aws-cpp-sdk-core/include/aws/core/utils/threading/Semaphore.h\n",
            "    /usr/local/lib/python3.7/dist-packages/tensorflow/include/external/aws/aws-cpp-sdk-core/include/aws/core/utils/threading/ThreadTask.h\n",
            "    /usr/local/lib/python3.7/dist-packages/tensorflow/include/external/aws/aws-cpp-sdk-core/include/aws/core/utils/xml/XmlSerializer.h\n",
            "    /usr/local/lib/python3.7/dist-packages/tensorflow/include/external/aws/aws-cpp-sdk-s3/include/aws/s3/S3ARN.h\n",
            "    /usr/local/lib/python3.7/dist-packages/tensorflow/include/external/aws/aws-cpp-sdk-s3/include/aws/s3/S3Client.h\n",
            "    /usr/local/lib/python3.7/dist-packages/tensorflow/include/external/aws/aws-cpp-sdk-s3/include/aws/s3/S3Endpoint.h\n",
            "    /usr/local/lib/python3.7/dist-packages/tensorflow/include/external/aws/aws-cpp-sdk-s3/include/aws/s3/S3ErrorMarshaller.h\n",
            "    /usr/local/lib/python3.7/dist-packages/tensorflow/include/external/aws/aws-cpp-sdk-s3/include/aws/s3/S3Errors.h\n",
            "    /usr/local/lib/python3.7/dist-packages/tensorflow/include/external/aws/aws-cpp-sdk-s3/include/aws/s3/S3Request.h\n",
            "    /usr/local/lib/python3.7/dist-packages/tensorflow/include/external/aws/aws-cpp-sdk-s3/include/aws/s3/S3_EXPORTS.h\n",
            "    /usr/local/lib/python3.7/dist-packages/tensorflow/include/external/aws/aws-cpp-sdk-s3/include/aws/s3/model/AbortIncompleteMultipartUpload.h\n",
            "    /usr/local/lib/python3.7/dist-packages/tensorflow/include/external/aws/aws-cpp-sdk-s3/include/aws/s3/model/AbortMultipartUploadRequest.h\n",
            "    /usr/local/lib/python3.7/dist-packages/tensorflow/include/external/aws/aws-cpp-sdk-s3/include/aws/s3/model/AbortMultipartUploadResult.h\n",
            "    /usr/local/lib/python3.7/dist-packages/tensorflow/include/external/aws/aws-cpp-sdk-s3/include/aws/s3/model/AccelerateConfiguration.h\n",
            "    /usr/local/lib/python3.7/dist-packages/tensorflow/include/external/aws/aws-cpp-sdk-s3/include/aws/s3/model/AccessControlPolicy.h\n",
            "    /usr/local/lib/python3.7/dist-packages/tensorflow/include/external/aws/aws-cpp-sdk-s3/include/aws/s3/model/AccessControlTranslation.h\n",
            "    /usr/local/lib/python3.7/dist-packages/tensorflow/include/external/aws/aws-cpp-sdk-s3/include/aws/s3/model/AnalyticsAndOperator.h\n",
            "    /usr/local/lib/python3.7/dist-packages/tensorflow/include/external/aws/aws-cpp-sdk-s3/include/aws/s3/model/AnalyticsConfiguration.h\n",
            "    /usr/local/lib/python3.7/dist-packages/tensorflow/include/external/aws/aws-cpp-sdk-s3/include/aws/s3/model/AnalyticsExportDestination.h\n",
            "    /usr/local/lib/python3.7/dist-packages/tensorflow/include/external/aws/aws-cpp-sdk-s3/include/aws/s3/model/AnalyticsFilter.h\n",
            "    /usr/local/lib/python3.7/dist-packages/tensorflow/include/external/aws/aws-cpp-sdk-s3/include/aws/s3/model/AnalyticsS3BucketDestination.h\n",
            "    /usr/local/lib/python3.7/dist-packages/tensorflow/include/external/aws/aws-cpp-sdk-s3/include/aws/s3/model/AnalyticsS3ExportFileFormat.h\n",
            "    /usr/local/lib/python3.7/dist-packages/tensorflow/include/external/aws/aws-cpp-sdk-s3/include/aws/s3/model/Bucket.h\n",
            "    /usr/local/lib/python3.7/dist-packages/tensorflow/include/external/aws/aws-cpp-sdk-s3/include/aws/s3/model/BucketAccelerateStatus.h\n",
            "    /usr/local/lib/python3.7/dist-packages/tensorflow/include/external/aws/aws-cpp-sdk-s3/include/aws/s3/model/BucketCannedACL.h\n",
            "    /usr/local/lib/python3.7/dist-packages/tensorflow/include/external/aws/aws-cpp-sdk-s3/include/aws/s3/model/BucketLifecycleConfiguration.h\n",
            "    /usr/local/lib/python3.7/dist-packages/tensorflow/include/external/aws/aws-cpp-sdk-s3/include/aws/s3/model/BucketLocationConstraint.h\n",
            "    /usr/local/lib/python3.7/dist-packages/tensorflow/include/external/aws/aws-cpp-sdk-s3/include/aws/s3/model/BucketLoggingStatus.h\n",
            "    /usr/local/lib/python3.7/dist-packages/tensorflow/include/external/aws/aws-cpp-sdk-s3/include/aws/s3/model/BucketLogsPermission.h\n",
            "    /usr/local/lib/python3.7/dist-packages/tensorflow/include/external/aws/aws-cpp-sdk-s3/include/aws/s3/model/BucketVersioningStatus.h\n",
            "    /usr/local/lib/python3.7/dist-packages/tensorflow/include/external/aws/aws-cpp-sdk-s3/include/aws/s3/model/CORSConfiguration.h\n",
            "    /usr/local/lib/python3.7/dist-packages/tensorflow/include/external/aws/aws-cpp-sdk-s3/include/aws/s3/model/CORSRule.h\n",
            "    /usr/local/lib/python3.7/dist-packages/tensorflow/include/external/aws/aws-cpp-sdk-s3/include/aws/s3/model/CSVInput.h\n",
            "    /usr/local/lib/python3.7/dist-packages/tensorflow/include/external/aws/aws-cpp-sdk-s3/include/aws/s3/model/CSVOutput.h\n",
            "    /usr/local/lib/python3.7/dist-packages/tensorflow/include/external/aws/aws-cpp-sdk-s3/include/aws/s3/model/CloudFunctionConfiguration.h\n",
            "    /usr/local/lib/python3.7/dist-packages/tensorflow/include/external/aws/aws-cpp-sdk-s3/include/aws/s3/model/CommonPrefix.h\n",
            "    /usr/local/lib/python3.7/dist-packages/tensorflow/include/external/aws/aws-cpp-sdk-s3/include/aws/s3/model/CompleteMultipartUploadRequest.h\n",
            "    /usr/local/lib/python3.7/dist-packages/tensorflow/include/external/aws/aws-cpp-sdk-s3/include/aws/s3/model/CompleteMultipartUploadResult.h\n",
            "    /usr/local/lib/python3.7/dist-packages/tensorflow/include/external/aws/aws-cpp-sdk-s3/include/aws/s3/model/CompletedMultipartUpload.h\n",
            "    /usr/local/lib/python3.7/dist-packages/tensorflow/include/external/aws/aws-cpp-sdk-s3/include/aws/s3/model/CompletedPart.h\n",
            "    /usr/local/lib/python3.7/dist-packages/tensorflow/include/external/aws/aws-cpp-sdk-s3/include/aws/s3/model/CompressionType.h\n",
            "    /usr/local/lib/python3.7/dist-packages/tensorflow/include/external/aws/aws-cpp-sdk-s3/include/aws/s3/model/Condition.h\n",
            "    /usr/local/lib/python3.7/dist-packages/tensorflow/include/external/aws/aws-cpp-sdk-s3/include/aws/s3/model/CopyObjectRequest.h\n",
            "    /usr/local/lib/python3.7/dist-packages/tensorflow/include/external/aws/aws-cpp-sdk-s3/include/aws/s3/model/CopyObjectResult.h\n",
            "    /usr/local/lib/python3.7/dist-packages/tensorflow/include/external/aws/aws-cpp-sdk-s3/include/aws/s3/model/CopyObjectResultDetails.h\n",
            "    /usr/local/lib/python3.7/dist-packages/tensorflow/include/external/aws/aws-cpp-sdk-s3/include/aws/s3/model/CopyPartResult.h\n",
            "    /usr/local/lib/python3.7/dist-packages/tensorflow/include/external/aws/aws-cpp-sdk-s3/include/aws/s3/model/CreateBucketConfiguration.h\n",
            "    /usr/local/lib/python3.7/dist-packages/tensorflow/include/external/aws/aws-cpp-sdk-s3/include/aws/s3/model/CreateBucketRequest.h\n",
            "    /usr/local/lib/python3.7/dist-packages/tensorflow/include/external/aws/aws-cpp-sdk-s3/include/aws/s3/model/CreateBucketResult.h\n",
            "    /usr/local/lib/python3.7/dist-packages/tensorflow/include/external/aws/aws-cpp-sdk-s3/include/aws/s3/model/CreateMultipartUploadRequest.h\n",
            "    /usr/local/lib/python3.7/dist-packages/tensorflow/include/external/aws/aws-cpp-sdk-s3/include/aws/s3/model/CreateMultipartUploadResult.h\n",
            "    /usr/local/lib/python3.7/dist-packages/tensorflow/include/external/aws/aws-cpp-sdk-s3/include/aws/s3/model/DefaultRetention.h\n",
            "    /usr/local/lib/python3.7/dist-packages/tensorflow/include/external/aws/aws-cpp-sdk-s3/include/aws/s3/model/Delete.h\n",
            "    /usr/local/lib/python3.7/dist-packages/tensorflow/include/external/aws/aws-cpp-sdk-s3/include/aws/s3/model/DeleteBucketAnalyticsConfigurationRequest.h\n",
            "    /usr/local/lib/python3.7/dist-packages/tensorflow/include/external/aws/aws-cpp-sdk-s3/include/aws/s3/model/DeleteBucketCorsRequest.h\n",
            "    /usr/local/lib/python3.7/dist-packages/tensorflow/include/external/aws/aws-cpp-sdk-s3/include/aws/s3/model/DeleteBucketEncryptionRequest.h\n",
            "    /usr/local/lib/python3.7/dist-packages/tensorflow/include/external/aws/aws-cpp-sdk-s3/include/aws/s3/model/DeleteBucketInventoryConfigurationRequest.h\n",
            "    /usr/local/lib/python3.7/dist-packages/tensorflow/include/external/aws/aws-cpp-sdk-s3/include/aws/s3/model/DeleteBucketLifecycleRequest.h\n",
            "    /usr/local/lib/python3.7/dist-packages/tensorflow/include/external/aws/aws-cpp-sdk-s3/include/aws/s3/model/DeleteBucketMetricsConfigurationRequest.h\n",
            "    /usr/local/lib/python3.7/dist-packages/tensorflow/include/external/aws/aws-cpp-sdk-s3/include/aws/s3/model/DeleteBucketPolicyRequest.h\n",
            "    /usr/local/lib/python3.7/dist-packages/tensorflow/include/external/aws/aws-cpp-sdk-s3/include/aws/s3/model/DeleteBucketReplicationRequest.h\n",
            "    /usr/local/lib/python3.7/dist-packages/tensorflow/include/external/aws/aws-cpp-sdk-s3/include/aws/s3/model/DeleteBucketRequest.h\n",
            "    /usr/local/lib/python3.7/dist-packages/tensorflow/include/external/aws/aws-cpp-sdk-s3/include/aws/s3/model/DeleteBucketTaggingRequest.h\n",
            "    /usr/local/lib/python3.7/dist-packages/tensorflow/include/external/aws/aws-cpp-sdk-s3/include/aws/s3/model/DeleteBucketWebsiteRequest.h\n",
            "    /usr/local/lib/python3.7/dist-packages/tensorflow/include/external/aws/aws-cpp-sdk-s3/include/aws/s3/model/DeleteMarkerEntry.h\n",
            "    /usr/local/lib/python3.7/dist-packages/tensorflow/include/external/aws/aws-cpp-sdk-s3/include/aws/s3/model/DeleteMarkerReplication.h\n",
            "    /usr/local/lib/python3.7/dist-packages/tensorflow/include/external/aws/aws-cpp-sdk-s3/include/aws/s3/model/DeleteMarkerReplicationStatus.h\n",
            "    /usr/local/lib/python3.7/dist-packages/tensorflow/include/external/aws/aws-cpp-sdk-s3/include/aws/s3/model/DeleteObjectRequest.h\n",
            "    /usr/local/lib/python3.7/dist-packages/tensorflow/include/external/aws/aws-cpp-sdk-s3/include/aws/s3/model/DeleteObjectResult.h\n",
            "    /usr/local/lib/python3.7/dist-packages/tensorflow/include/external/aws/aws-cpp-sdk-s3/include/aws/s3/model/DeleteObjectTaggingRequest.h\n",
            "    /usr/local/lib/python3.7/dist-packages/tensorflow/include/external/aws/aws-cpp-sdk-s3/include/aws/s3/model/DeleteObjectTaggingResult.h\n",
            "    /usr/local/lib/python3.7/dist-packages/tensorflow/include/external/aws/aws-cpp-sdk-s3/include/aws/s3/model/DeleteObjectsRequest.h\n",
            "    /usr/local/lib/python3.7/dist-packages/tensorflow/include/external/aws/aws-cpp-sdk-s3/include/aws/s3/model/DeleteObjectsResult.h\n",
            "    /usr/local/lib/python3.7/dist-packages/tensorflow/include/external/aws/aws-cpp-sdk-s3/include/aws/s3/model/DeletePublicAccessBlockRequest.h\n",
            "    /usr/local/lib/python3.7/dist-packages/tensorflow/include/external/aws/aws-cpp-sdk-s3/include/aws/s3/model/DeletedObject.h\n",
            "    /usr/local/lib/python3.7/dist-packages/tensorflow/include/external/aws/aws-cpp-sdk-s3/include/aws/s3/model/Destination.h\n",
            "    /usr/local/lib/python3.7/dist-packages/tensorflow/include/external/aws/aws-cpp-sdk-s3/include/aws/s3/model/EncodingType.h\n",
            "    /usr/local/lib/python3.7/dist-packages/tensorflow/include/external/aws/aws-cpp-sdk-s3/include/aws/s3/model/Encryption.h\n",
            "    /usr/local/lib/python3.7/dist-packages/tensorflow/include/external/aws/aws-cpp-sdk-s3/include/aws/s3/model/EncryptionConfiguration.h\n",
            "    /usr/local/lib/python3.7/dist-packages/tensorflow/include/external/aws/aws-cpp-sdk-s3/include/aws/s3/model/Error.h\n",
            "    /usr/local/lib/python3.7/dist-packages/tensorflow/include/external/aws/aws-cpp-sdk-s3/include/aws/s3/model/ErrorDocument.h\n",
            "    /usr/local/lib/python3.7/dist-packages/tensorflow/include/external/aws/aws-cpp-sdk-s3/include/aws/s3/model/Event.h\n",
            "    /usr/local/lib/python3.7/dist-packages/tensorflow/include/external/aws/aws-cpp-sdk-s3/include/aws/s3/model/ExistingObjectReplication.h\n",
            "    /usr/local/lib/python3.7/dist-packages/tensorflow/include/external/aws/aws-cpp-sdk-s3/include/aws/s3/model/ExistingObjectReplicationStatus.h\n",
            "    /usr/local/lib/python3.7/dist-packages/tensorflow/include/external/aws/aws-cpp-sdk-s3/include/aws/s3/model/ExpirationStatus.h\n",
            "    /usr/local/lib/python3.7/dist-packages/tensorflow/include/external/aws/aws-cpp-sdk-s3/include/aws/s3/model/ExpressionType.h\n",
            "    /usr/local/lib/python3.7/dist-packages/tensorflow/include/external/aws/aws-cpp-sdk-s3/include/aws/s3/model/FileHeaderInfo.h\n",
            "    /usr/local/lib/python3.7/dist-packages/tensorflow/include/external/aws/aws-cpp-sdk-s3/include/aws/s3/model/FilterRule.h\n",
            "    /usr/local/lib/python3.7/dist-packages/tensorflow/include/external/aws/aws-cpp-sdk-s3/include/aws/s3/model/FilterRuleName.h\n",
            "    /usr/local/lib/python3.7/dist-packages/tensorflow/include/external/aws/aws-cpp-sdk-s3/include/aws/s3/model/GetBucketAccelerateConfigurationRequest.h\n",
            "    /usr/local/lib/python3.7/dist-packages/tensorflow/include/external/aws/aws-cpp-sdk-s3/include/aws/s3/model/GetBucketAccelerateConfigurationResult.h\n",
            "    /usr/local/lib/python3.7/dist-packages/tensorflow/include/external/aws/aws-cpp-sdk-s3/include/aws/s3/model/GetBucketAclRequest.h\n",
            "    /usr/local/lib/python3.7/dist-packages/tensorflow/include/external/aws/aws-cpp-sdk-s3/include/aws/s3/model/GetBucketAclResult.h\n",
            "    /usr/local/lib/python3.7/dist-packages/tensorflow/include/external/aws/aws-cpp-sdk-s3/include/aws/s3/model/GetBucketAnalyticsConfigurationRequest.h\n",
            "    /usr/local/lib/python3.7/dist-packages/tensorflow/include/external/aws/aws-cpp-sdk-s3/include/aws/s3/model/GetBucketAnalyticsConfigurationResult.h\n",
            "    /usr/local/lib/python3.7/dist-packages/tensorflow/include/external/aws/aws-cpp-sdk-s3/include/aws/s3/model/GetBucketCorsRequest.h\n",
            "    /usr/local/lib/python3.7/dist-packages/tensorflow/include/external/aws/aws-cpp-sdk-s3/include/aws/s3/model/GetBucketCorsResult.h\n",
            "    /usr/local/lib/python3.7/dist-packages/tensorflow/include/external/aws/aws-cpp-sdk-s3/include/aws/s3/model/GetBucketEncryptionRequest.h\n",
            "    /usr/local/lib/python3.7/dist-packages/tensorflow/include/external/aws/aws-cpp-sdk-s3/include/aws/s3/model/GetBucketEncryptionResult.h\n",
            "    /usr/local/lib/python3.7/dist-packages/tensorflow/include/external/aws/aws-cpp-sdk-s3/include/aws/s3/model/GetBucketInventoryConfigurationRequest.h\n",
            "    /usr/local/lib/python3.7/dist-packages/tensorflow/include/external/aws/aws-cpp-sdk-s3/include/aws/s3/model/GetBucketInventoryConfigurationResult.h\n",
            "    /usr/local/lib/python3.7/dist-packages/tensorflow/include/external/aws/aws-cpp-sdk-s3/include/aws/s3/model/GetBucketLifecycleConfigurationRequest.h\n",
            "    /usr/local/lib/python3.7/dist-packages/tensorflow/include/external/aws/aws-cpp-sdk-s3/include/aws/s3/model/GetBucketLifecycleConfigurationResult.h\n",
            "    /usr/local/lib/python3.7/dist-packages/tensorflow/include/external/aws/aws-cpp-sdk-s3/include/aws/s3/model/GetBucketLocationRequest.h\n",
            "    /usr/local/lib/python3.7/dist-packages/tensorflow/include/external/aws/aws-cpp-sdk-s3/include/aws/s3/model/GetBucketLocationResult.h\n",
            "    /usr/local/lib/python3.7/dist-packages/tensorflow/include/external/aws/aws-cpp-sdk-s3/include/aws/s3/model/GetBucketLoggingRequest.h\n",
            "    /usr/local/lib/python3.7/dist-packages/tensorflow/include/external/aws/aws-cpp-sdk-s3/include/aws/s3/model/GetBucketLoggingResult.h\n",
            "    /usr/local/lib/python3.7/dist-packages/tensorflow/include/external/aws/aws-cpp-sdk-s3/include/aws/s3/model/GetBucketMetricsConfigurationRequest.h\n",
            "    /usr/local/lib/python3.7/dist-packages/tensorflow/include/external/aws/aws-cpp-sdk-s3/include/aws/s3/model/GetBucketMetricsConfigurationResult.h\n",
            "    /usr/local/lib/python3.7/dist-packages/tensorflow/include/external/aws/aws-cpp-sdk-s3/include/aws/s3/model/GetBucketNotificationConfigurationRequest.h\n",
            "    /usr/local/lib/python3.7/dist-packages/tensorflow/include/external/aws/aws-cpp-sdk-s3/include/aws/s3/model/GetBucketNotificationConfigurationResult.h\n",
            "    /usr/local/lib/python3.7/dist-packages/tensorflow/include/external/aws/aws-cpp-sdk-s3/include/aws/s3/model/GetBucketPolicyRequest.h\n",
            "    /usr/local/lib/python3.7/dist-packages/tensorflow/include/external/aws/aws-cpp-sdk-s3/include/aws/s3/model/GetBucketPolicyResult.h\n",
            "    /usr/local/lib/python3.7/dist-packages/tensorflow/include/external/aws/aws-cpp-sdk-s3/include/aws/s3/model/GetBucketPolicyStatusRequest.h\n",
            "    /usr/local/lib/python3.7/dist-packages/tensorflow/include/external/aws/aws-cpp-sdk-s3/include/aws/s3/model/GetBucketPolicyStatusResult.h\n",
            "    /usr/local/lib/python3.7/dist-packages/tensorflow/include/external/aws/aws-cpp-sdk-s3/include/aws/s3/model/GetBucketReplicationRequest.h\n",
            "    /usr/local/lib/python3.7/dist-packages/tensorflow/include/external/aws/aws-cpp-sdk-s3/include/aws/s3/model/GetBucketReplicationResult.h\n",
            "    /usr/local/lib/python3.7/dist-packages/tensorflow/include/external/aws/aws-cpp-sdk-s3/include/aws/s3/model/GetBucketRequestPaymentRequest.h\n",
            "    /usr/local/lib/python3.7/dist-packages/tensorflow/include/external/aws/aws-cpp-sdk-s3/include/aws/s3/model/GetBucketRequestPaymentResult.h\n",
            "    /usr/local/lib/python3.7/dist-packages/tensorflow/include/external/aws/aws-cpp-sdk-s3/include/aws/s3/model/GetBucketTaggingRequest.h\n",
            "    /usr/local/lib/python3.7/dist-packages/tensorflow/include/external/aws/aws-cpp-sdk-s3/include/aws/s3/model/GetBucketTaggingResult.h\n",
            "    /usr/local/lib/python3.7/dist-packages/tensorflow/include/external/aws/aws-cpp-sdk-s3/include/aws/s3/model/GetBucketVersioningRequest.h\n",
            "    /usr/local/lib/python3.7/dist-packages/tensorflow/include/external/aws/aws-cpp-sdk-s3/include/aws/s3/model/GetBucketVersioningResult.h\n",
            "    /usr/local/lib/python3.7/dist-packages/tensorflow/include/external/aws/aws-cpp-sdk-s3/include/aws/s3/model/GetBucketWebsiteRequest.h\n",
            "    /usr/local/lib/python3.7/dist-packages/tensorflow/include/external/aws/aws-cpp-sdk-s3/include/aws/s3/model/GetBucketWebsiteResult.h\n",
            "    /usr/local/lib/python3.7/dist-packages/tensorflow/include/external/aws/aws-cpp-sdk-s3/include/aws/s3/model/GetObjectAclRequest.h\n",
            "    /usr/local/lib/python3.7/dist-packages/tensorflow/include/external/aws/aws-cpp-sdk-s3/include/aws/s3/model/GetObjectAclResult.h\n",
            "    /usr/local/lib/python3.7/dist-packages/tensorflow/include/external/aws/aws-cpp-sdk-s3/include/aws/s3/model/GetObjectLegalHoldRequest.h\n",
            "    /usr/local/lib/python3.7/dist-packages/tensorflow/include/external/aws/aws-cpp-sdk-s3/include/aws/s3/model/GetObjectLegalHoldResult.h\n",
            "    /usr/local/lib/python3.7/dist-packages/tensorflow/include/external/aws/aws-cpp-sdk-s3/include/aws/s3/model/GetObjectLockConfigurationRequest.h\n",
            "    /usr/local/lib/python3.7/dist-packages/tensorflow/include/external/aws/aws-cpp-sdk-s3/include/aws/s3/model/GetObjectLockConfigurationResult.h\n",
            "    /usr/local/lib/python3.7/dist-packages/tensorflow/include/external/aws/aws-cpp-sdk-s3/include/aws/s3/model/GetObjectRequest.h\n",
            "    /usr/local/lib/python3.7/dist-packages/tensorflow/include/external/aws/aws-cpp-sdk-s3/include/aws/s3/model/GetObjectResult.h\n",
            "    /usr/local/lib/python3.7/dist-packages/tensorflow/include/external/aws/aws-cpp-sdk-s3/include/aws/s3/model/GetObjectRetentionRequest.h\n",
            "    /usr/local/lib/python3.7/dist-packages/tensorflow/include/external/aws/aws-cpp-sdk-s3/include/aws/s3/model/GetObjectRetentionResult.h\n",
            "    /usr/local/lib/python3.7/dist-packages/tensorflow/include/external/aws/aws-cpp-sdk-s3/include/aws/s3/model/GetObjectTaggingRequest.h\n",
            "    /usr/local/lib/python3.7/dist-packages/tensorflow/include/external/aws/aws-cpp-sdk-s3/include/aws/s3/model/GetObjectTaggingResult.h\n",
            "    /usr/local/lib/python3.7/dist-packages/tensorflow/include/external/aws/aws-cpp-sdk-s3/include/aws/s3/model/GetObjectTorrentRequest.h\n",
            "    /usr/local/lib/python3.7/dist-packages/tensorflow/include/external/aws/aws-cpp-sdk-s3/include/aws/s3/model/GetObjectTorrentResult.h\n",
            "    /usr/local/lib/python3.7/dist-packages/tensorflow/include/external/aws/aws-cpp-sdk-s3/include/aws/s3/model/GetPublicAccessBlockRequest.h\n",
            "    /usr/local/lib/python3.7/dist-packages/tensorflow/include/external/aws/aws-cpp-sdk-s3/include/aws/s3/model/GetPublicAccessBlockResult.h\n",
            "    /usr/local/lib/python3.7/dist-packages/tensorflow/include/external/aws/aws-cpp-sdk-s3/include/aws/s3/model/GlacierJobParameters.h\n",
            "    /usr/local/lib/python3.7/dist-packages/tensorflow/include/external/aws/aws-cpp-sdk-s3/include/aws/s3/model/Grant.h\n",
            "    /usr/local/lib/python3.7/dist-packages/tensorflow/include/external/aws/aws-cpp-sdk-s3/include/aws/s3/model/Grantee.h\n",
            "    /usr/local/lib/python3.7/dist-packages/tensorflow/include/external/aws/aws-cpp-sdk-s3/include/aws/s3/model/HeadBucketRequest.h\n",
            "    /usr/local/lib/python3.7/dist-packages/tensorflow/include/external/aws/aws-cpp-sdk-s3/include/aws/s3/model/HeadObjectRequest.h\n",
            "    /usr/local/lib/python3.7/dist-packages/tensorflow/include/external/aws/aws-cpp-sdk-s3/include/aws/s3/model/HeadObjectResult.h\n",
            "    /usr/local/lib/python3.7/dist-packages/tensorflow/include/external/aws/aws-cpp-sdk-s3/include/aws/s3/model/IndexDocument.h\n",
            "    /usr/local/lib/python3.7/dist-packages/tensorflow/include/external/aws/aws-cpp-sdk-s3/include/aws/s3/model/Initiator.h\n",
            "    /usr/local/lib/python3.7/dist-packages/tensorflow/include/external/aws/aws-cpp-sdk-s3/include/aws/s3/model/InputSerialization.h\n",
            "    /usr/local/lib/python3.7/dist-packages/tensorflow/include/external/aws/aws-cpp-sdk-s3/include/aws/s3/model/InventoryConfiguration.h\n",
            "    /usr/local/lib/python3.7/dist-packages/tensorflow/include/external/aws/aws-cpp-sdk-s3/include/aws/s3/model/InventoryDestination.h\n",
            "    /usr/local/lib/python3.7/dist-packages/tensorflow/include/external/aws/aws-cpp-sdk-s3/include/aws/s3/model/InventoryEncryption.h\n",
            "    /usr/local/lib/python3.7/dist-packages/tensorflow/include/external/aws/aws-cpp-sdk-s3/include/aws/s3/model/InventoryFilter.h\n",
            "    /usr/local/lib/python3.7/dist-packages/tensorflow/include/external/aws/aws-cpp-sdk-s3/include/aws/s3/model/InventoryFormat.h\n",
            "    /usr/local/lib/python3.7/dist-packages/tensorflow/include/external/aws/aws-cpp-sdk-s3/include/aws/s3/model/InventoryFrequency.h\n",
            "    /usr/local/lib/python3.7/dist-packages/tensorflow/include/external/aws/aws-cpp-sdk-s3/include/aws/s3/model/InventoryIncludedObjectVersions.h\n",
            "    /usr/local/lib/python3.7/dist-packages/tensorflow/include/external/aws/aws-cpp-sdk-s3/include/aws/s3/model/InventoryOptionalField.h\n",
            "    /usr/local/lib/python3.7/dist-packages/tensorflow/include/external/aws/aws-cpp-sdk-s3/include/aws/s3/model/InventoryS3BucketDestination.h\n",
            "    /usr/local/lib/python3.7/dist-packages/tensorflow/include/external/aws/aws-cpp-sdk-s3/include/aws/s3/model/InventorySchedule.h\n",
            "    /usr/local/lib/python3.7/dist-packages/tensorflow/include/external/aws/aws-cpp-sdk-s3/include/aws/s3/model/JSONInput.h\n",
            "    /usr/local/lib/python3.7/dist-packages/tensorflow/include/external/aws/aws-cpp-sdk-s3/include/aws/s3/model/JSONOutput.h\n",
            "    /usr/local/lib/python3.7/dist-packages/tensorflow/include/external/aws/aws-cpp-sdk-s3/include/aws/s3/model/JSONType.h\n",
            "    /usr/local/lib/python3.7/dist-packages/tensorflow/include/external/aws/aws-cpp-sdk-s3/include/aws/s3/model/LambdaFunctionConfiguration.h\n",
            "    /usr/local/lib/python3.7/dist-packages/tensorflow/include/external/aws/aws-cpp-sdk-s3/include/aws/s3/model/LifecycleConfiguration.h\n",
            "    /usr/local/lib/python3.7/dist-packages/tensorflow/include/external/aws/aws-cpp-sdk-s3/include/aws/s3/model/LifecycleExpiration.h\n",
            "    /usr/local/lib/python3.7/dist-packages/tensorflow/include/external/aws/aws-cpp-sdk-s3/include/aws/s3/model/LifecycleRule.h\n",
            "    /usr/local/lib/python3.7/dist-packages/tensorflow/include/external/aws/aws-cpp-sdk-s3/include/aws/s3/model/LifecycleRuleAndOperator.h\n",
            "    /usr/local/lib/python3.7/dist-packages/tensorflow/include/external/aws/aws-cpp-sdk-s3/include/aws/s3/model/LifecycleRuleFilter.h\n",
            "    /usr/local/lib/python3.7/dist-packages/tensorflow/include/external/aws/aws-cpp-sdk-s3/include/aws/s3/model/ListBucketAnalyticsConfigurationsRequest.h\n",
            "    /usr/local/lib/python3.7/dist-packages/tensorflow/include/external/aws/aws-cpp-sdk-s3/include/aws/s3/model/ListBucketAnalyticsConfigurationsResult.h\n",
            "    /usr/local/lib/python3.7/dist-packages/tensorflow/include/external/aws/aws-cpp-sdk-s3/include/aws/s3/model/ListBucketInventoryConfigurationsRequest.h\n",
            "    /usr/local/lib/python3.7/dist-packages/tensorflow/include/external/aws/aws-cpp-sdk-s3/include/aws/s3/model/ListBucketInventoryConfigurationsResult.h\n",
            "    /usr/local/lib/python3.7/dist-packages/tensorflow/include/external/aws/aws-cpp-sdk-s3/include/aws/s3/model/ListBucketMetricsConfigurationsRequest.h\n",
            "    /usr/local/lib/python3.7/dist-packages/tensorflow/include/external/aws/aws-cpp-sdk-s3/include/aws/s3/model/ListBucketMetricsConfigurationsResult.h\n",
            "    /usr/local/lib/python3.7/dist-packages/tensorflow/include/external/aws/aws-cpp-sdk-s3/include/aws/s3/model/ListBucketsResult.h\n",
            "    /usr/local/lib/python3.7/dist-packages/tensorflow/include/external/aws/aws-cpp-sdk-s3/include/aws/s3/model/ListMultipartUploadsRequest.h\n",
            "    /usr/local/lib/python3.7/dist-packages/tensorflow/include/external/aws/aws-cpp-sdk-s3/include/aws/s3/model/ListMultipartUploadsResult.h\n",
            "    /usr/local/lib/python3.7/dist-packages/tensorflow/include/external/aws/aws-cpp-sdk-s3/include/aws/s3/model/ListObjectVersionsRequest.h\n",
            "    /usr/local/lib/python3.7/dist-packages/tensorflow/include/external/aws/aws-cpp-sdk-s3/include/aws/s3/model/ListObjectVersionsResult.h\n",
            "    /usr/local/lib/python3.7/dist-packages/tensorflow/include/external/aws/aws-cpp-sdk-s3/include/aws/s3/model/ListObjectsRequest.h\n",
            "    /usr/local/lib/python3.7/dist-packages/tensorflow/include/external/aws/aws-cpp-sdk-s3/include/aws/s3/model/ListObjectsResult.h\n",
            "    /usr/local/lib/python3.7/dist-packages/tensorflow/include/external/aws/aws-cpp-sdk-s3/include/aws/s3/model/ListObjectsV2Request.h\n",
            "    /usr/local/lib/python3.7/dist-packages/tensorflow/include/external/aws/aws-cpp-sdk-s3/include/aws/s3/model/ListObjectsV2Result.h\n",
            "    /usr/local/lib/python3.7/dist-packages/tensorflow/include/external/aws/aws-cpp-sdk-s3/include/aws/s3/model/ListPartsRequest.h\n",
            "    /usr/local/lib/python3.7/dist-packages/tensorflow/include/external/aws/aws-cpp-sdk-s3/include/aws/s3/model/ListPartsResult.h\n",
            "    /usr/local/lib/python3.7/dist-packages/tensorflow/include/external/aws/aws-cpp-sdk-s3/include/aws/s3/model/LoggingEnabled.h\n",
            "    /usr/local/lib/python3.7/dist-packages/tensorflow/include/external/aws/aws-cpp-sdk-s3/include/aws/s3/model/MFADelete.h\n",
            "    /usr/local/lib/python3.7/dist-packages/tensorflow/include/external/aws/aws-cpp-sdk-s3/include/aws/s3/model/MFADeleteStatus.h\n",
            "    /usr/local/lib/python3.7/dist-packages/tensorflow/include/external/aws/aws-cpp-sdk-s3/include/aws/s3/model/MetadataDirective.h\n",
            "    /usr/local/lib/python3.7/dist-packages/tensorflow/include/external/aws/aws-cpp-sdk-s3/include/aws/s3/model/MetadataEntry.h\n",
            "    /usr/local/lib/python3.7/dist-packages/tensorflow/include/external/aws/aws-cpp-sdk-s3/include/aws/s3/model/Metrics.h\n",
            "    /usr/local/lib/python3.7/dist-packages/tensorflow/include/external/aws/aws-cpp-sdk-s3/include/aws/s3/model/MetricsAndOperator.h\n",
            "    /usr/local/lib/python3.7/dist-packages/tensorflow/include/external/aws/aws-cpp-sdk-s3/include/aws/s3/model/MetricsConfiguration.h\n",
            "    /usr/local/lib/python3.7/dist-packages/tensorflow/include/external/aws/aws-cpp-sdk-s3/include/aws/s3/model/MetricsFilter.h\n",
            "    /usr/local/lib/python3.7/dist-packages/tensorflow/include/external/aws/aws-cpp-sdk-s3/include/aws/s3/model/MetricsStatus.h\n",
            "    /usr/local/lib/python3.7/dist-packages/tensorflow/include/external/aws/aws-cpp-sdk-s3/include/aws/s3/model/MultipartUpload.h\n",
            "    /usr/local/lib/python3.7/dist-packages/tensorflow/include/external/aws/aws-cpp-sdk-s3/include/aws/s3/model/NoncurrentVersionExpiration.h\n",
            "    /usr/local/lib/python3.7/dist-packages/tensorflow/include/external/aws/aws-cpp-sdk-s3/include/aws/s3/model/NoncurrentVersionTransition.h\n",
            "    /usr/local/lib/python3.7/dist-packages/tensorflow/include/external/aws/aws-cpp-sdk-s3/include/aws/s3/model/NotificationConfiguration.h\n",
            "    /usr/local/lib/python3.7/dist-packages/tensorflow/include/external/aws/aws-cpp-sdk-s3/include/aws/s3/model/NotificationConfigurationDeprecated.h\n",
            "    /usr/local/lib/python3.7/dist-packages/tensorflow/include/external/aws/aws-cpp-sdk-s3/include/aws/s3/model/NotificationConfigurationFilter.h\n",
            "    /usr/local/lib/python3.7/dist-packages/tensorflow/include/external/aws/aws-cpp-sdk-s3/include/aws/s3/model/Object.h\n",
            "    /usr/local/lib/python3.7/dist-packages/tensorflow/include/external/aws/aws-cpp-sdk-s3/include/aws/s3/model/ObjectCannedACL.h\n",
            "    /usr/local/lib/python3.7/dist-packages/tensorflow/include/external/aws/aws-cpp-sdk-s3/include/aws/s3/model/ObjectIdentifier.h\n",
            "    /usr/local/lib/python3.7/dist-packages/tensorflow/include/external/aws/aws-cpp-sdk-s3/include/aws/s3/model/ObjectLockConfiguration.h\n",
            "    /usr/local/lib/python3.7/dist-packages/tensorflow/include/external/aws/aws-cpp-sdk-s3/include/aws/s3/model/ObjectLockEnabled.h\n",
            "    /usr/local/lib/python3.7/dist-packages/tensorflow/include/external/aws/aws-cpp-sdk-s3/include/aws/s3/model/ObjectLockLegalHold.h\n",
            "    /usr/local/lib/python3.7/dist-packages/tensorflow/include/external/aws/aws-cpp-sdk-s3/include/aws/s3/model/ObjectLockLegalHoldStatus.h\n",
            "    /usr/local/lib/python3.7/dist-packages/tensorflow/include/external/aws/aws-cpp-sdk-s3/include/aws/s3/model/ObjectLockMode.h\n",
            "    /usr/local/lib/python3.7/dist-packages/tensorflow/include/external/aws/aws-cpp-sdk-s3/include/aws/s3/model/ObjectLockRetention.h\n",
            "    /usr/local/lib/python3.7/dist-packages/tensorflow/include/external/aws/aws-cpp-sdk-s3/include/aws/s3/model/ObjectLockRetentionMode.h\n",
            "    /usr/local/lib/python3.7/dist-packages/tensorflow/include/external/aws/aws-cpp-sdk-s3/include/aws/s3/model/ObjectLockRule.h\n",
            "    /usr/local/lib/python3.7/dist-packages/tensorflow/include/external/aws/aws-cpp-sdk-s3/include/aws/s3/model/ObjectStorageClass.h\n",
            "    /usr/local/lib/python3.7/dist-packages/tensorflow/include/external/aws/aws-cpp-sdk-s3/include/aws/s3/model/ObjectVersion.h\n",
            "    /usr/local/lib/python3.7/dist-packages/tensorflow/include/external/aws/aws-cpp-sdk-s3/include/aws/s3/model/ObjectVersionStorageClass.h\n",
            "    /usr/local/lib/python3.7/dist-packages/tensorflow/include/external/aws/aws-cpp-sdk-s3/include/aws/s3/model/OutputLocation.h\n",
            "    /usr/local/lib/python3.7/dist-packages/tensorflow/include/external/aws/aws-cpp-sdk-s3/include/aws/s3/model/OutputSerialization.h\n",
            "    /usr/local/lib/python3.7/dist-packages/tensorflow/include/external/aws/aws-cpp-sdk-s3/include/aws/s3/model/Owner.h\n",
            "    /usr/local/lib/python3.7/dist-packages/tensorflow/include/external/aws/aws-cpp-sdk-s3/include/aws/s3/model/OwnerOverride.h\n",
            "    /usr/local/lib/python3.7/dist-packages/tensorflow/include/external/aws/aws-cpp-sdk-s3/include/aws/s3/model/ParquetInput.h\n",
            "    /usr/local/lib/python3.7/dist-packages/tensorflow/include/external/aws/aws-cpp-sdk-s3/include/aws/s3/model/Part.h\n",
            "    /usr/local/lib/python3.7/dist-packages/tensorflow/include/external/aws/aws-cpp-sdk-s3/include/aws/s3/model/Payer.h\n",
            "    /usr/local/lib/python3.7/dist-packages/tensorflow/include/external/aws/aws-cpp-sdk-s3/include/aws/s3/model/Permission.h\n",
            "    /usr/local/lib/python3.7/dist-packages/tensorflow/include/external/aws/aws-cpp-sdk-s3/include/aws/s3/model/PolicyStatus.h\n",
            "    /usr/local/lib/python3.7/dist-packages/tensorflow/include/external/aws/aws-cpp-sdk-s3/include/aws/s3/model/Progress.h\n",
            "    /usr/local/lib/python3.7/dist-packages/tensorflow/include/external/aws/aws-cpp-sdk-s3/include/aws/s3/model/ProgressEvent.h\n",
            "    /usr/local/lib/python3.7/dist-packages/tensorflow/include/external/aws/aws-cpp-sdk-s3/include/aws/s3/model/Protocol.h\n",
            "    /usr/local/lib/python3.7/dist-packages/tensorflow/include/external/aws/aws-cpp-sdk-s3/include/aws/s3/model/PublicAccessBlockConfiguration.h\n",
            "    /usr/local/lib/python3.7/dist-packages/tensorflow/include/external/aws/aws-cpp-sdk-s3/include/aws/s3/model/PutBucketAccelerateConfigurationRequest.h\n",
            "    /usr/local/lib/python3.7/dist-packages/tensorflow/include/external/aws/aws-cpp-sdk-s3/include/aws/s3/model/PutBucketAclRequest.h\n",
            "    /usr/local/lib/python3.7/dist-packages/tensorflow/include/external/aws/aws-cpp-sdk-s3/include/aws/s3/model/PutBucketAnalyticsConfigurationRequest.h\n",
            "    /usr/local/lib/python3.7/dist-packages/tensorflow/include/external/aws/aws-cpp-sdk-s3/include/aws/s3/model/PutBucketCorsRequest.h\n",
            "    /usr/local/lib/python3.7/dist-packages/tensorflow/include/external/aws/aws-cpp-sdk-s3/include/aws/s3/model/PutBucketEncryptionRequest.h\n",
            "    /usr/local/lib/python3.7/dist-packages/tensorflow/include/external/aws/aws-cpp-sdk-s3/include/aws/s3/model/PutBucketInventoryConfigurationRequest.h\n",
            "    /usr/local/lib/python3.7/dist-packages/tensorflow/include/external/aws/aws-cpp-sdk-s3/include/aws/s3/model/PutBucketLifecycleConfigurationRequest.h\n",
            "    /usr/local/lib/python3.7/dist-packages/tensorflow/include/external/aws/aws-cpp-sdk-s3/include/aws/s3/model/PutBucketLoggingRequest.h\n",
            "    /usr/local/lib/python3.7/dist-packages/tensorflow/include/external/aws/aws-cpp-sdk-s3/include/aws/s3/model/PutBucketMetricsConfigurationRequest.h\n",
            "    /usr/local/lib/python3.7/dist-packages/tensorflow/include/external/aws/aws-cpp-sdk-s3/include/aws/s3/model/PutBucketNotificationConfigurationRequest.h\n",
            "    /usr/local/lib/python3.7/dist-packages/tensorflow/include/external/aws/aws-cpp-sdk-s3/include/aws/s3/model/PutBucketPolicyRequest.h\n",
            "    /usr/local/lib/python3.7/dist-packages/tensorflow/include/external/aws/aws-cpp-sdk-s3/include/aws/s3/model/PutBucketReplicationRequest.h\n",
            "    /usr/local/lib/python3.7/dist-packages/tensorflow/include/external/aws/aws-cpp-sdk-s3/include/aws/s3/model/PutBucketRequestPaymentRequest.h\n",
            "    /usr/local/lib/python3.7/dist-packages/tensorflow/include/external/aws/aws-cpp-sdk-s3/include/aws/s3/model/PutBucketTaggingRequest.h\n",
            "    /usr/local/lib/python3.7/dist-packages/tensorflow/include/external/aws/aws-cpp-sdk-s3/include/aws/s3/model/PutBucketVersioningRequest.h\n",
            "    /usr/local/lib/python3.7/dist-packages/tensorflow/include/external/aws/aws-cpp-sdk-s3/include/aws/s3/model/PutBucketWebsiteRequest.h\n",
            "    /usr/local/lib/python3.7/dist-packages/tensorflow/include/external/aws/aws-cpp-sdk-s3/include/aws/s3/model/PutObjectAclRequest.h\n",
            "    /usr/local/lib/python3.7/dist-packages/tensorflow/include/external/aws/aws-cpp-sdk-s3/include/aws/s3/model/PutObjectAclResult.h\n",
            "    /usr/local/lib/python3.7/dist-packages/tensorflow/include/external/aws/aws-cpp-sdk-s3/include/aws/s3/model/PutObjectLegalHoldRequest.h\n",
            "    /usr/local/lib/python3.7/dist-packages/tensorflow/include/external/aws/aws-cpp-sdk-s3/include/aws/s3/model/PutObjectLegalHoldResult.h\n",
            "    /usr/local/lib/python3.7/dist-packages/tensorflow/include/external/aws/aws-cpp-sdk-s3/include/aws/s3/model/PutObjectLockConfigurationRequest.h\n",
            "    /usr/local/lib/python3.7/dist-packages/tensorflow/include/external/aws/aws-cpp-sdk-s3/include/aws/s3/model/PutObjectLockConfigurationResult.h\n",
            "    /usr/local/lib/python3.7/dist-packages/tensorflow/include/external/aws/aws-cpp-sdk-s3/include/aws/s3/model/PutObjectRequest.h\n",
            "    /usr/local/lib/python3.7/dist-packages/tensorflow/include/external/aws/aws-cpp-sdk-s3/include/aws/s3/model/PutObjectResult.h\n",
            "    /usr/local/lib/python3.7/dist-packages/tensorflow/include/external/aws/aws-cpp-sdk-s3/include/aws/s3/model/PutObjectRetentionRequest.h\n",
            "    /usr/local/lib/python3.7/dist-packages/tensorflow/include/external/aws/aws-cpp-sdk-s3/include/aws/s3/model/PutObjectRetentionResult.h\n",
            "    /usr/local/lib/python3.7/dist-packages/tensorflow/include/external/aws/aws-cpp-sdk-s3/include/aws/s3/model/PutObjectTaggingRequest.h\n",
            "    /usr/local/lib/python3.7/dist-packages/tensorflow/include/external/aws/aws-cpp-sdk-s3/include/aws/s3/model/PutObjectTaggingResult.h\n",
            "    /usr/local/lib/python3.7/dist-packages/tensorflow/include/external/aws/aws-cpp-sdk-s3/include/aws/s3/model/PutPublicAccessBlockRequest.h\n",
            "    /usr/local/lib/python3.7/dist-packages/tensorflow/include/external/aws/aws-cpp-sdk-s3/include/aws/s3/model/QueueConfiguration.h\n",
            "    /usr/local/lib/python3.7/dist-packages/tensorflow/include/external/aws/aws-cpp-sdk-s3/include/aws/s3/model/QueueConfigurationDeprecated.h\n",
            "    /usr/local/lib/python3.7/dist-packages/tensorflow/include/external/aws/aws-cpp-sdk-s3/include/aws/s3/model/QuoteFields.h\n",
            "    /usr/local/lib/python3.7/dist-packages/tensorflow/include/external/aws/aws-cpp-sdk-s3/include/aws/s3/model/RecordsEvent.h\n",
            "    /usr/local/lib/python3.7/dist-packages/tensorflow/include/external/aws/aws-cpp-sdk-s3/include/aws/s3/model/Redirect.h\n",
            "    /usr/local/lib/python3.7/dist-packages/tensorflow/include/external/aws/aws-cpp-sdk-s3/include/aws/s3/model/RedirectAllRequestsTo.h\n",
            "    /usr/local/lib/python3.7/dist-packages/tensorflow/include/external/aws/aws-cpp-sdk-s3/include/aws/s3/model/ReplicationConfiguration.h\n",
            "    /usr/local/lib/python3.7/dist-packages/tensorflow/include/external/aws/aws-cpp-sdk-s3/include/aws/s3/model/ReplicationRule.h\n",
            "    /usr/local/lib/python3.7/dist-packages/tensorflow/include/external/aws/aws-cpp-sdk-s3/include/aws/s3/model/ReplicationRuleAndOperator.h\n",
            "    /usr/local/lib/python3.7/dist-packages/tensorflow/include/external/aws/aws-cpp-sdk-s3/include/aws/s3/model/ReplicationRuleFilter.h\n",
            "    /usr/local/lib/python3.7/dist-packages/tensorflow/include/external/aws/aws-cpp-sdk-s3/include/aws/s3/model/ReplicationRuleStatus.h\n",
            "    /usr/local/lib/python3.7/dist-packages/tensorflow/include/external/aws/aws-cpp-sdk-s3/include/aws/s3/model/ReplicationStatus.h\n",
            "    /usr/local/lib/python3.7/dist-packages/tensorflow/include/external/aws/aws-cpp-sdk-s3/include/aws/s3/model/ReplicationTime.h\n",
            "    /usr/local/lib/python3.7/dist-packages/tensorflow/include/external/aws/aws-cpp-sdk-s3/include/aws/s3/model/ReplicationTimeStatus.h\n",
            "    /usr/local/lib/python3.7/dist-packages/tensorflow/include/external/aws/aws-cpp-sdk-s3/include/aws/s3/model/ReplicationTimeValue.h\n",
            "    /usr/local/lib/python3.7/dist-packages/tensorflow/include/external/aws/aws-cpp-sdk-s3/include/aws/s3/model/RequestCharged.h\n",
            "    /usr/local/lib/python3.7/dist-packages/tensorflow/include/external/aws/aws-cpp-sdk-s3/include/aws/s3/model/RequestPayer.h\n",
            "    /usr/local/lib/python3.7/dist-packages/tensorflow/include/external/aws/aws-cpp-sdk-s3/include/aws/s3/model/RequestPaymentConfiguration.h\n",
            "    /usr/local/lib/python3.7/dist-packages/tensorflow/include/external/aws/aws-cpp-sdk-s3/include/aws/s3/model/RequestProgress.h\n",
            "    /usr/local/lib/python3.7/dist-packages/tensorflow/include/external/aws/aws-cpp-sdk-s3/include/aws/s3/model/RestoreObjectRequest.h\n",
            "    /usr/local/lib/python3.7/dist-packages/tensorflow/include/external/aws/aws-cpp-sdk-s3/include/aws/s3/model/RestoreObjectResult.h\n",
            "    /usr/local/lib/python3.7/dist-packages/tensorflow/include/external/aws/aws-cpp-sdk-s3/include/aws/s3/model/RestoreRequest.h\n",
            "    /usr/local/lib/python3.7/dist-packages/tensorflow/include/external/aws/aws-cpp-sdk-s3/include/aws/s3/model/RestoreRequestType.h\n",
            "    /usr/local/lib/python3.7/dist-packages/tensorflow/include/external/aws/aws-cpp-sdk-s3/include/aws/s3/model/RoutingRule.h\n",
            "    /usr/local/lib/python3.7/dist-packages/tensorflow/include/external/aws/aws-cpp-sdk-s3/include/aws/s3/model/Rule.h\n",
            "    /usr/local/lib/python3.7/dist-packages/tensorflow/include/external/aws/aws-cpp-sdk-s3/include/aws/s3/model/S3KeyFilter.h\n",
            "    /usr/local/lib/python3.7/dist-packages/tensorflow/include/external/aws/aws-cpp-sdk-s3/include/aws/s3/model/S3Location.h\n",
            "    /usr/local/lib/python3.7/dist-packages/tensorflow/include/external/aws/aws-cpp-sdk-s3/include/aws/s3/model/SSEKMS.h\n",
            "    /usr/local/lib/python3.7/dist-packages/tensorflow/include/external/aws/aws-cpp-sdk-s3/include/aws/s3/model/SSES3.h\n",
            "    /usr/local/lib/python3.7/dist-packages/tensorflow/include/external/aws/aws-cpp-sdk-s3/include/aws/s3/model/ScanRange.h\n",
            "    /usr/local/lib/python3.7/dist-packages/tensorflow/include/external/aws/aws-cpp-sdk-s3/include/aws/s3/model/SelectObjectContentHandler.h\n",
            "    /usr/local/lib/python3.7/dist-packages/tensorflow/include/external/aws/aws-cpp-sdk-s3/include/aws/s3/model/SelectObjectContentRequest.h\n",
            "    /usr/local/lib/python3.7/dist-packages/tensorflow/include/external/aws/aws-cpp-sdk-s3/include/aws/s3/model/SelectParameters.h\n",
            "    /usr/local/lib/python3.7/dist-packages/tensorflow/include/external/aws/aws-cpp-sdk-s3/include/aws/s3/model/ServerSideEncryption.h\n",
            "    /usr/local/lib/python3.7/dist-packages/tensorflow/include/external/aws/aws-cpp-sdk-s3/include/aws/s3/model/ServerSideEncryptionByDefault.h\n",
            "    /usr/local/lib/python3.7/dist-packages/tensorflow/include/external/aws/aws-cpp-sdk-s3/include/aws/s3/model/ServerSideEncryptionConfiguration.h\n",
            "    /usr/local/lib/python3.7/dist-packages/tensorflow/include/external/aws/aws-cpp-sdk-s3/include/aws/s3/model/ServerSideEncryptionRule.h\n",
            "    /usr/local/lib/python3.7/dist-packages/tensorflow/include/external/aws/aws-cpp-sdk-s3/include/aws/s3/model/SourceSelectionCriteria.h\n",
            "    /usr/local/lib/python3.7/dist-packages/tensorflow/include/external/aws/aws-cpp-sdk-s3/include/aws/s3/model/SseKmsEncryptedObjects.h\n",
            "    /usr/local/lib/python3.7/dist-packages/tensorflow/include/external/aws/aws-cpp-sdk-s3/include/aws/s3/model/SseKmsEncryptedObjectsStatus.h\n",
            "    /usr/local/lib/python3.7/dist-packages/tensorflow/include/external/aws/aws-cpp-sdk-s3/include/aws/s3/model/Stats.h\n",
            "    /usr/local/lib/python3.7/dist-packages/tensorflow/include/external/aws/aws-cpp-sdk-s3/include/aws/s3/model/StatsEvent.h\n",
            "    /usr/local/lib/python3.7/dist-packages/tensorflow/include/external/aws/aws-cpp-sdk-s3/include/aws/s3/model/StorageClass.h\n",
            "    /usr/local/lib/python3.7/dist-packages/tensorflow/include/external/aws/aws-cpp-sdk-s3/include/aws/s3/model/StorageClassAnalysis.h\n",
            "    /usr/local/lib/python3.7/dist-packages/tensorflow/include/external/aws/aws-cpp-sdk-s3/include/aws/s3/model/StorageClassAnalysisDataExport.h\n",
            "    /usr/local/lib/python3.7/dist-packages/tensorflow/include/external/aws/aws-cpp-sdk-s3/include/aws/s3/model/StorageClassAnalysisSchemaVersion.h\n",
            "    /usr/local/lib/python3.7/dist-packages/tensorflow/include/external/aws/aws-cpp-sdk-s3/include/aws/s3/model/Tag.h\n",
            "    /usr/local/lib/python3.7/dist-packages/tensorflow/include/external/aws/aws-cpp-sdk-s3/include/aws/s3/model/Tagging.h\n",
            "    /usr/local/lib/python3.7/dist-packages/tensorflow/include/external/aws/aws-cpp-sdk-s3/include/aws/s3/model/TaggingDirective.h\n",
            "    /usr/local/lib/python3.7/dist-packages/tensorflow/include/external/aws/aws-cpp-sdk-s3/include/aws/s3/model/TargetGrant.h\n",
            "    /usr/local/lib/python3.7/dist-packages/tensorflow/include/external/aws/aws-cpp-sdk-s3/include/aws/s3/model/Tier.h\n",
            "    /usr/local/lib/python3.7/dist-packages/tensorflow/include/external/aws/aws-cpp-sdk-s3/include/aws/s3/model/TopicConfiguration.h\n",
            "    /usr/local/lib/python3.7/dist-packages/tensorflow/include/external/aws/aws-cpp-sdk-s3/include/aws/s3/model/TopicConfigurationDeprecated.h\n",
            "    /usr/local/lib/python3.7/dist-packages/tensorflow/include/external/aws/aws-cpp-sdk-s3/include/aws/s3/model/Transition.h\n",
            "    /usr/local/lib/python3.7/dist-packages/tensorflow/include/external/aws/aws-cpp-sdk-s3/include/aws/s3/model/TransitionStorageClass.h\n",
            "    /usr/local/lib/python3.7/dist-packages/tensorflow/include/external/aws/aws-cpp-sdk-s3/include/aws/s3/model/Type.h\n",
            "    /usr/local/lib/python3.7/dist-packages/tensorflow/include/external/aws/aws-cpp-sdk-s3/include/aws/s3/model/UploadPartCopyRequest.h\n",
            "    /usr/local/lib/python3.7/dist-packages/tensorflow/include/external/aws/aws-cpp-sdk-s3/include/aws/s3/model/UploadPartCopyResult.h\n",
            "    /usr/local/lib/python3.7/dist-packages/tensorflow/include/external/aws/aws-cpp-sdk-s3/include/aws/s3/model/UploadPartRequest.h\n",
            "    /usr/local/lib/python3.7/dist-packages/tensorflow/include/external/aws/aws-cpp-sdk-s3/include/aws/s3/model/UploadPartResult.h\n",
            "    /usr/local/lib/python3.7/dist-packages/tensorflow/include/external/aws/aws-cpp-sdk-s3/include/aws/s3/model/VersioningConfiguration.h\n",
            "    /usr/local/lib/python3.7/dist-packages/tensorflow/include/external/aws/aws-cpp-sdk-s3/include/aws/s3/model/WebsiteConfiguration.h\n",
            "    /usr/local/lib/python3.7/dist-packages/tensorflow/include/external/aws/aws-cpp-sdk-transfer/include/aws/transfer/TransferHandle.h\n",
            "    /usr/local/lib/python3.7/dist-packages/tensorflow/include/external/aws/aws-cpp-sdk-transfer/include/aws/transfer/TransferManager.h\n",
            "    /usr/local/lib/python3.7/dist-packages/tensorflow/include/external/aws/aws-cpp-sdk-transfer/include/aws/transfer/Transfer_EXPORTS.h\n",
            "    /usr/local/lib/python3.7/dist-packages/tensorflow/include/external/functools32_archive/LICENSE\n",
            "    /usr/local/lib/python3.7/dist-packages/tensorflow/include/external/llvm-project/mlir/_virtual_includes/AVX512IncGen/mlir/Dialect/AVX512/AVX512.cpp.inc\n",
            "    /usr/local/lib/python3.7/dist-packages/tensorflow/include/external/llvm-project/mlir/_virtual_includes/AVX512IncGen/mlir/Dialect/AVX512/AVX512.h.inc\n",
            "    /usr/local/lib/python3.7/dist-packages/tensorflow/include/external/llvm-project/mlir/_virtual_includes/AVX512IncGen/mlir/Dialect/AVX512/AVX512Dialect.h.inc\n",
            "    /usr/local/lib/python3.7/dist-packages/tensorflow/include/external/llvm-project/mlir/_virtual_includes/GPUToSPIRVIncGen/GPUToSPIRV.cpp.inc\n",
            "    /usr/local/lib/python3.7/dist-packages/tensorflow/include/external/llvm-project/mlir/_virtual_includes/LLVMArmSVEIncGen/mlir/Dialect/LLVMIR/LLVMArmSVE.cpp.inc\n",
            "    /usr/local/lib/python3.7/dist-packages/tensorflow/include/external/llvm-project/mlir/_virtual_includes/LLVMArmSVEIncGen/mlir/Dialect/LLVMIR/LLVMArmSVE.h.inc\n",
            "    /usr/local/lib/python3.7/dist-packages/tensorflow/include/external/llvm-project/mlir/_virtual_includes/LLVMArmSVEIncGen/mlir/Dialect/LLVMIR/LLVMArmSVEDialect.h.inc\n",
            "    /usr/local/lib/python3.7/dist-packages/tensorflow/include/external/llvm-project/mlir/_virtual_includes/LinalgSparseOpsIncGen/mlir/Dialect/Linalg/IR/LinalgSparseOps.cpp.inc\n",
            "    /usr/local/lib/python3.7/dist-packages/tensorflow/include/external/llvm-project/mlir/_virtual_includes/LinalgSparseOpsIncGen/mlir/Dialect/Linalg/IR/LinalgSparseOps.h.inc\n",
            "    /usr/local/lib/python3.7/dist-packages/tensorflow/include/external/llvm-project/mlir/_virtual_includes/TensorBaseIncGen/mlir/Dialect/Tensor/IR/TensorOpsDialect.h.inc\n",
            "    /usr/local/lib/python3.7/dist-packages/tensorflow/include/external/llvm-project/mlir/include/mlir/Analysis/BufferAliasAnalysis.h\n",
            "    /usr/local/lib/python3.7/dist-packages/tensorflow/include/external/llvm-project/mlir/include/mlir/Conversion/ArmSVEToLLVM/ArmSVEToLLVM.h\n",
            "    /usr/local/lib/python3.7/dist-packages/tensorflow/include/external/llvm-project/mlir/include/mlir/Dialect/AVX512/AVX512.cpp.inc\n",
            "    /usr/local/lib/python3.7/dist-packages/tensorflow/include/external/llvm-project/mlir/include/mlir/Dialect/AVX512/AVX512.h.inc\n",
            "    /usr/local/lib/python3.7/dist-packages/tensorflow/include/external/llvm-project/mlir/include/mlir/Dialect/AVX512/AVX512Dialect.h\n",
            "    /usr/local/lib/python3.7/dist-packages/tensorflow/include/external/llvm-project/mlir/include/mlir/Dialect/AVX512/AVX512Dialect.h.inc\n",
            "    /usr/local/lib/python3.7/dist-packages/tensorflow/include/external/llvm-project/mlir/include/mlir/Dialect/AVX512/Transforms.h\n",
            "    /usr/local/lib/python3.7/dist-packages/tensorflow/include/external/llvm-project/mlir/include/mlir/Dialect/Affine/EDSC/Builders.h\n",
            "    /usr/local/lib/python3.7/dist-packages/tensorflow/include/external/llvm-project/mlir/include/mlir/Dialect/Affine/EDSC/Intrinsics.h\n",
            "    /usr/local/lib/python3.7/dist-packages/tensorflow/include/external/llvm-project/mlir/include/mlir/Dialect/LLVMIR/LLVMArmSVE.cpp.inc\n",
            "    /usr/local/lib/python3.7/dist-packages/tensorflow/include/external/llvm-project/mlir/include/mlir/Dialect/LLVMIR/LLVMArmSVE.h.inc\n",
            "    /usr/local/lib/python3.7/dist-packages/tensorflow/include/external/llvm-project/mlir/include/mlir/Dialect/LLVMIR/LLVMArmSVEDialect.h\n",
            "    /usr/local/lib/python3.7/dist-packages/tensorflow/include/external/llvm-project/mlir/include/mlir/Dialect/LLVMIR/LLVMArmSVEDialect.h.inc\n",
            "    /usr/local/lib/python3.7/dist-packages/tensorflow/include/external/llvm-project/mlir/include/mlir/Dialect/Linalg/EDSC/Builders.h\n",
            "    /usr/local/lib/python3.7/dist-packages/tensorflow/include/external/llvm-project/mlir/include/mlir/Dialect/Linalg/EDSC/FoldedIntrinsics.h\n",
            "    /usr/local/lib/python3.7/dist-packages/tensorflow/include/external/llvm-project/mlir/include/mlir/Dialect/Linalg/EDSC/Intrinsics.h\n",
            "    /usr/local/lib/python3.7/dist-packages/tensorflow/include/external/llvm-project/mlir/include/mlir/Dialect/Linalg/IR/LinalgSparseOps.cpp.inc\n",
            "    /usr/local/lib/python3.7/dist-packages/tensorflow/include/external/llvm-project/mlir/include/mlir/Dialect/Linalg/IR/LinalgSparseOps.h.inc\n",
            "    /usr/local/lib/python3.7/dist-packages/tensorflow/include/external/llvm-project/mlir/include/mlir/Dialect/Math/EDSC/Intrinsics.h\n",
            "    /usr/local/lib/python3.7/dist-packages/tensorflow/include/external/llvm-project/mlir/include/mlir/Dialect/MemRef/EDSC/Intrinsics.h\n",
            "    /usr/local/lib/python3.7/dist-packages/tensorflow/include/external/llvm-project/mlir/include/mlir/Dialect/SCF/EDSC/Builders.h\n",
            "    /usr/local/lib/python3.7/dist-packages/tensorflow/include/external/llvm-project/mlir/include/mlir/Dialect/SCF/EDSC/Intrinsics.h\n",
            "    /usr/local/lib/python3.7/dist-packages/tensorflow/include/external/llvm-project/mlir/include/mlir/Dialect/SDBM/SDBM.h\n",
            "    /usr/local/lib/python3.7/dist-packages/tensorflow/include/external/llvm-project/mlir/include/mlir/Dialect/SDBM/SDBMDialect.h\n",
            "    /usr/local/lib/python3.7/dist-packages/tensorflow/include/external/llvm-project/mlir/include/mlir/Dialect/SDBM/SDBMExpr.h\n",
            "    /usr/local/lib/python3.7/dist-packages/tensorflow/include/external/llvm-project/mlir/include/mlir/Dialect/SPIRV/IR/SPIRVModule.h\n",
            "    /usr/local/lib/python3.7/dist-packages/tensorflow/include/external/llvm-project/mlir/include/mlir/Dialect/StandardOps/EDSC/Builders.h\n",
            "    /usr/local/lib/python3.7/dist-packages/tensorflow/include/external/llvm-project/mlir/include/mlir/Dialect/StandardOps/EDSC/Intrinsics.h\n",
            "    /usr/local/lib/python3.7/dist-packages/tensorflow/include/external/llvm-project/mlir/include/mlir/Dialect/Vector/EDSC/Builders.h\n",
            "    /usr/local/lib/python3.7/dist-packages/tensorflow/include/external/llvm-project/mlir/include/mlir/Dialect/Vector/EDSC/Intrinsics.h\n",
            "    /usr/local/lib/python3.7/dist-packages/tensorflow/include/external/llvm-project/mlir/include/mlir/EDSC/Builders.h\n",
            "    /usr/local/lib/python3.7/dist-packages/tensorflow/include/external/llvm-project/mlir/include/mlir/Target/LLVMIR/TypeTranslation.h\n",
            "    /usr/local/lib/python3.7/dist-packages/tensorflow/include/external/llvm-project/mlir/include/mlir/Transforms/ViewRegionGraph.h\n",
            "    /usr/local/lib/python3.7/dist-packages/tensorflow/include/external/llvm-project/mlir/lib/Conversion/GPUToSPIRV/GPUToSPIRV.cpp.inc\n",
            "    /usr/local/lib/python3.7/dist-packages/tensorflow/include/external/llvm-project/mlir/lib/Dialect/SDBM/SDBMExprDetail.h\n",
            "    /usr/local/lib/python3.7/dist-packages/tensorflow/include/external/mkl_dnn_v1/src/common/dnnl_thread_parallel_nd.hpp\n",
            "    /usr/local/lib/python3.7/dist-packages/tensorflow/include/external/mkl_dnn_v1/src/cpu/x64/brgemm/brgemm_amx.hpp\n",
            "    /usr/local/lib/python3.7/dist-packages/tensorflow/include/external/mkl_dnn_v1/src/cpu/x64/jit_avx512_core_amx_int8_deconvolution.hpp\n",
            "    /usr/local/lib/python3.7/dist-packages/tensorflow/include/external/mkl_dnn_v1/src/cpu/x64/jit_transpose_src_utils.hpp\n",
            "    /usr/local/lib/python3.7/dist-packages/tensorflow/include/external/mkl_dnn_v1/src/cpu/x64/jit_uni_i8i8_binary.hpp\n",
            "    /usr/local/lib/python3.7/dist-packages/tensorflow/include/external/org_python_pypi_backports_weakref/LICENSE\n",
            "    /usr/local/lib/python3.7/dist-packages/tensorflow/include/tensorflow/compiler/mlir/hlo/include/mlir-hlo/Dialect/mhlo/IR/infer_fusibility_op_interface.h\n",
            "    /usr/local/lib/python3.7/dist-packages/tensorflow/include/tensorflow/compiler/mlir/hlo/include/mlir-hlo/Dialect/mhlo/IR/infer_fusibility_op_interface.h.inc\n",
            "    /usr/local/lib/python3.7/dist-packages/tensorflow/include/tensorflow/compiler/xla/service/gpu/collective_permute_thunk.h\n",
            "    /usr/local/lib/python3.7/dist-packages/tensorflow/include/tensorflow/compiler/xla/service/gpu/cublas_gemm_pad_for_tensor_cores.h\n",
            "    /usr/local/lib/python3.7/dist-packages/tensorflow/include/tensorflow/compiler/xla/service/gpu/hlo_execution_profiler.h\n",
            "    /usr/local/lib/python3.7/dist-packages/tensorflow/include/tensorflow/compiler/xla/service/hlo_element_type_converter.h\n",
            "    /usr/local/lib/python3.7/dist-packages/tensorflow/include/tensorflow/core/common_runtime/entry.h\n",
            "    /usr/local/lib/python3.7/dist-packages/tensorflow/include/tensorflow/core/common_runtime/metrics.h\n",
            "    /usr/local/lib/python3.7/dist-packages/tensorflow/include/tensorflow/core/framework/registration_options.h\n",
            "    /usr/local/lib/python3.7/dist-packages/tensorflow/include/tensorflow/core/framework/selective_registration.h\n",
            "    /usr/local/lib/python3.7/dist-packages/tensorflow/include/tensorflow/core/grappler/optimizers/data/filter_with_random_uniform_fusion.h\n",
            "    /usr/local/lib/python3.7/dist-packages/tensorflow/include/tensorflow/core/grappler/optimizers/data/hoist_random_uniform.h\n",
            "    /usr/local/lib/python3.7/dist-packages/tensorflow/include/tensorflow/core/grappler/optimizers/data/latency_all_edges.h\n",
            "    /usr/local/lib/python3.7/dist-packages/tensorflow/include/tensorflow/core/grappler/optimizers/data/map_vectorization.h\n",
            "    /usr/local/lib/python3.7/dist-packages/tensorflow/include/tensorflow/core/grappler/optimizers/data/reorder_data_discarding_ops.h\n",
            "    /usr/local/lib/python3.7/dist-packages/tensorflow/include/tensorflow/core/grappler/optimizers/data/vectorization/vectorizer.h\n",
            "    /usr/local/lib/python3.7/dist-packages/tensorflow/include/tensorflow/core/grappler/optimizers/data/vectorization/vectorizer_registry.h\n",
            "    /usr/local/lib/python3.7/dist-packages/tensorflow/include/tensorflow/core/grappler/optimizers/data/vectorization/wrapped_tensor.h\n",
            "    /usr/local/lib/python3.7/dist-packages/tensorflow/include/tensorflow/core/grappler/optimizers/data/vectorization_utils.h\n",
            "    /usr/local/lib/python3.7/dist-packages/tensorflow/include/tensorflow/core/kernels/compare_and_bitpack_op.h\n",
            "    /usr/local/lib/python3.7/dist-packages/tensorflow/include/tensorflow/core/kernels/data/captured_function.h\n",
            "    /usr/local/lib/python3.7/dist-packages/tensorflow/include/tensorflow/core/kernels/data/dataset_utils.h\n",
            "    /usr/local/lib/python3.7/dist-packages/tensorflow/include/tensorflow/core/kernels/data/experimental/snapshot_util.h\n",
            "    /usr/local/lib/python3.7/dist-packages/tensorflow/include/tensorflow/core/kernels/data/hash_utils.h\n",
            "    /usr/local/lib/python3.7/dist-packages/tensorflow/include/tensorflow/core/kernels/data/name_utils.h\n",
            "    /usr/local/lib/python3.7/dist-packages/tensorflow/include/tensorflow/core/kernels/data/rewrite_utils.h\n",
            "    /usr/local/lib/python3.7/dist-packages/tensorflow/include/tensorflow/core/kernels/data/serialization_utils.h\n",
            "    /usr/local/lib/python3.7/dist-packages/tensorflow/include/tensorflow/core/kernels/data/single_threaded_executor.h\n",
            "    /usr/local/lib/python3.7/dist-packages/tensorflow/include/tensorflow/core/kernels/data/split_utils.h\n",
            "    /usr/local/lib/python3.7/dist-packages/tensorflow/include/tensorflow/core/kernels/data/stats_utils.h\n",
            "    /usr/local/lib/python3.7/dist-packages/tensorflow/include/tensorflow/core/kernels/data/unbounded_thread_pool.h\n",
            "    /usr/local/lib/python3.7/dist-packages/tensorflow/include/tensorflow/core/lib/monitoring/mobile_counter.h\n",
            "    /usr/local/lib/python3.7/dist-packages/tensorflow/include/tensorflow/core/lib/monitoring/mobile_gauge.h\n",
            "    /usr/local/lib/python3.7/dist-packages/tensorflow/include/tensorflow/core/lib/monitoring/mobile_percentile_sampler.h\n",
            "    /usr/local/lib/python3.7/dist-packages/tensorflow/include/tensorflow/core/lib/monitoring/mobile_sampler.h\n",
            "    /usr/local/lib/python3.7/dist-packages/tensorflow/include/tensorflow/core/platform/hadoop/hadoop_file_system.h\n",
            "    /usr/local/lib/python3.7/dist-packages/tensorflow/include/tensorflow/core/platform/s3/aws_crypto.h\n",
            "    /usr/local/lib/python3.7/dist-packages/tensorflow/include/tensorflow/core/platform/s3/aws_logging.h\n",
            "    /usr/local/lib/python3.7/dist-packages/tensorflow/include/tensorflow/core/platform/s3/s3_file_system.h\n",
            "    /usr/local/lib/python3.7/dist-packages/tensorflow/include/tensorflow/core/protobuf/extension_type_variant.pb.h\n",
            "    /usr/local/lib/python3.7/dist-packages/tensorflow/include/tensorflow/core/protobuf/extension_type_variant.proto\n",
            "    /usr/local/lib/python3.7/dist-packages/tensorflow/include/tensorflow/core/protobuf/tpu/tpu_embedding_output_layout.pb.h\n",
            "    /usr/local/lib/python3.7/dist-packages/tensorflow/include/tensorflow/core/util/cuda_solvers.h\n",
            "    /usr/local/lib/python3.7/dist-packages/tensorflow/include/tensorflow/stream_executor/lib/statusor_internals.h\n",
            "    /usr/local/lib/python3.7/dist-packages/tensorflow/include/unsupported/Eigen/CXX11/CMakeLists.txt\n",
            "    /usr/local/lib/python3.7/dist-packages/tensorflow/include/unsupported/Eigen/CXX11/src/Tensor/README.md\n",
            "    /usr/local/lib/python3.7/dist-packages/tensorflow/lite/experimental/examples/__init__.py\n",
            "    /usr/local/lib/python3.7/dist-packages/tensorflow/lite/experimental/examples/lstm/__init__.py\n",
            "    /usr/local/lib/python3.7/dist-packages/tensorflow/lite/experimental/examples/lstm/rnn.py\n",
            "    /usr/local/lib/python3.7/dist-packages/tensorflow/lite/experimental/examples/lstm/rnn_cell.py\n",
            "    /usr/local/lib/python3.7/dist-packages/tensorflow/lite/experimental/tensorboard/__init__.py\n",
            "    /usr/local/lib/python3.7/dist-packages/tensorflow/lite/experimental/tensorboard/ops_util.py\n",
            "    /usr/local/lib/python3.7/dist-packages/tensorflow/python/_dtypes.so\n",
            "    /usr/local/lib/python3.7/dist-packages/tensorflow/python/_errors_test_helper.so\n",
            "    /usr/local/lib/python3.7/dist-packages/tensorflow/python/_op_def_registry.so\n",
            "    /usr/local/lib/python3.7/dist-packages/tensorflow/python/_op_def_util.so\n",
            "    /usr/local/lib/python3.7/dist-packages/tensorflow/python/_proto_comparators.so\n",
            "    /usr/local/lib/python3.7/dist-packages/tensorflow/python/_python_memory_checker_helper.so\n",
            "    /usr/local/lib/python3.7/dist-packages/tensorflow/python/_pywrap_debug_events_writer.so\n",
            "    /usr/local/lib/python3.7/dist-packages/tensorflow/python/_pywrap_device_lib.so\n",
            "    /usr/local/lib/python3.7/dist-packages/tensorflow/python/_pywrap_events_writer.so\n",
            "    /usr/local/lib/python3.7/dist-packages/tensorflow/python/_pywrap_python_api_dispatcher.so\n",
            "    /usr/local/lib/python3.7/dist-packages/tensorflow/python/_pywrap_python_api_info.so\n",
            "    /usr/local/lib/python3.7/dist-packages/tensorflow/python/_pywrap_python_api_parameter_converter.so\n",
            "    /usr/local/lib/python3.7/dist-packages/tensorflow/python/_pywrap_python_op_gen.so\n",
            "    /usr/local/lib/python3.7/dist-packages/tensorflow/python/_pywrap_tf_cluster.so\n",
            "    /usr/local/lib/python3.7/dist-packages/tensorflow/python/_pywrap_tf_item.so\n",
            "    /usr/local/lib/python3.7/dist-packages/tensorflow/python/_pywrap_tf_optimizer.so\n",
            "    /usr/local/lib/python3.7/dist-packages/tensorflow/python/_pywrap_tf_session.so\n",
            "    /usr/local/lib/python3.7/dist-packages/tensorflow/python/data/experimental/kernel_tests/data_service_test_base.py\n",
            "    /usr/local/lib/python3.7/dist-packages/tensorflow/python/data/experimental/ops/distribute_options.py\n",
            "    /usr/local/lib/python3.7/dist-packages/tensorflow/python/data/experimental/ops/optimization.py\n",
            "    /usr/local/lib/python3.7/dist-packages/tensorflow/python/data/experimental/ops/optimization_options.py\n",
            "    /usr/local/lib/python3.7/dist-packages/tensorflow/python/data/experimental/ops/stats_aggregator.py\n",
            "    /usr/local/lib/python3.7/dist-packages/tensorflow/python/data/experimental/ops/stats_ops.py\n",
            "    /usr/local/lib/python3.7/dist-packages/tensorflow/python/data/experimental/ops/stats_options.py\n",
            "    /usr/local/lib/python3.7/dist-packages/tensorflow/python/data/experimental/ops/threading_options.py\n",
            "    /usr/local/lib/python3.7/dist-packages/tensorflow/python/data/experimental/ops/threadpool.py\n",
            "    /usr/local/lib/python3.7/dist-packages/tensorflow/python/debug/examples/__init__.py\n",
            "    /usr/local/lib/python3.7/dist-packages/tensorflow/python/debug/examples/debug_mnist.py\n",
            "    /usr/local/lib/python3.7/dist-packages/tensorflow/python/debug/examples/v1/__init__.py\n",
            "    /usr/local/lib/python3.7/dist-packages/tensorflow/python/debug/examples/v1/debug_errors.py\n",
            "    /usr/local/lib/python3.7/dist-packages/tensorflow/python/debug/examples/v1/debug_fibonacci.py\n",
            "    /usr/local/lib/python3.7/dist-packages/tensorflow/python/debug/examples/v1/debug_keras.py\n",
            "    /usr/local/lib/python3.7/dist-packages/tensorflow/python/debug/examples/v1/debug_mnist_v1.py\n",
            "    /usr/local/lib/python3.7/dist-packages/tensorflow/python/debug/examples/v2/__init__.py\n",
            "    /usr/local/lib/python3.7/dist-packages/tensorflow/python/debug/examples/v2/debug_fibonacci_v2.py\n",
            "    /usr/local/lib/python3.7/dist-packages/tensorflow/python/debug/examples/v2/debug_mnist_v2.py\n",
            "    /usr/local/lib/python3.7/dist-packages/tensorflow/python/keras/distribute/distribute_strategy_test.py\n",
            "    /usr/local/lib/python3.7/dist-packages/tensorflow/python/keras/distribute/keras_correctness_test_base.py\n",
            "    /usr/local/lib/python3.7/dist-packages/tensorflow/python/keras/distribute/keras_dnn_correctness_test.py\n",
            "    /usr/local/lib/python3.7/dist-packages/tensorflow/python/keras/distribute/keras_embedding_model_correctness_test.py\n",
            "    /usr/local/lib/python3.7/dist-packages/tensorflow/python/keras/distribute/keras_image_model_correctness_test.py\n",
            "    /usr/local/lib/python3.7/dist-packages/tensorflow/python/keras/distribute/keras_rnn_model_correctness_test.py\n",
            "    /usr/local/lib/python3.7/dist-packages/tensorflow/python/keras/distribute/keras_stateful_lstm_model_correctness_test.py\n",
            "    /usr/local/lib/python3.7/dist-packages/tensorflow/python/keras/distribute/keras_utils_test.py\n",
            "    /usr/local/lib/python3.7/dist-packages/tensorflow/python/keras/distribute/model_collection_base.py\n",
            "    /usr/local/lib/python3.7/dist-packages/tensorflow/python/keras/distribute/model_combinations.py\n",
            "    /usr/local/lib/python3.7/dist-packages/tensorflow/python/keras/distribute/optimizer_combinations.py\n",
            "    /usr/local/lib/python3.7/dist-packages/tensorflow/python/keras/distribute/saved_model_test_base.py\n",
            "    /usr/local/lib/python3.7/dist-packages/tensorflow/python/keras/distribute/simple_models.py\n",
            "    /usr/local/lib/python3.7/dist-packages/tensorflow/python/keras/distribute/test_example.py\n",
            "    /usr/local/lib/python3.7/dist-packages/tensorflow/python/keras/layers/normalization.py\n",
            "    /usr/local/lib/python3.7/dist-packages/tensorflow/python/keras/layers/normalization_v2.py\n",
            "    /usr/local/lib/python3.7/dist-packages/tensorflow/python/keras/tests/__init__.py\n",
            "    /usr/local/lib/python3.7/dist-packages/tensorflow/python/keras/tests/model_architectures.py\n",
            "    /usr/local/lib/python3.7/dist-packages/tensorflow/python/keras/tests/model_subclassing_test_util.py\n",
            "    /usr/local/lib/python3.7/dist-packages/tensorflow/python/ops/gen_user_ops.py\n",
            "    /usr/local/lib/python3.7/dist-packages/tensorflow/python/platform/status_bar.py\n",
            "Proceed (y/n)? y\n",
            "  Successfully uninstalled tensorflow-2.1.2\n",
            "Collecting tensorflow==2.1.2\n",
            "  Using cached tensorflow-2.1.2-cp37-cp37m-manylinux2010_x86_64.whl (421.8 MB)\n",
            "Requirement already satisfied: wheel>=0.26 in /usr/local/lib/python3.7/dist-packages (from tensorflow==2.1.2) (0.37.1)\n",
            "Requirement already satisfied: termcolor>=1.1.0 in /usr/local/lib/python3.7/dist-packages (from tensorflow==2.1.2) (1.1.0)\n",
            "Requirement already satisfied: astor>=0.6.0 in /usr/local/lib/python3.7/dist-packages (from tensorflow==2.1.2) (0.8.1)\n",
            "Requirement already satisfied: google-pasta>=0.1.6 in /usr/local/lib/python3.7/dist-packages (from tensorflow==2.1.2) (0.2.0)\n",
            "Collecting gast==0.2.2\n",
            "  Using cached gast-0.2.2-py3-none-any.whl\n",
            "Requirement already satisfied: keras-applications>=1.0.8 in /usr/local/lib/python3.7/dist-packages (from tensorflow==2.1.2) (1.0.8)\n",
            "Requirement already satisfied: grpcio>=1.8.6 in /usr/local/lib/python3.7/dist-packages (from tensorflow==2.1.2) (1.34.1)\n",
            "Collecting numpy<1.19.0,>=1.16.0\n",
            "  Using cached numpy-1.18.5-cp37-cp37m-manylinux1_x86_64.whl (20.1 MB)\n",
            "Collecting tensorflow-estimator<2.2.0,>=2.1.0rc0\n",
            "  Using cached tensorflow_estimator-2.1.0-py2.py3-none-any.whl (448 kB)\n",
            "Requirement already satisfied: wrapt>=1.11.1 in /usr/local/lib/python3.7/dist-packages (from tensorflow==2.1.2) (1.12.1)\n",
            "Requirement already satisfied: absl-py>=0.7.0 in /usr/local/lib/python3.7/dist-packages (from tensorflow==2.1.2) (0.15.0)\n",
            "Requirement already satisfied: protobuf>=3.8.0 in /usr/local/lib/python3.7/dist-packages (from tensorflow==2.1.2) (3.17.3)\n",
            "Collecting tensorboard<2.2.0,>=2.1.0\n",
            "  Using cached tensorboard-2.1.1-py3-none-any.whl (3.8 MB)\n",
            "Collecting keras-preprocessing==1.1.0\n",
            "  Using cached Keras_Preprocessing-1.1.0-py2.py3-none-any.whl (41 kB)\n",
            "Requirement already satisfied: six>=1.12.0 in /usr/local/lib/python3.7/dist-packages (from tensorflow==2.1.2) (1.15.0)\n",
            "Requirement already satisfied: opt-einsum>=2.3.2 in /usr/local/lib/python3.7/dist-packages (from tensorflow==2.1.2) (3.3.0)\n",
            "Requirement already satisfied: h5py in /usr/local/lib/python3.7/dist-packages (from keras-applications>=1.0.8->tensorflow==2.1.2) (3.1.0)\n",
            "Requirement already satisfied: google-auth<2,>=1.6.3 in /usr/local/lib/python3.7/dist-packages (from tensorboard<2.2.0,>=2.1.0->tensorflow==2.1.2) (1.35.0)\n",
            "Requirement already satisfied: werkzeug>=0.11.15 in /usr/local/lib/python3.7/dist-packages (from tensorboard<2.2.0,>=2.1.0->tensorflow==2.1.2) (1.0.1)\n",
            "Requirement already satisfied: google-auth-oauthlib<0.5,>=0.4.1 in /usr/local/lib/python3.7/dist-packages (from tensorboard<2.2.0,>=2.1.0->tensorflow==2.1.2) (0.4.6)\n",
            "Requirement already satisfied: requests<3,>=2.21.0 in /usr/local/lib/python3.7/dist-packages (from tensorboard<2.2.0,>=2.1.0->tensorflow==2.1.2) (2.23.0)\n",
            "Requirement already satisfied: setuptools>=41.0.0 in /usr/local/lib/python3.7/dist-packages (from tensorboard<2.2.0,>=2.1.0->tensorflow==2.1.2) (57.4.0)\n",
            "Requirement already satisfied: markdown>=2.6.8 in /usr/local/lib/python3.7/dist-packages (from tensorboard<2.2.0,>=2.1.0->tensorflow==2.1.2) (3.3.6)\n",
            "Requirement already satisfied: pyasn1-modules>=0.2.1 in /usr/local/lib/python3.7/dist-packages (from google-auth<2,>=1.6.3->tensorboard<2.2.0,>=2.1.0->tensorflow==2.1.2) (0.2.8)\n",
            "Requirement already satisfied: cachetools<5.0,>=2.0.0 in /usr/local/lib/python3.7/dist-packages (from google-auth<2,>=1.6.3->tensorboard<2.2.0,>=2.1.0->tensorflow==2.1.2) (4.2.4)\n",
            "Requirement already satisfied: rsa<5,>=3.1.4 in /usr/local/lib/python3.7/dist-packages (from google-auth<2,>=1.6.3->tensorboard<2.2.0,>=2.1.0->tensorflow==2.1.2) (4.8)\n",
            "Requirement already satisfied: requests-oauthlib>=0.7.0 in /usr/local/lib/python3.7/dist-packages (from google-auth-oauthlib<0.5,>=0.4.1->tensorboard<2.2.0,>=2.1.0->tensorflow==2.1.2) (1.3.1)\n",
            "Requirement already satisfied: importlib-metadata>=4.4 in /usr/local/lib/python3.7/dist-packages (from markdown>=2.6.8->tensorboard<2.2.0,>=2.1.0->tensorflow==2.1.2) (4.10.1)\n",
            "Requirement already satisfied: zipp>=0.5 in /usr/local/lib/python3.7/dist-packages (from importlib-metadata>=4.4->markdown>=2.6.8->tensorboard<2.2.0,>=2.1.0->tensorflow==2.1.2) (3.7.0)\n",
            "Requirement already satisfied: typing-extensions>=3.6.4 in /usr/local/lib/python3.7/dist-packages (from importlib-metadata>=4.4->markdown>=2.6.8->tensorboard<2.2.0,>=2.1.0->tensorflow==2.1.2) (3.7.4.3)\n",
            "Requirement already satisfied: pyasn1<0.5.0,>=0.4.6 in /usr/local/lib/python3.7/dist-packages (from pyasn1-modules>=0.2.1->google-auth<2,>=1.6.3->tensorboard<2.2.0,>=2.1.0->tensorflow==2.1.2) (0.4.8)\n",
            "Requirement already satisfied: certifi>=2017.4.17 in /usr/local/lib/python3.7/dist-packages (from requests<3,>=2.21.0->tensorboard<2.2.0,>=2.1.0->tensorflow==2.1.2) (2021.10.8)\n",
            "Requirement already satisfied: chardet<4,>=3.0.2 in /usr/local/lib/python3.7/dist-packages (from requests<3,>=2.21.0->tensorboard<2.2.0,>=2.1.0->tensorflow==2.1.2) (3.0.4)\n",
            "Requirement already satisfied: urllib3!=1.25.0,!=1.25.1,<1.26,>=1.21.1 in /usr/local/lib/python3.7/dist-packages (from requests<3,>=2.21.0->tensorboard<2.2.0,>=2.1.0->tensorflow==2.1.2) (1.24.3)\n",
            "Requirement already satisfied: idna<3,>=2.5 in /usr/local/lib/python3.7/dist-packages (from requests<3,>=2.21.0->tensorboard<2.2.0,>=2.1.0->tensorflow==2.1.2) (2.10)\n",
            "Requirement already satisfied: oauthlib>=3.0.0 in /usr/local/lib/python3.7/dist-packages (from requests-oauthlib>=0.7.0->google-auth-oauthlib<0.5,>=0.4.1->tensorboard<2.2.0,>=2.1.0->tensorflow==2.1.2) (3.2.0)\n",
            "Requirement already satisfied: cached-property in /usr/local/lib/python3.7/dist-packages (from h5py->keras-applications>=1.0.8->tensorflow==2.1.2) (1.5.2)\n",
            "Installing collected packages: numpy, tensorflow-estimator, tensorboard, keras-preprocessing, gast, tensorflow\n",
            "  Attempting uninstall: numpy\n",
            "    Found existing installation: numpy 1.19.5\n",
            "    Uninstalling numpy-1.19.5:\n",
            "      Successfully uninstalled numpy-1.19.5\n",
            "  Attempting uninstall: tensorflow-estimator\n",
            "    Found existing installation: tensorflow-estimator 2.5.0\n",
            "    Uninstalling tensorflow-estimator-2.5.0:\n",
            "      Successfully uninstalled tensorflow-estimator-2.5.0\n",
            "  Attempting uninstall: tensorboard\n",
            "    Found existing installation: tensorboard 2.8.0\n",
            "    Uninstalling tensorboard-2.8.0:\n",
            "      Successfully uninstalled tensorboard-2.8.0\n",
            "  Attempting uninstall: keras-preprocessing\n",
            "    Found existing installation: Keras-Preprocessing 1.1.2\n",
            "    Uninstalling Keras-Preprocessing-1.1.2:\n",
            "      Successfully uninstalled Keras-Preprocessing-1.1.2\n",
            "  Attempting uninstall: gast\n",
            "    Found existing installation: gast 0.4.0\n",
            "    Uninstalling gast-0.4.0:\n",
            "      Successfully uninstalled gast-0.4.0\n",
            "\u001b[31mERROR: pip's dependency resolver does not currently take into account all the packages that are installed. This behaviour is the source of the following dependency conflicts.\n",
            "tensorflow-probability 0.15.0 requires gast>=0.3.2, but you have gast 0.2.2 which is incompatible.\n",
            "tensorflow-gpu 2.5.1 requires gast==0.4.0, but you have gast 0.2.2 which is incompatible.\n",
            "tensorflow-gpu 2.5.1 requires keras-preprocessing~=1.1.2, but you have keras-preprocessing 1.1.0 which is incompatible.\n",
            "tensorflow-gpu 2.5.1 requires numpy~=1.19.2, but you have numpy 1.18.5 which is incompatible.\n",
            "tensorflow-gpu 2.5.1 requires tensorboard~=2.5, but you have tensorboard 2.1.1 which is incompatible.\n",
            "tensorflow-gpu 2.5.1 requires tensorflow-estimator<2.6.0,>=2.5.0, but you have tensorflow-estimator 2.1.0 which is incompatible.\n",
            "tables 3.7.0 requires numpy>=1.19.0, but you have numpy 1.18.5 which is incompatible.\n",
            "datascience 0.10.6 requires folium==0.2.1, but you have folium 0.8.3 which is incompatible.\n",
            "albumentations 0.1.12 requires imgaug<0.2.7,>=0.2.5, but you have imgaug 0.2.9 which is incompatible.\u001b[0m\n",
            "Successfully installed gast-0.2.2 keras-preprocessing-1.1.0 numpy-1.18.5 tensorboard-2.1.1 tensorflow-2.1.2 tensorflow-estimator-2.1.0\n"
          ]
        },
        {
          "output_type": "display_data",
          "data": {
            "application/vnd.colab-display-data+json": {
              "pip_warning": {
                "packages": [
                  "numpy"
                ]
              }
            }
          },
          "metadata": {}
        }
      ]
    },
    {
      "cell_type": "code",
      "metadata": {
        "id": "41me-hpBx-fD",
        "outputId": "a10364fd-8c11-4b1a-c17a-ea1186bb115c",
        "colab": {
          "base_uri": "https://localhost:8080/",
          "height": 35
        }
      },
      "source": [
        "import tensorflow as tf\n",
        "tf.__version__"
      ],
      "execution_count": 7,
      "outputs": [
        {
          "output_type": "execute_result",
          "data": {
            "application/vnd.google.colaboratory.intrinsic+json": {
              "type": "string"
            },
            "text/plain": [
              "'2.1.2'"
            ]
          },
          "metadata": {},
          "execution_count": 7
        }
      ]
    },
    {
      "cell_type": "markdown",
      "metadata": {
        "id": "1Z-L1V51ziJE"
      },
      "source": [
        "## Convert Pretrained Darknet Weight\n",
        "\n",
        "- https://pjreddie.com/media/files/yolov3.weights\n",
        "- `yolov3.weights`를 `/yolov3-tf2/data/`로 넣기"
      ]
    },
    {
      "cell_type": "code",
      "metadata": {
        "id": "hq6yz4Mpx--B",
        "outputId": "2f654d46-701b-46d6-e0c1-5c12d3fd0eec",
        "colab": {
          "base_uri": "https://localhost:8080/"
        }
      },
      "source": [
        "!wget https://pjreddie.com/media/files/yolov3.weights -0 data/yolov3.weights\n",
        "!python convert.py"
      ],
      "execution_count": 8,
      "outputs": [
        {
          "output_type": "stream",
          "name": "stdout",
          "text": [
            "wget: invalid option -- '0'\n",
            "Usage: wget [OPTION]... [URL]...\n",
            "\n",
            "Try `wget --help' for more options.\n",
            "2022-02-11 06:02:15.334978: W tensorflow/stream_executor/platform/default/dso_loader.cc:55] Could not load dynamic library 'libnvinfer.so.6'; dlerror: libnvinfer.so.6: cannot open shared object file: No such file or directory; LD_LIBRARY_PATH: /usr/lib64-nvidia\n",
            "2022-02-11 06:02:15.335089: W tensorflow/stream_executor/platform/default/dso_loader.cc:55] Could not load dynamic library 'libnvinfer_plugin.so.6'; dlerror: libnvinfer_plugin.so.6: cannot open shared object file: No such file or directory; LD_LIBRARY_PATH: /usr/lib64-nvidia\n",
            "2022-02-11 06:02:15.335108: W tensorflow/compiler/tf2tensorrt/utils/py_utils.cc:30] Cannot dlopen some TensorRT libraries. If you would like to use Nvidia GPU with TensorRT, please make sure the missing libraries mentioned above are installed properly.\n",
            "2022-02-11 06:02:16.217829: I tensorflow/stream_executor/platform/default/dso_loader.cc:44] Successfully opened dynamic library libcuda.so.1\n",
            "2022-02-11 06:02:16.245775: I tensorflow/stream_executor/cuda/cuda_gpu_executor.cc:981] successful NUMA node read from SysFS had negative value (-1), but there must be at least one NUMA node, so returning NUMA node zero\n",
            "2022-02-11 06:02:16.246409: I tensorflow/core/common_runtime/gpu/gpu_device.cc:1555] Found device 0 with properties: \n",
            "pciBusID: 0000:00:04.0 name: Tesla T4 computeCapability: 7.5\n",
            "coreClock: 1.59GHz coreCount: 40 deviceMemorySize: 14.75GiB deviceMemoryBandwidth: 298.08GiB/s\n",
            "2022-02-11 06:02:16.246737: I tensorflow/stream_executor/platform/default/dso_loader.cc:44] Successfully opened dynamic library libcudart.so.10.1\n",
            "2022-02-11 06:02:16.254982: I tensorflow/stream_executor/platform/default/dso_loader.cc:44] Successfully opened dynamic library libcublas.so.10\n",
            "2022-02-11 06:02:16.256063: I tensorflow/stream_executor/platform/default/dso_loader.cc:44] Successfully opened dynamic library libcufft.so.10\n",
            "2022-02-11 06:02:16.256364: I tensorflow/stream_executor/platform/default/dso_loader.cc:44] Successfully opened dynamic library libcurand.so.10\n",
            "2022-02-11 06:02:16.261021: I tensorflow/stream_executor/platform/default/dso_loader.cc:44] Successfully opened dynamic library libcusolver.so.10\n",
            "2022-02-11 06:02:16.269357: I tensorflow/stream_executor/platform/default/dso_loader.cc:44] Successfully opened dynamic library libcusparse.so.10\n",
            "2022-02-11 06:02:16.273357: I tensorflow/stream_executor/platform/default/dso_loader.cc:44] Successfully opened dynamic library libcudnn.so.7\n",
            "2022-02-11 06:02:16.273485: I tensorflow/stream_executor/cuda/cuda_gpu_executor.cc:981] successful NUMA node read from SysFS had negative value (-1), but there must be at least one NUMA node, so returning NUMA node zero\n",
            "2022-02-11 06:02:16.274124: I tensorflow/stream_executor/cuda/cuda_gpu_executor.cc:981] successful NUMA node read from SysFS had negative value (-1), but there must be at least one NUMA node, so returning NUMA node zero\n",
            "2022-02-11 06:02:16.274679: I tensorflow/core/common_runtime/gpu/gpu_device.cc:1697] Adding visible gpu devices: 0\n",
            "2022-02-11 06:02:16.281927: I tensorflow/core/platform/cpu_feature_guard.cc:142] Your CPU supports instructions that this TensorFlow binary was not compiled to use: AVX2 FMA\n",
            "2022-02-11 06:02:16.286624: I tensorflow/core/platform/profile_utils/cpu_utils.cc:94] CPU Frequency: 2199995000 Hz\n",
            "2022-02-11 06:02:16.286861: I tensorflow/compiler/xla/service/service.cc:168] XLA service 0x563988823100 initialized for platform Host (this does not guarantee that XLA will be used). Devices:\n",
            "2022-02-11 06:02:16.286890: I tensorflow/compiler/xla/service/service.cc:176]   StreamExecutor device (0): Host, Default Version\n",
            "2022-02-11 06:02:16.486572: I tensorflow/stream_executor/cuda/cuda_gpu_executor.cc:981] successful NUMA node read from SysFS had negative value (-1), but there must be at least one NUMA node, so returning NUMA node zero\n",
            "2022-02-11 06:02:16.487318: I tensorflow/compiler/xla/service/service.cc:168] XLA service 0x5639888232c0 initialized for platform CUDA (this does not guarantee that XLA will be used). Devices:\n",
            "2022-02-11 06:02:16.487351: I tensorflow/compiler/xla/service/service.cc:176]   StreamExecutor device (0): Tesla T4, Compute Capability 7.5\n",
            "2022-02-11 06:02:16.487501: I tensorflow/stream_executor/cuda/cuda_gpu_executor.cc:981] successful NUMA node read from SysFS had negative value (-1), but there must be at least one NUMA node, so returning NUMA node zero\n",
            "2022-02-11 06:02:16.488065: I tensorflow/core/common_runtime/gpu/gpu_device.cc:1555] Found device 0 with properties: \n",
            "pciBusID: 0000:00:04.0 name: Tesla T4 computeCapability: 7.5\n",
            "coreClock: 1.59GHz coreCount: 40 deviceMemorySize: 14.75GiB deviceMemoryBandwidth: 298.08GiB/s\n",
            "2022-02-11 06:02:16.488125: I tensorflow/stream_executor/platform/default/dso_loader.cc:44] Successfully opened dynamic library libcudart.so.10.1\n",
            "2022-02-11 06:02:16.488151: I tensorflow/stream_executor/platform/default/dso_loader.cc:44] Successfully opened dynamic library libcublas.so.10\n",
            "2022-02-11 06:02:16.488164: I tensorflow/stream_executor/platform/default/dso_loader.cc:44] Successfully opened dynamic library libcufft.so.10\n",
            "2022-02-11 06:02:16.488178: I tensorflow/stream_executor/platform/default/dso_loader.cc:44] Successfully opened dynamic library libcurand.so.10\n",
            "2022-02-11 06:02:16.488195: I tensorflow/stream_executor/platform/default/dso_loader.cc:44] Successfully opened dynamic library libcusolver.so.10\n",
            "2022-02-11 06:02:16.488209: I tensorflow/stream_executor/platform/default/dso_loader.cc:44] Successfully opened dynamic library libcusparse.so.10\n",
            "2022-02-11 06:02:16.488223: I tensorflow/stream_executor/platform/default/dso_loader.cc:44] Successfully opened dynamic library libcudnn.so.7\n",
            "2022-02-11 06:02:16.488275: I tensorflow/stream_executor/cuda/cuda_gpu_executor.cc:981] successful NUMA node read from SysFS had negative value (-1), but there must be at least one NUMA node, so returning NUMA node zero\n",
            "2022-02-11 06:02:16.488846: I tensorflow/stream_executor/cuda/cuda_gpu_executor.cc:981] successful NUMA node read from SysFS had negative value (-1), but there must be at least one NUMA node, so returning NUMA node zero\n",
            "2022-02-11 06:02:16.489337: I tensorflow/core/common_runtime/gpu/gpu_device.cc:1697] Adding visible gpu devices: 0\n",
            "2022-02-11 06:02:16.489390: I tensorflow/stream_executor/platform/default/dso_loader.cc:44] Successfully opened dynamic library libcudart.so.10.1\n",
            "2022-02-11 06:02:16.490603: I tensorflow/core/common_runtime/gpu/gpu_device.cc:1096] Device interconnect StreamExecutor with strength 1 edge matrix:\n",
            "2022-02-11 06:02:16.490630: I tensorflow/core/common_runtime/gpu/gpu_device.cc:1102]      0 \n",
            "2022-02-11 06:02:16.490637: I tensorflow/core/common_runtime/gpu/gpu_device.cc:1115] 0:   N \n",
            "2022-02-11 06:02:16.490737: I tensorflow/stream_executor/cuda/cuda_gpu_executor.cc:981] successful NUMA node read from SysFS had negative value (-1), but there must be at least one NUMA node, so returning NUMA node zero\n",
            "2022-02-11 06:02:16.491297: I tensorflow/stream_executor/cuda/cuda_gpu_executor.cc:981] successful NUMA node read from SysFS had negative value (-1), but there must be at least one NUMA node, so returning NUMA node zero\n",
            "2022-02-11 06:02:16.491862: I tensorflow/core/common_runtime/gpu/gpu_device.cc:1241] Created TensorFlow device (/job:localhost/replica:0/task:0/device:GPU:0 with 14257 MB memory) -> physical GPU (device: 0, name: Tesla T4, pci bus id: 0000:00:04.0, compute capability: 7.5)\n",
            "Model: \"yolov3\"\n",
            "__________________________________________________________________________________________________\n",
            "Layer (type)                    Output Shape         Param #     Connected to                     \n",
            "==================================================================================================\n",
            "input (InputLayer)              [(None, None, None,  0                                            \n",
            "__________________________________________________________________________________________________\n",
            "yolo_darknet (Model)            ((None, None, None,  40620640    input[0][0]                      \n",
            "__________________________________________________________________________________________________\n",
            "yolo_conv_0 (Model)             (None, None, None, 5 11024384    yolo_darknet[1][2]               \n",
            "__________________________________________________________________________________________________\n",
            "yolo_conv_1 (Model)             (None, None, None, 2 2957312     yolo_conv_0[1][0]                \n",
            "                                                                 yolo_darknet[1][1]               \n",
            "__________________________________________________________________________________________________\n",
            "yolo_conv_2 (Model)             (None, None, None, 1 741376      yolo_conv_1[1][0]                \n",
            "                                                                 yolo_darknet[1][0]               \n",
            "__________________________________________________________________________________________________\n",
            "yolo_output_0 (Model)           (None, None, None, 3 4984063     yolo_conv_0[1][0]                \n",
            "__________________________________________________________________________________________________\n",
            "yolo_output_1 (Model)           (None, None, None, 3 1312511     yolo_conv_1[1][0]                \n",
            "__________________________________________________________________________________________________\n",
            "yolo_output_2 (Model)           (None, None, None, 3 361471      yolo_conv_2[1][0]                \n",
            "__________________________________________________________________________________________________\n",
            "yolo_boxes_0 (Lambda)           ((None, None, None,  0           yolo_output_0[1][0]              \n",
            "__________________________________________________________________________________________________\n",
            "yolo_boxes_1 (Lambda)           ((None, None, None,  0           yolo_output_1[1][0]              \n",
            "__________________________________________________________________________________________________\n",
            "yolo_boxes_2 (Lambda)           ((None, None, None,  0           yolo_output_2[1][0]              \n",
            "__________________________________________________________________________________________________\n",
            "yolo_nms (Lambda)               ((1, None, 4), (1, N 0           yolo_boxes_0[0][0]               \n",
            "                                                                 yolo_boxes_0[0][1]               \n",
            "                                                                 yolo_boxes_0[0][2]               \n",
            "                                                                 yolo_boxes_1[0][0]               \n",
            "                                                                 yolo_boxes_1[0][1]               \n",
            "                                                                 yolo_boxes_1[0][2]               \n",
            "                                                                 yolo_boxes_2[0][0]               \n",
            "                                                                 yolo_boxes_2[0][1]               \n",
            "                                                                 yolo_boxes_2[0][2]               \n",
            "==================================================================================================\n",
            "Total params: 62,001,757\n",
            "Trainable params: 61,949,149\n",
            "Non-trainable params: 52,608\n",
            "__________________________________________________________________________________________________\n",
            "I0211 06:02:21.919379 140453765142400 convert.py:24] model created\n",
            "Traceback (most recent call last):\n",
            "  File \"convert.py\", line 39, in <module>\n",
            "    app.run(main)\n",
            "  File \"/usr/local/lib/python3.7/dist-packages/absl/app.py\", line 312, in run\n",
            "    _run_main(main, args)\n",
            "  File \"/usr/local/lib/python3.7/dist-packages/absl/app.py\", line 258, in _run_main\n",
            "    sys.exit(main(argv))\n",
            "  File \"convert.py\", line 26, in main\n",
            "    load_darknet_weights(yolo, FLAGS.weights, FLAGS.tiny)\n",
            "  File \"/content/yolov3-tf2/yolov3_tf2/utils.py\", line 26, in load_darknet_weights\n",
            "    wf = open(weights_file, 'rb')\n",
            "FileNotFoundError: [Errno 2] No such file or directory: './data/yolov3.weights'\n"
          ]
        }
      ]
    },
    {
      "cell_type": "markdown",
      "metadata": {
        "id": "Mcz5iiyrzY9j"
      },
      "source": [
        "## Initial Detector"
      ]
    },
    {
      "cell_type": "code",
      "metadata": {
        "id": "8Rt1bEf4x-7e",
        "outputId": "c6d4dbaf-b9cf-4a23-abd9-661c23e97973",
        "colab": {
          "base_uri": "https://localhost:8080/",
          "height": 394
        }
      },
      "source": [
        "import sys \n",
        "from absl import app, logging, flags\n",
        "from absl.flags import FLAGS\n",
        "import time\n",
        "import cv2\n",
        "import numpy as np\n",
        "import tensorflow as tf\n",
        "from yolov3_tf2.models import YoloV3, YoloV3Tiny\n",
        "from yolov3_tf2.dataset import transfrom_images, load_tfrecord_dataset\n",
        "from yolov3_tf2.utils import draw_outputs"
      ],
      "execution_count": 9,
      "outputs": [
        {
          "output_type": "error",
          "ename": "ImportError",
          "evalue": "ignored",
          "traceback": [
            "\u001b[0;31m---------------------------------------------------------------------------\u001b[0m",
            "\u001b[0;31mImportError\u001b[0m                               Traceback (most recent call last)",
            "\u001b[0;32m<ipython-input-9-e07442c577cc>\u001b[0m in \u001b[0;36m<module>\u001b[0;34m()\u001b[0m\n\u001b[1;32m      7\u001b[0m \u001b[0;32mimport\u001b[0m \u001b[0mtensorflow\u001b[0m \u001b[0;32mas\u001b[0m \u001b[0mtf\u001b[0m\u001b[0;34m\u001b[0m\u001b[0;34m\u001b[0m\u001b[0m\n\u001b[1;32m      8\u001b[0m \u001b[0;32mfrom\u001b[0m \u001b[0myolov3_tf2\u001b[0m\u001b[0;34m.\u001b[0m\u001b[0mmodels\u001b[0m \u001b[0;32mimport\u001b[0m \u001b[0mYoloV3\u001b[0m\u001b[0;34m,\u001b[0m \u001b[0mYoloV3Tiny\u001b[0m\u001b[0;34m\u001b[0m\u001b[0;34m\u001b[0m\u001b[0m\n\u001b[0;32m----> 9\u001b[0;31m \u001b[0;32mfrom\u001b[0m \u001b[0myolov3_tf2\u001b[0m\u001b[0;34m.\u001b[0m\u001b[0mdataset\u001b[0m \u001b[0;32mimport\u001b[0m \u001b[0mtransfrom_images\u001b[0m\u001b[0;34m,\u001b[0m \u001b[0mload_tfrecord_dataset\u001b[0m\u001b[0;34m\u001b[0m\u001b[0;34m\u001b[0m\u001b[0m\n\u001b[0m\u001b[1;32m     10\u001b[0m \u001b[0;32mfrom\u001b[0m \u001b[0myolov3_tf2\u001b[0m\u001b[0;34m.\u001b[0m\u001b[0mutils\u001b[0m \u001b[0;32mimport\u001b[0m \u001b[0mdraw_outputs\u001b[0m\u001b[0;34m\u001b[0m\u001b[0;34m\u001b[0m\u001b[0m\n",
            "\u001b[0;31mImportError\u001b[0m: cannot import name 'transfrom_images' from 'yolov3_tf2.dataset' (/content/yolov3-tf2/yolov3_tf2/dataset.py)",
            "",
            "\u001b[0;31m---------------------------------------------------------------------------\u001b[0;32m\nNOTE: If your import is failing due to a missing package, you can\nmanually install dependencies using either !pip or !apt.\n\nTo view examples of installing some common dependencies, click the\n\"Open Examples\" button below.\n\u001b[0;31m---------------------------------------------------------------------------\u001b[0m\n"
          ],
          "errorDetails": {
            "actions": [
              {
                "action": "open_url",
                "actionText": "Open Examples",
                "url": "/notebooks/snippets/importing_libraries.ipynb"
              }
            ]
          }
        }
      ]
    },
    {
      "cell_type": "code",
      "source": [
        "ls"
      ],
      "metadata": {
        "id": "bJ8HYeEeYFJ6",
        "outputId": "02dc3d9b-6146-4a2b-ad2e-4da51c1774cc",
        "colab": {
          "base_uri": "https://localhost:8080/"
        }
      },
      "execution_count": 10,
      "outputs": [
        {
          "output_type": "stream",
          "name": "stdout",
          "text": [
            "\u001b[0m\u001b[01;34mcheckpoints\u001b[0m/     \u001b[01;34mdata\u001b[0m/            README.md             train.py\n",
            "colab_gpu.ipynb  detect.py        requirements-gpu.txt  \u001b[01;34myolov3_tf2\u001b[0m/\n",
            "conda-cpu.yml    detect_video.py  requirements.txt      \u001b[01;34myolov3-tf2\u001b[0m/\n",
            "conda-gpu.yml    \u001b[01;34mdocs\u001b[0m/            setup.py              \u001b[01;34myolov3_tf2.egg-info\u001b[0m/\n",
            "convert.py       LICENSE          \u001b[01;34mtools\u001b[0m/\n"
          ]
        }
      ]
    },
    {
      "cell_type": "markdown",
      "metadata": {
        "id": "0qBaqsEG41l_"
      },
      "source": [
        "## Detect Image"
      ]
    },
    {
      "cell_type": "code",
      "metadata": {
        "id": "LbPOCGuxx-2t"
      },
      "source": [
        ""
      ],
      "execution_count": null,
      "outputs": []
    },
    {
      "cell_type": "code",
      "metadata": {
        "id": "Hsa4Dklsx-0_"
      },
      "source": [
        ""
      ],
      "execution_count": null,
      "outputs": []
    },
    {
      "cell_type": "code",
      "metadata": {
        "id": "pkvDwZsux-yN"
      },
      "source": [
        ""
      ],
      "execution_count": null,
      "outputs": []
    },
    {
      "cell_type": "code",
      "metadata": {
        "id": "CfKcTD_Ax-v7"
      },
      "source": [
        ""
      ],
      "execution_count": null,
      "outputs": []
    },
    {
      "cell_type": "markdown",
      "metadata": {
        "id": "oLr782wcsFVT"
      },
      "source": [
        "# YOLOv3 inference 연습 : Pytorch \n",
        "\n",
        "- video inference\n",
        "- 코드 참조 : https://towardsdatascience.com/yolov3-pytorch-on-google-colab-c4a79eeecdea\n",
        "- https://github.com/ultralytics/yolov3"
      ]
    },
    {
      "cell_type": "markdown",
      "metadata": {
        "id": "yK71PKqk4aTH"
      },
      "source": [
        "## Prepare YOLOv3-pytorch"
      ]
    },
    {
      "cell_type": "code",
      "metadata": {
        "id": "HrC5-LmG3F6E"
      },
      "source": [
        ""
      ],
      "execution_count": null,
      "outputs": []
    },
    {
      "cell_type": "code",
      "metadata": {
        "id": "tgl_VY_Tq97I"
      },
      "source": [
        ""
      ],
      "execution_count": null,
      "outputs": []
    },
    {
      "cell_type": "code",
      "metadata": {
        "id": "R897GokLq95E"
      },
      "source": [
        ""
      ],
      "execution_count": null,
      "outputs": []
    },
    {
      "cell_type": "code",
      "metadata": {
        "id": "1NfJM0tw3TFa"
      },
      "source": [
        ""
      ],
      "execution_count": null,
      "outputs": []
    },
    {
      "cell_type": "code",
      "metadata": {
        "id": "Mrlt91dYq915"
      },
      "source": [
        ""
      ],
      "execution_count": null,
      "outputs": []
    },
    {
      "cell_type": "code",
      "metadata": {
        "id": "T0lpUVOdq9zn"
      },
      "source": [
        ""
      ],
      "execution_count": null,
      "outputs": []
    },
    {
      "cell_type": "code",
      "metadata": {
        "id": "fbUVelkiszUD"
      },
      "source": [
        ""
      ],
      "execution_count": null,
      "outputs": []
    },
    {
      "cell_type": "code",
      "metadata": {
        "id": "wwhHYatUq9xx"
      },
      "source": [
        ""
      ],
      "execution_count": null,
      "outputs": []
    },
    {
      "cell_type": "markdown",
      "metadata": {
        "id": "PlEcyGxh3iOI"
      },
      "source": [
        "## Git clone to get short videos\n",
        "\n",
        "- https://github.com/vindruid/yolov3-in-colab.git"
      ]
    },
    {
      "cell_type": "code",
      "metadata": {
        "id": "WoslGlSkq9vo"
      },
      "source": [
        ""
      ],
      "execution_count": null,
      "outputs": []
    },
    {
      "cell_type": "markdown",
      "metadata": {
        "id": "pRqM_huM3pIS"
      },
      "source": [
        "## Process Video"
      ]
    },
    {
      "cell_type": "code",
      "metadata": {
        "id": "WNVhPZ0Jq9s5"
      },
      "source": [
        ""
      ],
      "execution_count": null,
      "outputs": []
    },
    {
      "cell_type": "code",
      "metadata": {
        "id": "LC2axiin3nja"
      },
      "source": [
        ""
      ],
      "execution_count": null,
      "outputs": []
    },
    {
      "cell_type": "code",
      "metadata": {
        "id": "IUldkiZA3wQt"
      },
      "source": [
        ""
      ],
      "execution_count": null,
      "outputs": []
    },
    {
      "cell_type": "code",
      "metadata": {
        "id": "EflrkImk3rqF"
      },
      "source": [
        ""
      ],
      "execution_count": null,
      "outputs": []
    },
    {
      "cell_type": "code",
      "metadata": {
        "id": "gd4cy_Gd30gu"
      },
      "source": [
        ""
      ],
      "execution_count": null,
      "outputs": []
    },
    {
      "cell_type": "markdown",
      "metadata": {
        "id": "39Nk92gJ5a4J"
      },
      "source": [
        "- Custom Data Train 참고\n",
        "\n",
        "  - https://github.com/AntonMu/TrainYourOwnYOLO"
      ]
    }
  ]
}